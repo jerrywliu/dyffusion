{
 "cells": [
  {
   "cell_type": "code",
   "execution_count": 1,
   "id": "e232f9ba-c842-45fb-b9b4-e9a2c92a8e0e",
   "metadata": {
    "tags": []
   },
   "outputs": [],
   "source": [
    "# Imports\n",
    "from einops import rearrange, einsum\n",
    "import math\n",
    "import matplotlib.pyplot as plt\n",
    "import numpy as np\n",
    "import torch\n",
    "import torch.nn as nn\n",
    "from torch.nn import functional as F\n",
    "\n",
    "import sys, os\n",
    "\n",
    "sys.path.append(\"/pscratch/sd/j/jwl50/dyffusion\")"
   ]
  },
  {
   "cell_type": "code",
   "execution_count": 2,
   "id": "93e717dd-6d96-4297-a81a-cc77b53ebf11",
   "metadata": {
    "tags": []
   },
   "outputs": [
    {
     "name": "stderr",
     "output_type": "stream",
     "text": [
      "/tmp/ipykernel_1165099/2992083366.py:1: FutureWarning: You are using `torch.load` with `weights_only=False` (the current default value), which uses the default pickle module implicitly. It is possible to construct malicious pickle data which will execute arbitrary code during unpickling (See https://github.com/pytorch/pytorch/blob/main/SECURITY.md#untrusted-models for more details). In a future release, the default value for `weights_only` will be flipped to `True`. This limits the functions that could be executed during unpickling. Arbitrary objects will no longer be allowed to be loaded via this mode unless they are explicitly allowlisted by the user via `torch.serialization.add_safe_globals`. We recommend you start setting `weights_only=True` for any use case where you don't have full control of the loaded file. Please open an issue on GitHub for any issues related to this experimental feature.\n",
      "  model = torch.load(\"/pscratch/sd/j/jwl50/dyffusion/results/checkpoints/30020382/last copy.ckpt\")\n"
     ]
    }
   ],
   "source": [
    "model = torch.load(\"/pscratch/sd/j/jwl50/dyffusion/results/checkpoints/30020382/last copy.ckpt\")"
   ]
  },
  {
   "cell_type": "code",
   "execution_count": 4,
   "id": "d66193d9-4a44-4484-a134-c7b60ad6fafa",
   "metadata": {},
   "outputs": [
    {
     "name": "stderr",
     "output_type": "stream",
     "text": [
      "/tmp/ipykernel_1165099/1726086179.py:1: FutureWarning: You are using `torch.load` with `weights_only=False` (the current default value), which uses the default pickle module implicitly. It is possible to construct malicious pickle data which will execute arbitrary code during unpickling (See https://github.com/pytorch/pytorch/blob/main/SECURITY.md#untrusted-models for more details). In a future release, the default value for `weights_only` will be flipped to `True`. This limits the functions that could be executed during unpickling. Arbitrary objects will no longer be allowed to be loaded via this mode unless they are explicitly allowlisted by the user via `torch.serialization.add_safe_globals`. We recommend you start setting `weights_only=True` for any use case where you don't have full control of the loaded file. Please open an issue on GitHub for any issues related to this experimental feature.\n",
      "  model = torch.load(\"/pscratch/sd/j/jwl50/dyffusion/results/checkpoints/30020382/nstk-MH16-DYffusion_None_epoch055_seed11 copy.ckpt\")\n"
     ]
    }
   ],
   "source": [
    "model = torch.load(\"/pscratch/sd/j/jwl50/dyffusion/results/checkpoints/30020382/nstk-MH16-DYffusion_None_epoch055_seed11 copy.ckpt\")"
   ]
  },
  {
   "cell_type": "code",
   "execution_count": 2,
   "id": "ec63dce2-0811-4378-8fc9-53c4e15f2f96",
   "metadata": {
    "tags": []
   },
   "outputs": [
    {
     "name": "stderr",
     "output_type": "stream",
     "text": [
      "/pscratch/sd/j/jwl50/conda/dyffusion/lib/python3.9/site-packages/torchvision-0.15.2a0+fa99a53-py3.9-linux-x86_64.egg/torchvision/io/image.py:13: UserWarning: Failed to load image Python extension: 'libnvjpeg.so.11: cannot open shared object file: No such file or directory'If you don't plan on using image functionality from `torchvision.io`, you can ignore this warning. Otherwise, there might be something wrong with your environment. Did you have `libjpeg` or `libpng` installed before building `torchvision` from source?\n",
      "  warn(\n",
      "/pscratch/sd/j/jwl50/conda/dyffusion/lib/python3.9/site-packages/pandas/core/arrays/masked.py:60: UserWarning: Pandas requires version '1.3.6' or newer of 'bottleneck' (version '1.3.5' currently installed).\n",
      "  from pandas.core import (\n"
     ]
    }
   ],
   "source": [
    "from src.interface import get_model_and_data"
   ]
  },
  {
   "cell_type": "code",
   "execution_count": 3,
   "id": "ef723bfe-173f-4bde-a41c-7749a81e40a2",
   "metadata": {
    "tags": []
   },
   "outputs": [
    {
     "name": "stdout",
     "output_type": "stream",
     "text": [
      "{'work_dir': './results', 'ckpt_dir': '${work_dir}/checkpoints/', 'log_dir': '${work_dir}/logs/', 'print_config': True, 'ignore_warnings': True, 'test_after_training': False, 'ckpt_path': None, 'save_config_to_wandb': True, 'verbose': True, 'seed': 11, 'torch_matmul_precision': 'high', 'name': 'nstk-MH${datamodule.horizon}-DYffusion', 'name_suffix': None, 'suffix': None, 'trainer': {'_target_': 'pytorch_lightning.Trainer', 'accelerator': 'gpu', 'devices': 'auto', 'strategy': 'auto', 'min_epochs': 1, 'max_epochs': 100, 'gradient_clip_val': 1.0, 'accumulate_grad_batches': 2, 'precision': 32, 'num_sanity_val_steps': 1, 'val_check_interval': 1.0, 'deterministic': False}, 'model': {'name': '', 'verbose': '${verbose}', 'loss_function': '${diffusion.loss_function}', 'num_conditional_channels': 0, '_target_': 'src.models.unet_simple.UNet', 'dim': 256, 'outer_sample_mode': 'bilinear', 'upsample_dims': [256, 256], 'with_time_emb': True, 'input_dropout': 0.0, 'dropout': 0.15}, 'diffusion': {'timesteps': '${datamodule.horizon}', 'sampling_timesteps': None, 'loss_function': 'l1', '_target_': 'src.diffusion.dyffusion.DYffusion', 'interpolator': None, 'interpolator_run_id': '29815130', 'interpolator_wandb_ckpt_filename': 'best-val_20ens_mems_ipol_avg_crps.ckpt', 'interpolator_local_checkpoint_path': None, 'lambda_reconstruction': 0.5, 'lambda_reconstruction2': 0.5, 'forward_conditioning': 'none', 'schedule': 'before_t1_only', 'additional_interpolation_steps': 0, 'additional_interpolation_steps_factor': 0, 'interpolate_before_t1': True, 'time_encoding': 'dynamics', 'enable_interpolator_dropout': True, 'sampling_type': 'cold', 'sampling_schedule': None, 'refine_intermediate_predictions': True, 'log_every_t': None}, 'datamodule': {'data_dir': '/global/cfs/cdirs/m4633/foundationmodel/nskt_tensor', 'batch_size': 4, 'eval_batch_size': 1, 'num_workers': 4, 'pin_memory': True, 'drop_last': False, 'verbose': '${verbose}', 'window': 1, 'horizon': 16, '_target_': 'src.datamodules.nstk_infinite.NSTKInfiniteDataModule', 'physical_system': 'nstk', 'prediction_horizon': 16, 'size': 8192, 'multi_horizon': True}, 'module': {'optimizer': {'name': 'adamw', 'lr': 0.0003, 'weight_decay': 0.0001, 'eps': 1e-08, 'betas': [0.9, 0.99]}, 'monitor': 'val/${module.num_predictions}ens_mems/avg/crps', 'mode': 'min', 'use_ema': False, 'ema_decay': 0.9999, 'enable_inference_dropout': None, 'num_predictions': 20, 'prediction_inputs_noise': 0.0, 'logging_infix': '', 'verbose': '${verbose}', 'seed': '${seed}', 'autoregressive_steps': 0, 'prediction_timesteps': None, '_target_': 'src.experiment_types.forecasting_multi_horizon.MultiHorizonForecastingDYffusion'}, 'callbacks': {'model_checkpoint': {'_target_': 'pytorch_lightning.callbacks.ModelCheckpoint', 'monitor': '${module.monitor}', 'mode': '${module.mode}', 'save_top_k': 1, 'save_last': True, 'verbose': '${verbose}', 'dirpath': '${ckpt_dir}', 'filename': '${name}_${name_suffix}_epoch{epoch:03d}_seed${seed}', 'auto_insert_metric_name': False}, 'early_stopping': None, 'watch_model': {'_target_': 'src.utilities.wandb_callbacks.WatchModel', 'log': 'all', 'log_freq': 500}, 'summarize_best_val_metric': {'_target_': 'src.utilities.wandb_callbacks.SummarizeBestValMetric'}, 'learning_rate_logging': {'_target_': 'pytorch_lightning.callbacks.LearningRateMonitor'}}, 'logger': {'wandb': {'_target_': 'src.utilities.wandb_callbacks.MyWandbLogger', 'entity': None, 'name': None, 'tags': ['pb', 'nstk', 'dyffusion'], 'notes': '...', 'project': 'DYffusion-nstk', 'group': '', 'resume': 'allow', 'reinit': True, 'mode': 'online', 'save_dir': '${work_dir}/', 'offline': False, 'id': None, 'log_model': False, 'prefix': ''}}, 'experiment_mode': True}\n"
     ]
    }
   ],
   "source": [
    "import os\n",
    "from omegaconf import DictConfig\n",
    "import hydra\n",
    "from hydra import initialize, compose\n",
    "\n",
    "hydra.core.global_hydra.GlobalHydra.instance().clear()\n",
    "# Ensure that Hydra doesn't change the working directory\n",
    "initialize(config_path=\"src/configs\", job_name=\"jupyter_notebook\", version_base=None)\n",
    "\n",
    "# Compose the config without running the main function\n",
    "config = compose(config_name=\"main_config.yaml\", overrides=[\"experiment=nstk_dyffusion\", \"logger.wandb.project=DYffusion-nstk\"])\n",
    "\n",
    "# Print or inspect the config\n",
    "print(config)"
   ]
  },
  {
   "cell_type": "code",
   "execution_count": 4,
   "id": "1664e387-6e88-49c9-934f-28350ad78ce7",
   "metadata": {
    "tags": []
   },
   "outputs": [
    {
     "name": "stderr",
     "output_type": "stream",
     "text": [
      "/pscratch/sd/j/jwl50/dyffusion/src/interface.py:155: FutureWarning: You are using `torch.load` with `weights_only=False` (the current default value), which uses the default pickle module implicitly. It is possible to construct malicious pickle data which will execute arbitrary code during unpickling (See https://github.com/pytorch/pytorch/blob/main/SECURITY.md#untrusted-models for more details). In a future release, the default value for `weights_only` will be flipped to `True`. This limits the functions that could be executed during unpickling. Arbitrary objects will no longer be allowed to be loaded via this mode unless they are explicitly allowlisted by the user via `torch.serialization.add_safe_globals`. We recommend you start setting `weights_only=True` for any use case where you don't have full control of the loaded file. Please open an issue on GitHub for any issues related to this experimental feature.\n",
      "  model_state = torch.load(model_path, map_location=device)\n"
     ]
    }
   ],
   "source": [
    "model, datamodule = get_model_and_data(config)"
   ]
  },
  {
   "cell_type": "code",
   "execution_count": 5,
   "id": "1e2d724f-1a27-4f31-993e-7b8882a8353c",
   "metadata": {
    "tags": []
   },
   "outputs": [
    {
     "data": {
      "text/plain": [
       "MultiHorizonForecastingDYffusion(\n",
       "  (model): DYffusion(\n",
       "    (criterion): L1Loss()\n",
       "    (model): UNet(\n",
       "      (criterion): L1Loss()\n",
       "      (upsampler): Upsample(size=(256, 256), mode='bilinear')\n",
       "      (time_emb_mlp): Sequential(\n",
       "        (0): SinusoidalPosEmb()\n",
       "        (1): Linear(in_features=256, out_features=512, bias=True)\n",
       "        (2): GELU(approximate='none')\n",
       "        (3): Linear(in_features=512, out_features=512, bias=True)\n",
       "      )\n",
       "      (init_conv): Conv2d(1, 256, kernel_size=(1, 1), stride=(1, 1))\n",
       "      (dropout_input): Dropout(p=0.0, inplace=False)\n",
       "      (input_ops): ModuleList(\n",
       "        (0): UNetBlock(\n",
       "          (time_mlp): Sequential(\n",
       "            (0): SiLU()\n",
       "            (1): Linear(in_features=512, out_features=1024, bias=True)\n",
       "          )\n",
       "          (ops): Sequential(\n",
       "            (0): Conv2d(256, 512, kernel_size=(4, 4), stride=(2, 2), padding=(1, 1))\n",
       "            (1): BatchNorm2d(512, eps=1e-05, momentum=0.1, affine=True, track_running_stats=True)\n",
       "          )\n",
       "          (act): LeakyReLU(negative_slope=0.2)\n",
       "          (dropout): Dropout(p=0.15, inplace=False)\n",
       "        )\n",
       "        (1): UNetBlock(\n",
       "          (time_mlp): Sequential(\n",
       "            (0): SiLU()\n",
       "            (1): Linear(in_features=512, out_features=1024, bias=True)\n",
       "          )\n",
       "          (ops): Sequential(\n",
       "            (0): Conv2d(512, 512, kernel_size=(4, 4), stride=(2, 2), padding=(1, 1))\n",
       "            (1): BatchNorm2d(512, eps=1e-05, momentum=0.1, affine=True, track_running_stats=True)\n",
       "          )\n",
       "          (act): LeakyReLU(negative_slope=0.2)\n",
       "          (dropout): Dropout(p=0.15, inplace=False)\n",
       "        )\n",
       "        (2): UNetBlock(\n",
       "          (time_mlp): Sequential(\n",
       "            (0): SiLU()\n",
       "            (1): Linear(in_features=512, out_features=2048, bias=True)\n",
       "          )\n",
       "          (ops): Sequential(\n",
       "            (0): Conv2d(512, 1024, kernel_size=(4, 4), stride=(2, 2), padding=(1, 1))\n",
       "            (1): BatchNorm2d(1024, eps=1e-05, momentum=0.1, affine=True, track_running_stats=True)\n",
       "          )\n",
       "          (act): LeakyReLU(negative_slope=0.2)\n",
       "          (dropout): Dropout(p=0.15, inplace=False)\n",
       "        )\n",
       "        (3): UNetBlock(\n",
       "          (time_mlp): Sequential(\n",
       "            (0): SiLU()\n",
       "            (1): Linear(in_features=512, out_features=4096, bias=True)\n",
       "          )\n",
       "          (ops): Sequential(\n",
       "            (0): Conv2d(1024, 2048, kernel_size=(4, 4), stride=(2, 2), padding=(1, 1))\n",
       "            (1): BatchNorm2d(2048, eps=1e-05, momentum=0.1, affine=True, track_running_stats=True)\n",
       "          )\n",
       "          (act): LeakyReLU(negative_slope=0.2)\n",
       "          (dropout): Dropout(p=0.15, inplace=False)\n",
       "        )\n",
       "        (4): UNetBlock(\n",
       "          (time_mlp): Sequential(\n",
       "            (0): SiLU()\n",
       "            (1): Linear(in_features=512, out_features=4096, bias=True)\n",
       "          )\n",
       "          (ops): Sequential(\n",
       "            (0): Conv2d(2048, 2048, kernel_size=(2, 2), stride=(2, 2))\n",
       "            (1): BatchNorm2d(2048, eps=1e-05, momentum=0.1, affine=True, track_running_stats=True)\n",
       "          )\n",
       "          (act): LeakyReLU(negative_slope=0.2)\n",
       "          (dropout): Dropout(p=0.15, inplace=False)\n",
       "        )\n",
       "        (5): UNetBlock(\n",
       "          (time_mlp): Sequential(\n",
       "            (0): SiLU()\n",
       "            (1): Linear(in_features=512, out_features=4096, bias=True)\n",
       "          )\n",
       "          (ops): Sequential(\n",
       "            (0): Conv2d(2048, 2048, kernel_size=(2, 2), stride=(2, 2))\n",
       "            (1): GroupNorm(8, 2048, eps=1e-05, affine=True)\n",
       "          )\n",
       "          (act): LeakyReLU(negative_slope=0.2)\n",
       "          (dropout): Dropout(p=0.15, inplace=False)\n",
       "        )\n",
       "      )\n",
       "      (output_ops): ModuleList(\n",
       "        (0): UNetBlock(\n",
       "          (time_mlp): Sequential(\n",
       "            (0): SiLU()\n",
       "            (1): Linear(in_features=512, out_features=4096, bias=True)\n",
       "          )\n",
       "          (ops): Sequential(\n",
       "            (0): Upsample(scale_factor=2.0, mode='bilinear')\n",
       "            (1): Conv2d(2048, 2048, kernel_size=(1, 1), stride=(1, 1))\n",
       "            (2): BatchNorm2d(2048, eps=1e-05, momentum=0.1, affine=True, track_running_stats=True)\n",
       "          )\n",
       "          (act): ReLU()\n",
       "          (dropout): Dropout(p=0.15, inplace=False)\n",
       "        )\n",
       "        (1): UNetBlock(\n",
       "          (time_mlp): Sequential(\n",
       "            (0): SiLU()\n",
       "            (1): Linear(in_features=512, out_features=4096, bias=True)\n",
       "          )\n",
       "          (ops): Sequential(\n",
       "            (0): Upsample(scale_factor=2.0, mode='bilinear')\n",
       "            (1): Conv2d(4096, 2048, kernel_size=(1, 1), stride=(1, 1))\n",
       "            (2): BatchNorm2d(2048, eps=1e-05, momentum=0.1, affine=True, track_running_stats=True)\n",
       "          )\n",
       "          (act): ReLU()\n",
       "          (dropout): Dropout(p=0.15, inplace=False)\n",
       "        )\n",
       "        (2): UNetBlock(\n",
       "          (time_mlp): Sequential(\n",
       "            (0): SiLU()\n",
       "            (1): Linear(in_features=512, out_features=2048, bias=True)\n",
       "          )\n",
       "          (ops): Sequential(\n",
       "            (0): Upsample(scale_factor=2.0, mode='bilinear')\n",
       "            (1): Conv2d(4096, 1024, kernel_size=(3, 3), stride=(1, 1), padding=(1, 1))\n",
       "            (2): BatchNorm2d(1024, eps=1e-05, momentum=0.1, affine=True, track_running_stats=True)\n",
       "          )\n",
       "          (act): ReLU()\n",
       "          (dropout): Dropout(p=0.15, inplace=False)\n",
       "        )\n",
       "        (3): UNetBlock(\n",
       "          (time_mlp): Sequential(\n",
       "            (0): SiLU()\n",
       "            (1): Linear(in_features=512, out_features=1024, bias=True)\n",
       "          )\n",
       "          (ops): Sequential(\n",
       "            (0): Upsample(scale_factor=2.0, mode='bilinear')\n",
       "            (1): Conv2d(2048, 512, kernel_size=(3, 3), stride=(1, 1), padding=(1, 1))\n",
       "            (2): BatchNorm2d(512, eps=1e-05, momentum=0.1, affine=True, track_running_stats=True)\n",
       "          )\n",
       "          (act): ReLU()\n",
       "          (dropout): Dropout(p=0.15, inplace=False)\n",
       "        )\n",
       "        (4): UNetBlock(\n",
       "          (time_mlp): Sequential(\n",
       "            (0): SiLU()\n",
       "            (1): Linear(in_features=512, out_features=1024, bias=True)\n",
       "          )\n",
       "          (ops): Sequential(\n",
       "            (0): Upsample(scale_factor=2.0, mode='bilinear')\n",
       "            (1): Conv2d(1024, 512, kernel_size=(3, 3), stride=(1, 1), padding=(1, 1))\n",
       "            (2): BatchNorm2d(512, eps=1e-05, momentum=0.1, affine=True, track_running_stats=True)\n",
       "          )\n",
       "          (act): ReLU()\n",
       "          (dropout): Dropout(p=0.15, inplace=False)\n",
       "        )\n",
       "        (5): UNetBlock(\n",
       "          (time_mlp): Sequential(\n",
       "            (0): SiLU()\n",
       "            (1): Linear(in_features=512, out_features=512, bias=True)\n",
       "          )\n",
       "          (ops): Sequential(\n",
       "            (0): Upsample(scale_factor=2.0, mode='bilinear')\n",
       "            (1): Conv2d(1024, 256, kernel_size=(3, 3), stride=(1, 1), padding=(1, 1))\n",
       "            (2): BatchNorm2d(256, eps=1e-05, momentum=0.1, affine=True, track_running_stats=True)\n",
       "          )\n",
       "          (act): ReLU()\n",
       "          (dropout): Dropout(p=0.15, inplace=False)\n",
       "        )\n",
       "      )\n",
       "      (readout): Sequential(\n",
       "        (0): ConvTranspose2d(256, 1, kernel_size=(4, 4), stride=(2, 2), padding=(1, 1))\n",
       "      )\n",
       "    )\n",
       "    (interpolator): InterpolationExperiment(\n",
       "      (model): UNet(\n",
       "        (criterion): MSELoss()\n",
       "        (upsampler): Upsample(size=(256, 256), mode='bilinear')\n",
       "        (time_emb_mlp): Sequential(\n",
       "          (0): SinusoidalPosEmb()\n",
       "          (1): Linear(in_features=256, out_features=512, bias=True)\n",
       "          (2): GELU(approximate='none')\n",
       "          (3): Linear(in_features=512, out_features=512, bias=True)\n",
       "        )\n",
       "        (init_conv): Conv2d(2, 256, kernel_size=(1, 1), stride=(1, 1))\n",
       "        (dropout_input): Dropout(p=0.0, inplace=False)\n",
       "        (input_ops): ModuleList(\n",
       "          (0): UNetBlock(\n",
       "            (time_mlp): Sequential(\n",
       "              (0): SiLU()\n",
       "              (1): Linear(in_features=512, out_features=1024, bias=True)\n",
       "            )\n",
       "            (ops): Sequential(\n",
       "              (0): Conv2d(256, 512, kernel_size=(4, 4), stride=(2, 2), padding=(1, 1))\n",
       "              (1): BatchNorm2d(512, eps=1e-05, momentum=0.1, affine=True, track_running_stats=True)\n",
       "            )\n",
       "            (act): LeakyReLU(negative_slope=0.2)\n",
       "            (dropout): Dropout(p=0.15, inplace=False)\n",
       "          )\n",
       "          (1): UNetBlock(\n",
       "            (time_mlp): Sequential(\n",
       "              (0): SiLU()\n",
       "              (1): Linear(in_features=512, out_features=1024, bias=True)\n",
       "            )\n",
       "            (ops): Sequential(\n",
       "              (0): Conv2d(512, 512, kernel_size=(4, 4), stride=(2, 2), padding=(1, 1))\n",
       "              (1): BatchNorm2d(512, eps=1e-05, momentum=0.1, affine=True, track_running_stats=True)\n",
       "            )\n",
       "            (act): LeakyReLU(negative_slope=0.2)\n",
       "            (dropout): Dropout(p=0.15, inplace=False)\n",
       "          )\n",
       "          (2): UNetBlock(\n",
       "            (time_mlp): Sequential(\n",
       "              (0): SiLU()\n",
       "              (1): Linear(in_features=512, out_features=2048, bias=True)\n",
       "            )\n",
       "            (ops): Sequential(\n",
       "              (0): Conv2d(512, 1024, kernel_size=(4, 4), stride=(2, 2), padding=(1, 1))\n",
       "              (1): BatchNorm2d(1024, eps=1e-05, momentum=0.1, affine=True, track_running_stats=True)\n",
       "            )\n",
       "            (act): LeakyReLU(negative_slope=0.2)\n",
       "            (dropout): Dropout(p=0.15, inplace=False)\n",
       "          )\n",
       "          (3): UNetBlock(\n",
       "            (time_mlp): Sequential(\n",
       "              (0): SiLU()\n",
       "              (1): Linear(in_features=512, out_features=4096, bias=True)\n",
       "            )\n",
       "            (ops): Sequential(\n",
       "              (0): Conv2d(1024, 2048, kernel_size=(4, 4), stride=(2, 2), padding=(1, 1))\n",
       "              (1): BatchNorm2d(2048, eps=1e-05, momentum=0.1, affine=True, track_running_stats=True)\n",
       "            )\n",
       "            (act): LeakyReLU(negative_slope=0.2)\n",
       "            (dropout): Dropout(p=0.15, inplace=False)\n",
       "          )\n",
       "          (4): UNetBlock(\n",
       "            (time_mlp): Sequential(\n",
       "              (0): SiLU()\n",
       "              (1): Linear(in_features=512, out_features=4096, bias=True)\n",
       "            )\n",
       "            (ops): Sequential(\n",
       "              (0): Conv2d(2048, 2048, kernel_size=(2, 2), stride=(2, 2))\n",
       "              (1): BatchNorm2d(2048, eps=1e-05, momentum=0.1, affine=True, track_running_stats=True)\n",
       "            )\n",
       "            (act): LeakyReLU(negative_slope=0.2)\n",
       "            (dropout): Dropout(p=0.15, inplace=False)\n",
       "          )\n",
       "          (5): UNetBlock(\n",
       "            (time_mlp): Sequential(\n",
       "              (0): SiLU()\n",
       "              (1): Linear(in_features=512, out_features=4096, bias=True)\n",
       "            )\n",
       "            (ops): Sequential(\n",
       "              (0): Conv2d(2048, 2048, kernel_size=(2, 2), stride=(2, 2))\n",
       "              (1): GroupNorm(8, 2048, eps=1e-05, affine=True)\n",
       "            )\n",
       "            (act): LeakyReLU(negative_slope=0.2)\n",
       "            (dropout): Dropout(p=0.15, inplace=False)\n",
       "          )\n",
       "        )\n",
       "        (output_ops): ModuleList(\n",
       "          (0): UNetBlock(\n",
       "            (time_mlp): Sequential(\n",
       "              (0): SiLU()\n",
       "              (1): Linear(in_features=512, out_features=4096, bias=True)\n",
       "            )\n",
       "            (ops): Sequential(\n",
       "              (0): Upsample(scale_factor=2.0, mode='bilinear')\n",
       "              (1): Conv2d(2048, 2048, kernel_size=(1, 1), stride=(1, 1))\n",
       "              (2): BatchNorm2d(2048, eps=1e-05, momentum=0.1, affine=True, track_running_stats=True)\n",
       "            )\n",
       "            (act): ReLU()\n",
       "            (dropout): Dropout(p=0.15, inplace=False)\n",
       "          )\n",
       "          (1): UNetBlock(\n",
       "            (time_mlp): Sequential(\n",
       "              (0): SiLU()\n",
       "              (1): Linear(in_features=512, out_features=4096, bias=True)\n",
       "            )\n",
       "            (ops): Sequential(\n",
       "              (0): Upsample(scale_factor=2.0, mode='bilinear')\n",
       "              (1): Conv2d(4096, 2048, kernel_size=(1, 1), stride=(1, 1))\n",
       "              (2): BatchNorm2d(2048, eps=1e-05, momentum=0.1, affine=True, track_running_stats=True)\n",
       "            )\n",
       "            (act): ReLU()\n",
       "            (dropout): Dropout(p=0.15, inplace=False)\n",
       "          )\n",
       "          (2): UNetBlock(\n",
       "            (time_mlp): Sequential(\n",
       "              (0): SiLU()\n",
       "              (1): Linear(in_features=512, out_features=2048, bias=True)\n",
       "            )\n",
       "            (ops): Sequential(\n",
       "              (0): Upsample(scale_factor=2.0, mode='bilinear')\n",
       "              (1): Conv2d(4096, 1024, kernel_size=(3, 3), stride=(1, 1), padding=(1, 1))\n",
       "              (2): BatchNorm2d(1024, eps=1e-05, momentum=0.1, affine=True, track_running_stats=True)\n",
       "            )\n",
       "            (act): ReLU()\n",
       "            (dropout): Dropout(p=0.15, inplace=False)\n",
       "          )\n",
       "          (3): UNetBlock(\n",
       "            (time_mlp): Sequential(\n",
       "              (0): SiLU()\n",
       "              (1): Linear(in_features=512, out_features=1024, bias=True)\n",
       "            )\n",
       "            (ops): Sequential(\n",
       "              (0): Upsample(scale_factor=2.0, mode='bilinear')\n",
       "              (1): Conv2d(2048, 512, kernel_size=(3, 3), stride=(1, 1), padding=(1, 1))\n",
       "              (2): BatchNorm2d(512, eps=1e-05, momentum=0.1, affine=True, track_running_stats=True)\n",
       "            )\n",
       "            (act): ReLU()\n",
       "            (dropout): Dropout(p=0.15, inplace=False)\n",
       "          )\n",
       "          (4): UNetBlock(\n",
       "            (time_mlp): Sequential(\n",
       "              (0): SiLU()\n",
       "              (1): Linear(in_features=512, out_features=1024, bias=True)\n",
       "            )\n",
       "            (ops): Sequential(\n",
       "              (0): Upsample(scale_factor=2.0, mode='bilinear')\n",
       "              (1): Conv2d(1024, 512, kernel_size=(3, 3), stride=(1, 1), padding=(1, 1))\n",
       "              (2): BatchNorm2d(512, eps=1e-05, momentum=0.1, affine=True, track_running_stats=True)\n",
       "            )\n",
       "            (act): ReLU()\n",
       "            (dropout): Dropout(p=0.15, inplace=False)\n",
       "          )\n",
       "          (5): UNetBlock(\n",
       "            (time_mlp): Sequential(\n",
       "              (0): SiLU()\n",
       "              (1): Linear(in_features=512, out_features=512, bias=True)\n",
       "            )\n",
       "            (ops): Sequential(\n",
       "              (0): Upsample(scale_factor=2.0, mode='bilinear')\n",
       "              (1): Conv2d(1024, 256, kernel_size=(3, 3), stride=(1, 1), padding=(1, 1))\n",
       "              (2): BatchNorm2d(256, eps=1e-05, momentum=0.1, affine=True, track_running_stats=True)\n",
       "            )\n",
       "            (act): ReLU()\n",
       "            (dropout): Dropout(p=0.15, inplace=False)\n",
       "          )\n",
       "        )\n",
       "        (readout): Sequential(\n",
       "          (0): ConvTranspose2d(256, 1, kernel_size=(4, 4), stride=(2, 2), padding=(1, 1))\n",
       "        )\n",
       "      )\n",
       "    )\n",
       "  )\n",
       ")"
      ]
     },
     "execution_count": 5,
     "metadata": {},
     "output_type": "execute_result"
    }
   ],
   "source": [
    "model"
   ]
  },
  {
   "cell_type": "code",
   "execution_count": 9,
   "id": "761a5bf2-aadd-4e8f-bf29-006ceadce581",
   "metadata": {
    "tags": []
   },
   "outputs": [],
   "source": [
    "import h5py\n",
    "import numpy as np\n",
    "import torch\n",
    "from einops import rearrange\n",
    "import os\n",
    "\n",
    "class NSTK_FC(torch.utils.data.Dataset):\n",
    "    def __init__(self,\n",
    "                 num_pred_steps=1, \n",
    "                 patch_size=256, \n",
    "                 stride=256,\n",
    "                 step=0,\n",
    "                 Reynolds_number=16000,\n",
    "                 train=False,\n",
    "                 in_domain=False,\n",
    "                scratch_dir='/global/cfs/cdirs/m4633/foundationmodel/nskt_tensor/'):\n",
    "        super(NSTK_FC, self).__init__()\n",
    "        \n",
    "        if in_domain:\n",
    "            self.paths = [\n",
    "                os.path.join(scratch_dir, '1000_2048_2048_seed_2150.h5'),\n",
    "                os.path.join(scratch_dir, '8000_2048_2048_seed_2150.h5'),\n",
    "                os.path.join(scratch_dir, '16000_2048_2048_seed_2150.h5')\n",
    "            ]\n",
    "            self.RN = [1000, 8000, 16000]\n",
    "        else:\n",
    "            self.paths = [\n",
    "                os.path.join(scratch_dir, '1000_2048_2048_seed_3407.h5'),\n",
    "                os.path.join(scratch_dir, '8000_2048_2048_seed_3407.h5'),\n",
    "                os.path.join(scratch_dir, '12000_2048_2048_seed_3407.h5'),\n",
    "                os.path.join(scratch_dir, '16000_2048_2048_seed_3407.h5'),\n",
    "                os.path.join(scratch_dir, '24000_2048_2048_seed_3407.h5'),\n",
    "                os.path.join(scratch_dir, '32000_2048_2048_seed_3407.h5'),\n",
    "                os.path.join(scratch_dir, '36000_2048_2048_seed_3407.h5')\n",
    "            ]\n",
    "            self.RN = [1000, 8000, 12000, 16000, 24000, 32000, 36000]\n",
    "        \n",
    "        self.num_pred_steps = num_pred_steps\n",
    "        self.train = train\n",
    "        self.patch_size = patch_size\n",
    "        self.stride = stride\n",
    "        self.step = step\n",
    "        self.Reynolds_number = Reynolds_number\n",
    "\n",
    "        # Open the appropriate HDF5 file based on Reynolds number\n",
    "        self.dataset = None\n",
    "        for path, rn in zip(self.paths, self.RN):\n",
    "            if self.Reynolds_number == rn:\n",
    "                self.dataset = h5py.File(path, 'r')['w']\n",
    "                self.data_shape = self.dataset.shape\n",
    "                break\n",
    "        \n",
    "        if self.dataset is None:\n",
    "            raise ValueError(f\"Invalid Reynolds_number: {self.Reynolds_number}. Dataset not found.\")\n",
    "        \n",
    "        self.max_row = (self.data_shape[1] - self.patch_size) // self.stride + 1\n",
    "        self.max_col = (self.data_shape[2] - self.patch_size) // self.stride + 1    \n",
    "        self.num_patches_per_image = self.max_row * self.max_col\n",
    "\n",
    "    def __getitem__(self, index):\n",
    "        \n",
    "        index = index * 4 + 1\n",
    "        \n",
    "        # Calculate image and patch indices\n",
    "        num_patches_per_row = self.max_col\n",
    "        image_idx = index // self.num_patches_per_image\n",
    "        patch_idx = index % self.num_patches_per_image\n",
    "        \n",
    "        patch_row = (patch_idx // num_patches_per_row) * self.stride\n",
    "        patch_col = (patch_idx % num_patches_per_row) * self.stride   \n",
    "        \n",
    "        # Select dataset based on Reynolds_number\n",
    "        dataset = self.dataset\n",
    "        shift = self.step\n",
    "        \n",
    "        # Extract the patch and target\n",
    "        X = dataset[image_idx:image_idx+shift+1, patch_row:(patch_row + self.patch_size), patch_col:(patch_col + self.patch_size)]\n",
    "        X = rearrange(X, \"t lat lon -> 1 t 1 lat lon\")\n",
    "        \n",
    "        return {\"dynamics\": torch.tensor(X)}\n",
    "\n",
    "    def __len__(self):\n",
    "        return self.num_patches_per_image * 250  # Adjust this value based on your specific needs\n"
   ]
  },
  {
   "cell_type": "code",
   "execution_count": 10,
   "id": "8bc93cbb-a30d-49de-9f79-4d01b8846154",
   "metadata": {
    "tags": []
   },
   "outputs": [],
   "source": [
    "class Config:\n",
    "    def __init__(\n",
    "        self,\n",
    "        batch_size=128,\n",
    "        mode='forecast',\n",
    "        pred_step=16,\n",
    "        horizon=1,\n",
    "        Reynolds_number=16000,\n",
    "        target_resolution=256,\n",
    "        stride=256,\n",
    "        factor=8,\n",
    "        prediction_type='v',\n",
    "        time_steps=2,\n",
    "        num_pred_steps=3,\n",
    "        base_width=64,\n",
    "        num_samples=16,\n",
    "    ):\n",
    "        self.batch_size = batch_size\n",
    "        self.mode = mode\n",
    "        self.pred_step = pred_step\n",
    "        self.horizon = horizon\n",
    "        self.Reynolds_number = Reynolds_number\n",
    "        self.target_resolution = target_resolution\n",
    "        self.stride = stride\n",
    "        self.factor = factor\n",
    "        self.prediction_type = prediction_type\n",
    "        self.time_steps = time_steps\n",
    "        self.num_pred_steps = num_pred_steps\n",
    "        self.base_width = base_width\n",
    "        self.num_samples = num_samples"
   ]
  },
  {
   "cell_type": "code",
   "execution_count": 24,
   "id": "96f811e2-c870-45d2-812c-10534e334860",
   "metadata": {},
   "outputs": [],
   "source": [
    "#!/usr/bin/env python3\n",
    "# -*- coding: utf-8 -*-\n",
    "\"\"\"\n",
    "Created on Sat Jul 27 13:10:38 2024\n",
    "\n",
    "@author: ben\n",
    "\"\"\"\n",
    "\n",
    "\n",
    "import os\n",
    "import torch\n",
    "\n",
    "\n",
    "import numpy as np\n",
    "\n",
    "#from src.get_data import NSTK_SR as NSTK\n",
    "from torch.utils.data import Dataset, DataLoader\n",
    "\n",
    "import scipy.stats\n",
    "\n",
    "import h5py\n",
    "\n",
    "def evaluate(model, batch_size=32, pred_step=16, Reynolds_number=12000, num_samples=16, stride=1024,):\n",
    "\n",
    "    args = Config(\n",
    "        batch_size=batch_size,\n",
    "        pred_step=pred_step,\n",
    "        Reynolds_number=Reynolds_number,\n",
    "        num_samples=num_samples,\n",
    "        stride=stride,\n",
    "    )\n",
    "\n",
    "    # set seed\n",
    "    seed = 0\n",
    "    np.random.seed(seed)\n",
    "    os.environ['PYTHONHASHSEED'] = str(seed)\n",
    "    torch.manual_seed(seed)\n",
    "\n",
    "    model.to('cuda')\n",
    "    model.eval()\n",
    "\n",
    "    if args.mode == 'forecast':\n",
    "\n",
    "        # Get test data\n",
    "        test_set = NSTK_FC(\n",
    "            train=False,\n",
    "            step = args.pred_step,\n",
    "            Reynolds_number = args.Reynolds_number,\n",
    "            stride=stride,\n",
    "        )  # load your dataset\n",
    "\n",
    "\n",
    "        testloader = DataLoader(\n",
    "            test_set,\n",
    "            batch_size=1, # args.batch_size,\n",
    "            pin_memory=True,\n",
    "            shuffle=False,\n",
    "        ) \n",
    "\n",
    "        RFNE_error = []\n",
    "        R2s = []\n",
    "   \n",
    "        with torch.no_grad():\n",
    "            model.eval()               \n",
    "\n",
    "            for i, batch in enumerate(testloader):\n",
    "\n",
    "                    print(i)\n",
    "                    dynamics = batch[\"dynamics\"][0].to(device=\"cuda\") # (1, pred_step+1, 1, 256, 256)\n",
    "                    print(f\"Dynamics: {dynamics.shape}\")\n",
    "                    x_initial = dynamics[:, 0] # (1, 1, 256, 256)\n",
    "                    targets = dynamics[:, 1:] # (1, pred_step, 1, 256, 256)\n",
    "                    print(f\"x_initial: {x_initial.shape}\")\n",
    "                    print(f\"targets: {targets.shape}\")\n",
    "                    \n",
    "                    preds = [[] for _ in range(args.pred_step)]\n",
    "                    \n",
    "                    for _ in range(args.num_samples):\n",
    "                        # Sample from model\n",
    "                        predictions = model.sample(\n",
    "                            x_initial,\n",
    "                            # num_samples=args.num_samples, # TODO for some reason num_samples doesn't work in the code\n",
    "                        )\n",
    "                        # with torch.no_grad():\n",
    "                        #     _, predictions, _ = model.sample_loop(\n",
    "                        #         x_initial,\n",
    "                        #         num_predictions=args.num_samples, # TODO for some reason num_samples doesn't work in the code\n",
    "                        #     )\n",
    "                        # preds is a dict with keys \"t1_preds\", ..., \"t{pred_step}_preds\"\n",
    "                    \n",
    "                        # Process into list\n",
    "                        for pred_step in range(args.pred_step):\n",
    "                            pred_step_key = f\"t{pred_step+1}_preds\"\n",
    "                            preds[pred_step].append(predictions[pred_step_key])\n",
    "                            \n",
    "                    for pred_step in range(args.pred_step):\n",
    "                        preds[pred_step] = torch.cat(preds[pred_step]) # (pred_step, 1, 256, 256)\n",
    "\n",
    "                    # Number of time steps\n",
    "                    for p in range(targets.shape[1]):\n",
    "                    \n",
    "                        RFNE_error_at_time_p = []\n",
    "                        cc_error_at_time_p = []\n",
    "                        # Number of samples\n",
    "                        for j in range(args.num_samples):\n",
    "\n",
    "                            target = targets[:, p].cpu().detach().numpy()\n",
    "                            prediction = preds[p].cpu().detach().numpy()\n",
    "                            # print(f\"Target: {target.shape}\") # (1, 1, 256, 256)\n",
    "                            # print(f\"Pred: {prediction.shape}\") # (16, 1, 256, 256)\n",
    "\n",
    "                            # compute RFNE \n",
    "                            error = np.linalg.norm(prediction[j,0,:,:] - target[0,0,:,:]) / np.linalg.norm(target[0,0,:,:])\n",
    "                            RFNE_error_at_time_p.append(error)\n",
    "\n",
    "                            # compute correlation coef\n",
    "                            cc = scipy.stats.pearsonr(prediction[j,0,:,:].flatten(), target[0,0,:,:].flatten())[0]\n",
    "                            cc_error_at_time_p.append(cc)\n",
    "\n",
    "                        RFNE_error.append(RFNE_error_at_time_p)   \n",
    "                        R2s.append(cc_error_at_time_p)\n",
    "\n",
    "                    #print(np.mean(np.vstack(RFNE_error), axis=0 ))\n",
    "\n",
    "\n",
    "#                     if i == 0:\n",
    "#                         samples = {\n",
    "#                             'conditioning_snapshots': conditioning_snapshots.cpu().detach().numpy(),\n",
    "#                             'targets': targets,\n",
    "#                             'predictions': preds\n",
    "#                             }\n",
    "\n",
    "#                         if not os.path.exists(\"./samples\"):\n",
    "#                                     os.makedirs(\"./samples\")\n",
    "\n",
    "\n",
    "#                         np.save(f'samples/samples_forecast_RE_{args.Reynolds_number}_SR_{args.sampler}_{args.time_steps}_unet_{args.base_width}_' + str(i+1) + '.npy', samples)\n",
    "#                         print('saved samples')\n",
    "\n",
    "                    if i == 320:\n",
    "                      break\n",
    "\n",
    "#         avg_RFNE =  np.mean(np.vstack(RFNE_error), axis=0 )                  \n",
    "#         print(f'Average RFNE={repr(avg_RFNE)}')   \n",
    "\n",
    "#         avg_R2 =  np.mean(np.vstack(R2s), axis=0 )                  \n",
    "#         print(f'Average Pearson correlation coefficients={repr(avg_R2)}')   \n",
    "        \n",
    "        return RFNE_error, R2s\n"
   ]
  },
  {
   "cell_type": "code",
   "execution_count": null,
   "id": "43b70061-29f8-4b08-8824-84de5ec126b1",
   "metadata": {
    "tags": []
   },
   "outputs": [
    {
     "name": "stdout",
     "output_type": "stream",
     "text": [
      "0\n",
      "Dynamics: torch.Size([1, 17, 1, 256, 256])\n",
      "x_initial: torch.Size([1, 1, 256, 256])\n",
      "targets: torch.Size([1, 16, 1, 256, 256])\n"
     ]
    },
    {
     "data": {
      "application/vnd.jupyter.widget-view+json": {
       "model_id": "",
       "version_major": 2,
       "version_minor": 0
      },
      "text/plain": [
       "Sampling time step:   0%|          | 0/16 [00:00<?, ?it/s]"
      ]
     },
     "metadata": {},
     "output_type": "display_data"
    },
    {
     "name": "stdout",
     "output_type": "stream",
     "text": [
      "1\n",
      "Dynamics: torch.Size([1, 17, 1, 256, 256])\n",
      "x_initial: torch.Size([1, 1, 256, 256])\n",
      "targets: torch.Size([1, 16, 1, 256, 256])\n"
     ]
    },
    {
     "data": {
      "application/vnd.jupyter.widget-view+json": {
       "model_id": "",
       "version_major": 2,
       "version_minor": 0
      },
      "text/plain": [
       "Sampling time step:   0%|          | 0/16 [00:00<?, ?it/s]"
      ]
     },
     "metadata": {},
     "output_type": "display_data"
    },
    {
     "name": "stdout",
     "output_type": "stream",
     "text": [
      "2\n",
      "Dynamics: torch.Size([1, 17, 1, 256, 256])\n",
      "x_initial: torch.Size([1, 1, 256, 256])\n",
      "targets: torch.Size([1, 16, 1, 256, 256])\n"
     ]
    },
    {
     "data": {
      "application/vnd.jupyter.widget-view+json": {
       "model_id": "",
       "version_major": 2,
       "version_minor": 0
      },
      "text/plain": [
       "Sampling time step:   0%|          | 0/16 [00:00<?, ?it/s]"
      ]
     },
     "metadata": {},
     "output_type": "display_data"
    },
    {
     "name": "stdout",
     "output_type": "stream",
     "text": [
      "3\n",
      "Dynamics: torch.Size([1, 17, 1, 256, 256])\n",
      "x_initial: torch.Size([1, 1, 256, 256])\n",
      "targets: torch.Size([1, 16, 1, 256, 256])\n"
     ]
    },
    {
     "data": {
      "application/vnd.jupyter.widget-view+json": {
       "model_id": "",
       "version_major": 2,
       "version_minor": 0
      },
      "text/plain": [
       "Sampling time step:   0%|          | 0/16 [00:00<?, ?it/s]"
      ]
     },
     "metadata": {},
     "output_type": "display_data"
    },
    {
     "name": "stdout",
     "output_type": "stream",
     "text": [
      "4\n",
      "Dynamics: torch.Size([1, 17, 1, 256, 256])\n",
      "x_initial: torch.Size([1, 1, 256, 256])\n",
      "targets: torch.Size([1, 16, 1, 256, 256])\n"
     ]
    },
    {
     "data": {
      "application/vnd.jupyter.widget-view+json": {
       "model_id": "",
       "version_major": 2,
       "version_minor": 0
      },
      "text/plain": [
       "Sampling time step:   0%|          | 0/16 [00:00<?, ?it/s]"
      ]
     },
     "metadata": {},
     "output_type": "display_data"
    },
    {
     "name": "stdout",
     "output_type": "stream",
     "text": [
      "5\n",
      "Dynamics: torch.Size([1, 17, 1, 256, 256])\n",
      "x_initial: torch.Size([1, 1, 256, 256])\n",
      "targets: torch.Size([1, 16, 1, 256, 256])\n"
     ]
    },
    {
     "data": {
      "application/vnd.jupyter.widget-view+json": {
       "model_id": "",
       "version_major": 2,
       "version_minor": 0
      },
      "text/plain": [
       "Sampling time step:   0%|          | 0/16 [00:00<?, ?it/s]"
      ]
     },
     "metadata": {},
     "output_type": "display_data"
    },
    {
     "name": "stdout",
     "output_type": "stream",
     "text": [
      "6\n",
      "Dynamics: torch.Size([1, 17, 1, 256, 256])\n",
      "x_initial: torch.Size([1, 1, 256, 256])\n",
      "targets: torch.Size([1, 16, 1, 256, 256])\n"
     ]
    },
    {
     "data": {
      "application/vnd.jupyter.widget-view+json": {
       "model_id": "",
       "version_major": 2,
       "version_minor": 0
      },
      "text/plain": [
       "Sampling time step:   0%|          | 0/16 [00:00<?, ?it/s]"
      ]
     },
     "metadata": {},
     "output_type": "display_data"
    },
    {
     "name": "stdout",
     "output_type": "stream",
     "text": [
      "7\n",
      "Dynamics: torch.Size([1, 17, 1, 256, 256])\n",
      "x_initial: torch.Size([1, 1, 256, 256])\n",
      "targets: torch.Size([1, 16, 1, 256, 256])\n"
     ]
    },
    {
     "data": {
      "application/vnd.jupyter.widget-view+json": {
       "model_id": "",
       "version_major": 2,
       "version_minor": 0
      },
      "text/plain": [
       "Sampling time step:   0%|          | 0/16 [00:00<?, ?it/s]"
      ]
     },
     "metadata": {},
     "output_type": "display_data"
    },
    {
     "name": "stdout",
     "output_type": "stream",
     "text": [
      "8\n",
      "Dynamics: torch.Size([1, 17, 1, 256, 256])\n",
      "x_initial: torch.Size([1, 1, 256, 256])\n",
      "targets: torch.Size([1, 16, 1, 256, 256])\n"
     ]
    },
    {
     "data": {
      "application/vnd.jupyter.widget-view+json": {
       "model_id": "",
       "version_major": 2,
       "version_minor": 0
      },
      "text/plain": [
       "Sampling time step:   0%|          | 0/16 [00:00<?, ?it/s]"
      ]
     },
     "metadata": {},
     "output_type": "display_data"
    },
    {
     "name": "stdout",
     "output_type": "stream",
     "text": [
      "9\n",
      "Dynamics: torch.Size([1, 17, 1, 256, 256])\n",
      "x_initial: torch.Size([1, 1, 256, 256])\n",
      "targets: torch.Size([1, 16, 1, 256, 256])\n"
     ]
    },
    {
     "data": {
      "application/vnd.jupyter.widget-view+json": {
       "model_id": "",
       "version_major": 2,
       "version_minor": 0
      },
      "text/plain": [
       "Sampling time step:   0%|          | 0/16 [00:00<?, ?it/s]"
      ]
     },
     "metadata": {},
     "output_type": "display_data"
    },
    {
     "name": "stdout",
     "output_type": "stream",
     "text": [
      "10\n",
      "Dynamics: torch.Size([1, 17, 1, 256, 256])\n",
      "x_initial: torch.Size([1, 1, 256, 256])\n",
      "targets: torch.Size([1, 16, 1, 256, 256])\n"
     ]
    },
    {
     "data": {
      "application/vnd.jupyter.widget-view+json": {
       "model_id": "",
       "version_major": 2,
       "version_minor": 0
      },
      "text/plain": [
       "Sampling time step:   0%|          | 0/16 [00:00<?, ?it/s]"
      ]
     },
     "metadata": {},
     "output_type": "display_data"
    },
    {
     "name": "stdout",
     "output_type": "stream",
     "text": [
      "11\n",
      "Dynamics: torch.Size([1, 17, 1, 256, 256])\n",
      "x_initial: torch.Size([1, 1, 256, 256])\n",
      "targets: torch.Size([1, 16, 1, 256, 256])\n"
     ]
    },
    {
     "data": {
      "application/vnd.jupyter.widget-view+json": {
       "model_id": "",
       "version_major": 2,
       "version_minor": 0
      },
      "text/plain": [
       "Sampling time step:   0%|          | 0/16 [00:00<?, ?it/s]"
      ]
     },
     "metadata": {},
     "output_type": "display_data"
    },
    {
     "name": "stdout",
     "output_type": "stream",
     "text": [
      "12\n",
      "Dynamics: torch.Size([1, 17, 1, 256, 256])\n",
      "x_initial: torch.Size([1, 1, 256, 256])\n",
      "targets: torch.Size([1, 16, 1, 256, 256])\n"
     ]
    },
    {
     "data": {
      "application/vnd.jupyter.widget-view+json": {
       "model_id": "",
       "version_major": 2,
       "version_minor": 0
      },
      "text/plain": [
       "Sampling time step:   0%|          | 0/16 [00:00<?, ?it/s]"
      ]
     },
     "metadata": {},
     "output_type": "display_data"
    },
    {
     "name": "stdout",
     "output_type": "stream",
     "text": [
      "13\n",
      "Dynamics: torch.Size([1, 17, 1, 256, 256])\n",
      "x_initial: torch.Size([1, 1, 256, 256])\n",
      "targets: torch.Size([1, 16, 1, 256, 256])\n"
     ]
    },
    {
     "data": {
      "application/vnd.jupyter.widget-view+json": {
       "model_id": "",
       "version_major": 2,
       "version_minor": 0
      },
      "text/plain": [
       "Sampling time step:   0%|          | 0/16 [00:00<?, ?it/s]"
      ]
     },
     "metadata": {},
     "output_type": "display_data"
    },
    {
     "name": "stdout",
     "output_type": "stream",
     "text": [
      "14\n",
      "Dynamics: torch.Size([1, 17, 1, 256, 256])\n",
      "x_initial: torch.Size([1, 1, 256, 256])\n",
      "targets: torch.Size([1, 16, 1, 256, 256])\n"
     ]
    },
    {
     "data": {
      "application/vnd.jupyter.widget-view+json": {
       "model_id": "",
       "version_major": 2,
       "version_minor": 0
      },
      "text/plain": [
       "Sampling time step:   0%|          | 0/16 [00:00<?, ?it/s]"
      ]
     },
     "metadata": {},
     "output_type": "display_data"
    },
    {
     "name": "stdout",
     "output_type": "stream",
     "text": [
      "15\n",
      "Dynamics: torch.Size([1, 17, 1, 256, 256])\n",
      "x_initial: torch.Size([1, 1, 256, 256])\n",
      "targets: torch.Size([1, 16, 1, 256, 256])\n"
     ]
    },
    {
     "data": {
      "application/vnd.jupyter.widget-view+json": {
       "model_id": "",
       "version_major": 2,
       "version_minor": 0
      },
      "text/plain": [
       "Sampling time step:   0%|          | 0/16 [00:00<?, ?it/s]"
      ]
     },
     "metadata": {},
     "output_type": "display_data"
    },
    {
     "name": "stdout",
     "output_type": "stream",
     "text": [
      "16\n",
      "Dynamics: torch.Size([1, 17, 1, 256, 256])\n",
      "x_initial: torch.Size([1, 1, 256, 256])\n",
      "targets: torch.Size([1, 16, 1, 256, 256])\n"
     ]
    },
    {
     "data": {
      "application/vnd.jupyter.widget-view+json": {
       "model_id": "",
       "version_major": 2,
       "version_minor": 0
      },
      "text/plain": [
       "Sampling time step:   0%|          | 0/16 [00:00<?, ?it/s]"
      ]
     },
     "metadata": {},
     "output_type": "display_data"
    },
    {
     "name": "stdout",
     "output_type": "stream",
     "text": [
      "17\n",
      "Dynamics: torch.Size([1, 17, 1, 256, 256])\n",
      "x_initial: torch.Size([1, 1, 256, 256])\n",
      "targets: torch.Size([1, 16, 1, 256, 256])\n"
     ]
    },
    {
     "data": {
      "application/vnd.jupyter.widget-view+json": {
       "model_id": "",
       "version_major": 2,
       "version_minor": 0
      },
      "text/plain": [
       "Sampling time step:   0%|          | 0/16 [00:00<?, ?it/s]"
      ]
     },
     "metadata": {},
     "output_type": "display_data"
    },
    {
     "name": "stdout",
     "output_type": "stream",
     "text": [
      "18\n",
      "Dynamics: torch.Size([1, 17, 1, 256, 256])\n",
      "x_initial: torch.Size([1, 1, 256, 256])\n",
      "targets: torch.Size([1, 16, 1, 256, 256])\n"
     ]
    },
    {
     "data": {
      "application/vnd.jupyter.widget-view+json": {
       "model_id": "",
       "version_major": 2,
       "version_minor": 0
      },
      "text/plain": [
       "Sampling time step:   0%|          | 0/16 [00:00<?, ?it/s]"
      ]
     },
     "metadata": {},
     "output_type": "display_data"
    },
    {
     "name": "stdout",
     "output_type": "stream",
     "text": [
      "19\n",
      "Dynamics: torch.Size([1, 17, 1, 256, 256])\n",
      "x_initial: torch.Size([1, 1, 256, 256])\n",
      "targets: torch.Size([1, 16, 1, 256, 256])\n"
     ]
    },
    {
     "data": {
      "application/vnd.jupyter.widget-view+json": {
       "model_id": "",
       "version_major": 2,
       "version_minor": 0
      },
      "text/plain": [
       "Sampling time step:   0%|          | 0/16 [00:00<?, ?it/s]"
      ]
     },
     "metadata": {},
     "output_type": "display_data"
    },
    {
     "name": "stdout",
     "output_type": "stream",
     "text": [
      "20\n",
      "Dynamics: torch.Size([1, 17, 1, 256, 256])\n",
      "x_initial: torch.Size([1, 1, 256, 256])\n",
      "targets: torch.Size([1, 16, 1, 256, 256])\n"
     ]
    },
    {
     "data": {
      "application/vnd.jupyter.widget-view+json": {
       "model_id": "",
       "version_major": 2,
       "version_minor": 0
      },
      "text/plain": [
       "Sampling time step:   0%|          | 0/16 [00:00<?, ?it/s]"
      ]
     },
     "metadata": {},
     "output_type": "display_data"
    },
    {
     "name": "stdout",
     "output_type": "stream",
     "text": [
      "21\n",
      "Dynamics: torch.Size([1, 17, 1, 256, 256])\n",
      "x_initial: torch.Size([1, 1, 256, 256])\n",
      "targets: torch.Size([1, 16, 1, 256, 256])\n"
     ]
    },
    {
     "data": {
      "application/vnd.jupyter.widget-view+json": {
       "model_id": "",
       "version_major": 2,
       "version_minor": 0
      },
      "text/plain": [
       "Sampling time step:   0%|          | 0/16 [00:00<?, ?it/s]"
      ]
     },
     "metadata": {},
     "output_type": "display_data"
    },
    {
     "name": "stdout",
     "output_type": "stream",
     "text": [
      "22\n",
      "Dynamics: torch.Size([1, 17, 1, 256, 256])\n",
      "x_initial: torch.Size([1, 1, 256, 256])\n",
      "targets: torch.Size([1, 16, 1, 256, 256])\n"
     ]
    },
    {
     "data": {
      "application/vnd.jupyter.widget-view+json": {
       "model_id": "",
       "version_major": 2,
       "version_minor": 0
      },
      "text/plain": [
       "Sampling time step:   0%|          | 0/16 [00:00<?, ?it/s]"
      ]
     },
     "metadata": {},
     "output_type": "display_data"
    },
    {
     "name": "stdout",
     "output_type": "stream",
     "text": [
      "23\n",
      "Dynamics: torch.Size([1, 17, 1, 256, 256])\n",
      "x_initial: torch.Size([1, 1, 256, 256])\n",
      "targets: torch.Size([1, 16, 1, 256, 256])\n"
     ]
    },
    {
     "data": {
      "application/vnd.jupyter.widget-view+json": {
       "model_id": "",
       "version_major": 2,
       "version_minor": 0
      },
      "text/plain": [
       "Sampling time step:   0%|          | 0/16 [00:00<?, ?it/s]"
      ]
     },
     "metadata": {},
     "output_type": "display_data"
    },
    {
     "name": "stdout",
     "output_type": "stream",
     "text": [
      "24\n",
      "Dynamics: torch.Size([1, 17, 1, 256, 256])\n",
      "x_initial: torch.Size([1, 1, 256, 256])\n",
      "targets: torch.Size([1, 16, 1, 256, 256])\n"
     ]
    },
    {
     "data": {
      "application/vnd.jupyter.widget-view+json": {
       "model_id": "",
       "version_major": 2,
       "version_minor": 0
      },
      "text/plain": [
       "Sampling time step:   0%|          | 0/16 [00:00<?, ?it/s]"
      ]
     },
     "metadata": {},
     "output_type": "display_data"
    },
    {
     "name": "stdout",
     "output_type": "stream",
     "text": [
      "25\n",
      "Dynamics: torch.Size([1, 17, 1, 256, 256])\n",
      "x_initial: torch.Size([1, 1, 256, 256])\n",
      "targets: torch.Size([1, 16, 1, 256, 256])\n"
     ]
    },
    {
     "data": {
      "application/vnd.jupyter.widget-view+json": {
       "model_id": "e2a75ff52dd14e038ff7103645ea854d",
       "version_major": 2,
       "version_minor": 0
      },
      "text/plain": [
       "Sampling time step:   0%|          | 0/16 [00:00<?, ?it/s]"
      ]
     },
     "metadata": {},
     "output_type": "display_data"
    },
    {
     "name": "stdout",
     "output_type": "stream",
     "text": [
      "26\n",
      "Dynamics: torch.Size([1, 17, 1, 256, 256])\n",
      "x_initial: torch.Size([1, 1, 256, 256])\n",
      "targets: torch.Size([1, 16, 1, 256, 256])\n"
     ]
    },
    {
     "data": {
      "application/vnd.jupyter.widget-view+json": {
       "model_id": "5620177634bd49908889bdcb36b1661e",
       "version_major": 2,
       "version_minor": 0
      },
      "text/plain": [
       "Sampling time step:   0%|          | 0/16 [00:00<?, ?it/s]"
      ]
     },
     "metadata": {},
     "output_type": "display_data"
    },
    {
     "name": "stdout",
     "output_type": "stream",
     "text": [
      "27\n",
      "Dynamics: torch.Size([1, 17, 1, 256, 256])\n",
      "x_initial: torch.Size([1, 1, 256, 256])\n",
      "targets: torch.Size([1, 16, 1, 256, 256])\n"
     ]
    },
    {
     "data": {
      "application/vnd.jupyter.widget-view+json": {
       "model_id": "efb2dca1bda3499c82d7650d3f7d0890",
       "version_major": 2,
       "version_minor": 0
      },
      "text/plain": [
       "Sampling time step:   0%|          | 0/16 [00:00<?, ?it/s]"
      ]
     },
     "metadata": {},
     "output_type": "display_data"
    },
    {
     "name": "stdout",
     "output_type": "stream",
     "text": [
      "28\n",
      "Dynamics: torch.Size([1, 17, 1, 256, 256])\n",
      "x_initial: torch.Size([1, 1, 256, 256])\n",
      "targets: torch.Size([1, 16, 1, 256, 256])\n"
     ]
    },
    {
     "data": {
      "application/vnd.jupyter.widget-view+json": {
       "model_id": "1da7f0efcfc54ab196b90bda0972a3b4",
       "version_major": 2,
       "version_minor": 0
      },
      "text/plain": [
       "Sampling time step:   0%|          | 0/16 [00:00<?, ?it/s]"
      ]
     },
     "metadata": {},
     "output_type": "display_data"
    },
    {
     "name": "stdout",
     "output_type": "stream",
     "text": [
      "29\n",
      "Dynamics: torch.Size([1, 17, 1, 256, 256])\n",
      "x_initial: torch.Size([1, 1, 256, 256])\n",
      "targets: torch.Size([1, 16, 1, 256, 256])\n"
     ]
    },
    {
     "data": {
      "application/vnd.jupyter.widget-view+json": {
       "model_id": "58d18fee565e4f82a394028a5a19a287",
       "version_major": 2,
       "version_minor": 0
      },
      "text/plain": [
       "Sampling time step:   0%|          | 0/16 [00:00<?, ?it/s]"
      ]
     },
     "metadata": {},
     "output_type": "display_data"
    },
    {
     "name": "stdout",
     "output_type": "stream",
     "text": [
      "30\n",
      "Dynamics: torch.Size([1, 17, 1, 256, 256])\n",
      "x_initial: torch.Size([1, 1, 256, 256])\n",
      "targets: torch.Size([1, 16, 1, 256, 256])\n"
     ]
    },
    {
     "data": {
      "application/vnd.jupyter.widget-view+json": {
       "model_id": "86d837464b134d40b1a31b18f0d76cf6",
       "version_major": 2,
       "version_minor": 0
      },
      "text/plain": [
       "Sampling time step:   0%|          | 0/16 [00:00<?, ?it/s]"
      ]
     },
     "metadata": {},
     "output_type": "display_data"
    },
    {
     "name": "stdout",
     "output_type": "stream",
     "text": [
      "31\n",
      "Dynamics: torch.Size([1, 17, 1, 256, 256])\n",
      "x_initial: torch.Size([1, 1, 256, 256])\n",
      "targets: torch.Size([1, 16, 1, 256, 256])\n"
     ]
    },
    {
     "data": {
      "application/vnd.jupyter.widget-view+json": {
       "model_id": "5a64e1d3959b407aa9ca7b13d969ebce",
       "version_major": 2,
       "version_minor": 0
      },
      "text/plain": [
       "Sampling time step:   0%|          | 0/16 [00:00<?, ?it/s]"
      ]
     },
     "metadata": {},
     "output_type": "display_data"
    },
    {
     "name": "stdout",
     "output_type": "stream",
     "text": [
      "32\n",
      "Dynamics: torch.Size([1, 17, 1, 256, 256])\n",
      "x_initial: torch.Size([1, 1, 256, 256])\n",
      "targets: torch.Size([1, 16, 1, 256, 256])\n"
     ]
    },
    {
     "data": {
      "application/vnd.jupyter.widget-view+json": {
       "model_id": "d1883f4a9c674a50a6cf5e4492e82cb8",
       "version_major": 2,
       "version_minor": 0
      },
      "text/plain": [
       "Sampling time step:   0%|          | 0/16 [00:00<?, ?it/s]"
      ]
     },
     "metadata": {},
     "output_type": "display_data"
    },
    {
     "name": "stdout",
     "output_type": "stream",
     "text": [
      "33\n",
      "Dynamics: torch.Size([1, 17, 1, 256, 256])\n",
      "x_initial: torch.Size([1, 1, 256, 256])\n",
      "targets: torch.Size([1, 16, 1, 256, 256])\n"
     ]
    },
    {
     "data": {
      "application/vnd.jupyter.widget-view+json": {
       "model_id": "d2ccd5de14d147d6840e633952318634",
       "version_major": 2,
       "version_minor": 0
      },
      "text/plain": [
       "Sampling time step:   0%|          | 0/16 [00:00<?, ?it/s]"
      ]
     },
     "metadata": {},
     "output_type": "display_data"
    },
    {
     "name": "stdout",
     "output_type": "stream",
     "text": [
      "34\n",
      "Dynamics: torch.Size([1, 17, 1, 256, 256])\n",
      "x_initial: torch.Size([1, 1, 256, 256])\n",
      "targets: torch.Size([1, 16, 1, 256, 256])\n"
     ]
    },
    {
     "data": {
      "application/vnd.jupyter.widget-view+json": {
       "model_id": "8007f4be10274163a6b5164284c78f9e",
       "version_major": 2,
       "version_minor": 0
      },
      "text/plain": [
       "Sampling time step:   0%|          | 0/16 [00:00<?, ?it/s]"
      ]
     },
     "metadata": {},
     "output_type": "display_data"
    },
    {
     "name": "stdout",
     "output_type": "stream",
     "text": [
      "35\n",
      "Dynamics: torch.Size([1, 17, 1, 256, 256])\n",
      "x_initial: torch.Size([1, 1, 256, 256])\n",
      "targets: torch.Size([1, 16, 1, 256, 256])\n"
     ]
    },
    {
     "data": {
      "application/vnd.jupyter.widget-view+json": {
       "model_id": "5eeb41f43d0e4b65af87ed887d640952",
       "version_major": 2,
       "version_minor": 0
      },
      "text/plain": [
       "Sampling time step:   0%|          | 0/16 [00:00<?, ?it/s]"
      ]
     },
     "metadata": {},
     "output_type": "display_data"
    },
    {
     "name": "stdout",
     "output_type": "stream",
     "text": [
      "36\n",
      "Dynamics: torch.Size([1, 17, 1, 256, 256])\n",
      "x_initial: torch.Size([1, 1, 256, 256])\n",
      "targets: torch.Size([1, 16, 1, 256, 256])\n"
     ]
    },
    {
     "data": {
      "application/vnd.jupyter.widget-view+json": {
       "model_id": "a66e2a9496514a5d8fffac251554e9e0",
       "version_major": 2,
       "version_minor": 0
      },
      "text/plain": [
       "Sampling time step:   0%|          | 0/16 [00:00<?, ?it/s]"
      ]
     },
     "metadata": {},
     "output_type": "display_data"
    },
    {
     "name": "stdout",
     "output_type": "stream",
     "text": [
      "37\n",
      "Dynamics: torch.Size([1, 17, 1, 256, 256])\n",
      "x_initial: torch.Size([1, 1, 256, 256])\n",
      "targets: torch.Size([1, 16, 1, 256, 256])\n"
     ]
    },
    {
     "data": {
      "application/vnd.jupyter.widget-view+json": {
       "model_id": "a945113a192e487cb479ec33c3028f99",
       "version_major": 2,
       "version_minor": 0
      },
      "text/plain": [
       "Sampling time step:   0%|          | 0/16 [00:00<?, ?it/s]"
      ]
     },
     "metadata": {},
     "output_type": "display_data"
    },
    {
     "name": "stdout",
     "output_type": "stream",
     "text": [
      "38\n",
      "Dynamics: torch.Size([1, 17, 1, 256, 256])\n",
      "x_initial: torch.Size([1, 1, 256, 256])\n",
      "targets: torch.Size([1, 16, 1, 256, 256])\n"
     ]
    },
    {
     "data": {
      "application/vnd.jupyter.widget-view+json": {
       "model_id": "ac2e210291f14f0493a5e23b8002c866",
       "version_major": 2,
       "version_minor": 0
      },
      "text/plain": [
       "Sampling time step:   0%|          | 0/16 [00:00<?, ?it/s]"
      ]
     },
     "metadata": {},
     "output_type": "display_data"
    },
    {
     "name": "stdout",
     "output_type": "stream",
     "text": [
      "39\n",
      "Dynamics: torch.Size([1, 17, 1, 256, 256])\n",
      "x_initial: torch.Size([1, 1, 256, 256])\n",
      "targets: torch.Size([1, 16, 1, 256, 256])\n"
     ]
    },
    {
     "data": {
      "application/vnd.jupyter.widget-view+json": {
       "model_id": "b9873ce73c9641339c1e853e689495b7",
       "version_major": 2,
       "version_minor": 0
      },
      "text/plain": [
       "Sampling time step:   0%|          | 0/16 [00:00<?, ?it/s]"
      ]
     },
     "metadata": {},
     "output_type": "display_data"
    },
    {
     "name": "stdout",
     "output_type": "stream",
     "text": [
      "40\n",
      "Dynamics: torch.Size([1, 17, 1, 256, 256])\n",
      "x_initial: torch.Size([1, 1, 256, 256])\n",
      "targets: torch.Size([1, 16, 1, 256, 256])\n"
     ]
    },
    {
     "data": {
      "application/vnd.jupyter.widget-view+json": {
       "model_id": "3e84ffd70cd94dc480cb8d56aaed7ef9",
       "version_major": 2,
       "version_minor": 0
      },
      "text/plain": [
       "Sampling time step:   0%|          | 0/16 [00:00<?, ?it/s]"
      ]
     },
     "metadata": {},
     "output_type": "display_data"
    },
    {
     "name": "stdout",
     "output_type": "stream",
     "text": [
      "41\n",
      "Dynamics: torch.Size([1, 17, 1, 256, 256])\n",
      "x_initial: torch.Size([1, 1, 256, 256])\n",
      "targets: torch.Size([1, 16, 1, 256, 256])\n"
     ]
    },
    {
     "data": {
      "application/vnd.jupyter.widget-view+json": {
       "model_id": "b850b9333d224f69ac96a808c2e2fac1",
       "version_major": 2,
       "version_minor": 0
      },
      "text/plain": [
       "Sampling time step:   0%|          | 0/16 [00:00<?, ?it/s]"
      ]
     },
     "metadata": {},
     "output_type": "display_data"
    },
    {
     "name": "stdout",
     "output_type": "stream",
     "text": [
      "42\n",
      "Dynamics: torch.Size([1, 17, 1, 256, 256])\n",
      "x_initial: torch.Size([1, 1, 256, 256])\n",
      "targets: torch.Size([1, 16, 1, 256, 256])\n"
     ]
    },
    {
     "data": {
      "application/vnd.jupyter.widget-view+json": {
       "model_id": "a862abe98d60490fa3ba3f1177efa01f",
       "version_major": 2,
       "version_minor": 0
      },
      "text/plain": [
       "Sampling time step:   0%|          | 0/16 [00:00<?, ?it/s]"
      ]
     },
     "metadata": {},
     "output_type": "display_data"
    },
    {
     "name": "stdout",
     "output_type": "stream",
     "text": [
      "43\n",
      "Dynamics: torch.Size([1, 17, 1, 256, 256])\n",
      "x_initial: torch.Size([1, 1, 256, 256])\n",
      "targets: torch.Size([1, 16, 1, 256, 256])\n"
     ]
    },
    {
     "data": {
      "application/vnd.jupyter.widget-view+json": {
       "model_id": "318532368e36400c91d19208bb0b45c5",
       "version_major": 2,
       "version_minor": 0
      },
      "text/plain": [
       "Sampling time step:   0%|          | 0/16 [00:00<?, ?it/s]"
      ]
     },
     "metadata": {},
     "output_type": "display_data"
    },
    {
     "name": "stdout",
     "output_type": "stream",
     "text": [
      "44\n",
      "Dynamics: torch.Size([1, 17, 1, 256, 256])\n",
      "x_initial: torch.Size([1, 1, 256, 256])\n",
      "targets: torch.Size([1, 16, 1, 256, 256])\n"
     ]
    },
    {
     "data": {
      "application/vnd.jupyter.widget-view+json": {
       "model_id": "94b1bf6634804427a34f95c2c1349c3e",
       "version_major": 2,
       "version_minor": 0
      },
      "text/plain": [
       "Sampling time step:   0%|          | 0/16 [00:00<?, ?it/s]"
      ]
     },
     "metadata": {},
     "output_type": "display_data"
    },
    {
     "name": "stdout",
     "output_type": "stream",
     "text": [
      "45\n",
      "Dynamics: torch.Size([1, 17, 1, 256, 256])\n",
      "x_initial: torch.Size([1, 1, 256, 256])\n",
      "targets: torch.Size([1, 16, 1, 256, 256])\n"
     ]
    },
    {
     "data": {
      "application/vnd.jupyter.widget-view+json": {
       "model_id": "b61e582a3e5542399b310924e8f8ad49",
       "version_major": 2,
       "version_minor": 0
      },
      "text/plain": [
       "Sampling time step:   0%|          | 0/16 [00:00<?, ?it/s]"
      ]
     },
     "metadata": {},
     "output_type": "display_data"
    },
    {
     "name": "stdout",
     "output_type": "stream",
     "text": [
      "46\n",
      "Dynamics: torch.Size([1, 17, 1, 256, 256])\n",
      "x_initial: torch.Size([1, 1, 256, 256])\n",
      "targets: torch.Size([1, 16, 1, 256, 256])\n"
     ]
    },
    {
     "data": {
      "application/vnd.jupyter.widget-view+json": {
       "model_id": "675209aedaf84aa58001e0733b9628a1",
       "version_major": 2,
       "version_minor": 0
      },
      "text/plain": [
       "Sampling time step:   0%|          | 0/16 [00:00<?, ?it/s]"
      ]
     },
     "metadata": {},
     "output_type": "display_data"
    },
    {
     "name": "stdout",
     "output_type": "stream",
     "text": [
      "47\n",
      "Dynamics: torch.Size([1, 17, 1, 256, 256])\n",
      "x_initial: torch.Size([1, 1, 256, 256])\n",
      "targets: torch.Size([1, 16, 1, 256, 256])\n"
     ]
    },
    {
     "data": {
      "application/vnd.jupyter.widget-view+json": {
       "model_id": "309396f19f744bffa6953071980f9dc0",
       "version_major": 2,
       "version_minor": 0
      },
      "text/plain": [
       "Sampling time step:   0%|          | 0/16 [00:00<?, ?it/s]"
      ]
     },
     "metadata": {},
     "output_type": "display_data"
    },
    {
     "name": "stdout",
     "output_type": "stream",
     "text": [
      "48\n",
      "Dynamics: torch.Size([1, 17, 1, 256, 256])\n",
      "x_initial: torch.Size([1, 1, 256, 256])\n",
      "targets: torch.Size([1, 16, 1, 256, 256])\n"
     ]
    },
    {
     "data": {
      "application/vnd.jupyter.widget-view+json": {
       "model_id": "56c18e04844b46bb9ece9a21eb992ab6",
       "version_major": 2,
       "version_minor": 0
      },
      "text/plain": [
       "Sampling time step:   0%|          | 0/16 [00:00<?, ?it/s]"
      ]
     },
     "metadata": {},
     "output_type": "display_data"
    },
    {
     "name": "stdout",
     "output_type": "stream",
     "text": [
      "49\n",
      "Dynamics: torch.Size([1, 17, 1, 256, 256])\n",
      "x_initial: torch.Size([1, 1, 256, 256])\n",
      "targets: torch.Size([1, 16, 1, 256, 256])\n"
     ]
    },
    {
     "data": {
      "application/vnd.jupyter.widget-view+json": {
       "model_id": "e1c70e761c7c47b58d8d429b2cc754d9",
       "version_major": 2,
       "version_minor": 0
      },
      "text/plain": [
       "Sampling time step:   0%|          | 0/16 [00:00<?, ?it/s]"
      ]
     },
     "metadata": {},
     "output_type": "display_data"
    },
    {
     "name": "stdout",
     "output_type": "stream",
     "text": [
      "50\n",
      "Dynamics: torch.Size([1, 17, 1, 256, 256])\n",
      "x_initial: torch.Size([1, 1, 256, 256])\n",
      "targets: torch.Size([1, 16, 1, 256, 256])\n"
     ]
    },
    {
     "data": {
      "application/vnd.jupyter.widget-view+json": {
       "model_id": "69dbcdb3fb204e2e8018de67c4bbddd3",
       "version_major": 2,
       "version_minor": 0
      },
      "text/plain": [
       "Sampling time step:   0%|          | 0/16 [00:00<?, ?it/s]"
      ]
     },
     "metadata": {},
     "output_type": "display_data"
    },
    {
     "name": "stdout",
     "output_type": "stream",
     "text": [
      "51\n",
      "Dynamics: torch.Size([1, 17, 1, 256, 256])\n",
      "x_initial: torch.Size([1, 1, 256, 256])\n",
      "targets: torch.Size([1, 16, 1, 256, 256])\n"
     ]
    },
    {
     "data": {
      "application/vnd.jupyter.widget-view+json": {
       "model_id": "757d60c401b54a8792ae12db9ed3e663",
       "version_major": 2,
       "version_minor": 0
      },
      "text/plain": [
       "Sampling time step:   0%|          | 0/16 [00:00<?, ?it/s]"
      ]
     },
     "metadata": {},
     "output_type": "display_data"
    },
    {
     "name": "stdout",
     "output_type": "stream",
     "text": [
      "52\n",
      "Dynamics: torch.Size([1, 17, 1, 256, 256])\n",
      "x_initial: torch.Size([1, 1, 256, 256])\n",
      "targets: torch.Size([1, 16, 1, 256, 256])\n"
     ]
    },
    {
     "data": {
      "application/vnd.jupyter.widget-view+json": {
       "model_id": "94f33766360b443ea8a41d280d8f9070",
       "version_major": 2,
       "version_minor": 0
      },
      "text/plain": [
       "Sampling time step:   0%|          | 0/16 [00:00<?, ?it/s]"
      ]
     },
     "metadata": {},
     "output_type": "display_data"
    },
    {
     "name": "stdout",
     "output_type": "stream",
     "text": [
      "53\n",
      "Dynamics: torch.Size([1, 17, 1, 256, 256])\n",
      "x_initial: torch.Size([1, 1, 256, 256])\n",
      "targets: torch.Size([1, 16, 1, 256, 256])\n"
     ]
    },
    {
     "data": {
      "application/vnd.jupyter.widget-view+json": {
       "model_id": "a3dddcaa0a0a47149a5ee1bedd90b2e5",
       "version_major": 2,
       "version_minor": 0
      },
      "text/plain": [
       "Sampling time step:   0%|          | 0/16 [00:00<?, ?it/s]"
      ]
     },
     "metadata": {},
     "output_type": "display_data"
    },
    {
     "name": "stdout",
     "output_type": "stream",
     "text": [
      "54\n",
      "Dynamics: torch.Size([1, 17, 1, 256, 256])\n",
      "x_initial: torch.Size([1, 1, 256, 256])\n",
      "targets: torch.Size([1, 16, 1, 256, 256])\n"
     ]
    },
    {
     "data": {
      "application/vnd.jupyter.widget-view+json": {
       "model_id": "f274ace2555b4e62b0acc5faba6b6158",
       "version_major": 2,
       "version_minor": 0
      },
      "text/plain": [
       "Sampling time step:   0%|          | 0/16 [00:00<?, ?it/s]"
      ]
     },
     "metadata": {},
     "output_type": "display_data"
    },
    {
     "name": "stdout",
     "output_type": "stream",
     "text": [
      "55\n",
      "Dynamics: torch.Size([1, 17, 1, 256, 256])\n",
      "x_initial: torch.Size([1, 1, 256, 256])\n",
      "targets: torch.Size([1, 16, 1, 256, 256])\n"
     ]
    },
    {
     "data": {
      "application/vnd.jupyter.widget-view+json": {
       "model_id": "d2014c9f5d234434b115cbaab5e9c83e",
       "version_major": 2,
       "version_minor": 0
      },
      "text/plain": [
       "Sampling time step:   0%|          | 0/16 [00:00<?, ?it/s]"
      ]
     },
     "metadata": {},
     "output_type": "display_data"
    },
    {
     "name": "stdout",
     "output_type": "stream",
     "text": [
      "56\n",
      "Dynamics: torch.Size([1, 17, 1, 256, 256])\n",
      "x_initial: torch.Size([1, 1, 256, 256])\n",
      "targets: torch.Size([1, 16, 1, 256, 256])\n"
     ]
    },
    {
     "data": {
      "application/vnd.jupyter.widget-view+json": {
       "model_id": "cc1b6488ee774fd8877226ce1bb9aab2",
       "version_major": 2,
       "version_minor": 0
      },
      "text/plain": [
       "Sampling time step:   0%|          | 0/16 [00:00<?, ?it/s]"
      ]
     },
     "metadata": {},
     "output_type": "display_data"
    },
    {
     "name": "stdout",
     "output_type": "stream",
     "text": [
      "57\n",
      "Dynamics: torch.Size([1, 17, 1, 256, 256])\n",
      "x_initial: torch.Size([1, 1, 256, 256])\n",
      "targets: torch.Size([1, 16, 1, 256, 256])\n"
     ]
    },
    {
     "data": {
      "application/vnd.jupyter.widget-view+json": {
       "model_id": "af0773449f2c48a39ed5ab5875ad5cfb",
       "version_major": 2,
       "version_minor": 0
      },
      "text/plain": [
       "Sampling time step:   0%|          | 0/16 [00:00<?, ?it/s]"
      ]
     },
     "metadata": {},
     "output_type": "display_data"
    },
    {
     "name": "stdout",
     "output_type": "stream",
     "text": [
      "58\n",
      "Dynamics: torch.Size([1, 17, 1, 256, 256])\n",
      "x_initial: torch.Size([1, 1, 256, 256])\n",
      "targets: torch.Size([1, 16, 1, 256, 256])\n"
     ]
    },
    {
     "data": {
      "application/vnd.jupyter.widget-view+json": {
       "model_id": "d03a7f7433484f2dad64993717a61a31",
       "version_major": 2,
       "version_minor": 0
      },
      "text/plain": [
       "Sampling time step:   0%|          | 0/16 [00:00<?, ?it/s]"
      ]
     },
     "metadata": {},
     "output_type": "display_data"
    },
    {
     "name": "stdout",
     "output_type": "stream",
     "text": [
      "59\n",
      "Dynamics: torch.Size([1, 17, 1, 256, 256])\n",
      "x_initial: torch.Size([1, 1, 256, 256])\n",
      "targets: torch.Size([1, 16, 1, 256, 256])\n"
     ]
    },
    {
     "data": {
      "application/vnd.jupyter.widget-view+json": {
       "model_id": "de2471fe5d3a489db15dd205d5bfce95",
       "version_major": 2,
       "version_minor": 0
      },
      "text/plain": [
       "Sampling time step:   0%|          | 0/16 [00:00<?, ?it/s]"
      ]
     },
     "metadata": {},
     "output_type": "display_data"
    },
    {
     "name": "stdout",
     "output_type": "stream",
     "text": [
      "60\n",
      "Dynamics: torch.Size([1, 17, 1, 256, 256])\n",
      "x_initial: torch.Size([1, 1, 256, 256])\n",
      "targets: torch.Size([1, 16, 1, 256, 256])\n"
     ]
    },
    {
     "data": {
      "application/vnd.jupyter.widget-view+json": {
       "model_id": "3c789d0a79c2459e8356032e19e9572c",
       "version_major": 2,
       "version_minor": 0
      },
      "text/plain": [
       "Sampling time step:   0%|          | 0/16 [00:00<?, ?it/s]"
      ]
     },
     "metadata": {},
     "output_type": "display_data"
    },
    {
     "name": "stdout",
     "output_type": "stream",
     "text": [
      "61\n",
      "Dynamics: torch.Size([1, 17, 1, 256, 256])\n",
      "x_initial: torch.Size([1, 1, 256, 256])\n",
      "targets: torch.Size([1, 16, 1, 256, 256])\n"
     ]
    },
    {
     "data": {
      "application/vnd.jupyter.widget-view+json": {
       "model_id": "abd90240f0b540219e6be5365935eb0a",
       "version_major": 2,
       "version_minor": 0
      },
      "text/plain": [
       "Sampling time step:   0%|          | 0/16 [00:00<?, ?it/s]"
      ]
     },
     "metadata": {},
     "output_type": "display_data"
    },
    {
     "name": "stdout",
     "output_type": "stream",
     "text": [
      "62\n",
      "Dynamics: torch.Size([1, 17, 1, 256, 256])\n",
      "x_initial: torch.Size([1, 1, 256, 256])\n",
      "targets: torch.Size([1, 16, 1, 256, 256])\n"
     ]
    },
    {
     "data": {
      "application/vnd.jupyter.widget-view+json": {
       "model_id": "a5e8c8a4682e43ddbb5c54eb390e6b4f",
       "version_major": 2,
       "version_minor": 0
      },
      "text/plain": [
       "Sampling time step:   0%|          | 0/16 [00:00<?, ?it/s]"
      ]
     },
     "metadata": {},
     "output_type": "display_data"
    },
    {
     "name": "stdout",
     "output_type": "stream",
     "text": [
      "63\n",
      "Dynamics: torch.Size([1, 17, 1, 256, 256])\n",
      "x_initial: torch.Size([1, 1, 256, 256])\n",
      "targets: torch.Size([1, 16, 1, 256, 256])\n"
     ]
    },
    {
     "data": {
      "application/vnd.jupyter.widget-view+json": {
       "model_id": "8cde5c37484b41be8269a09a0ff8a315",
       "version_major": 2,
       "version_minor": 0
      },
      "text/plain": [
       "Sampling time step:   0%|          | 0/16 [00:00<?, ?it/s]"
      ]
     },
     "metadata": {},
     "output_type": "display_data"
    },
    {
     "name": "stdout",
     "output_type": "stream",
     "text": [
      "64\n",
      "Dynamics: torch.Size([1, 17, 1, 256, 256])\n",
      "x_initial: torch.Size([1, 1, 256, 256])\n",
      "targets: torch.Size([1, 16, 1, 256, 256])\n"
     ]
    },
    {
     "data": {
      "application/vnd.jupyter.widget-view+json": {
       "model_id": "a048e37f543f4a7e97613010cdf4bc3c",
       "version_major": 2,
       "version_minor": 0
      },
      "text/plain": [
       "Sampling time step:   0%|          | 0/16 [00:00<?, ?it/s]"
      ]
     },
     "metadata": {},
     "output_type": "display_data"
    },
    {
     "name": "stdout",
     "output_type": "stream",
     "text": [
      "65\n",
      "Dynamics: torch.Size([1, 17, 1, 256, 256])\n",
      "x_initial: torch.Size([1, 1, 256, 256])\n",
      "targets: torch.Size([1, 16, 1, 256, 256])\n"
     ]
    },
    {
     "data": {
      "application/vnd.jupyter.widget-view+json": {
       "model_id": "0fd2c592ad774a378598fed76b90949a",
       "version_major": 2,
       "version_minor": 0
      },
      "text/plain": [
       "Sampling time step:   0%|          | 0/16 [00:00<?, ?it/s]"
      ]
     },
     "metadata": {},
     "output_type": "display_data"
    },
    {
     "name": "stdout",
     "output_type": "stream",
     "text": [
      "66\n",
      "Dynamics: torch.Size([1, 17, 1, 256, 256])\n",
      "x_initial: torch.Size([1, 1, 256, 256])\n",
      "targets: torch.Size([1, 16, 1, 256, 256])\n"
     ]
    },
    {
     "data": {
      "application/vnd.jupyter.widget-view+json": {
       "model_id": "7629eb001f6c4a44b3bd88f4fd00eaad",
       "version_major": 2,
       "version_minor": 0
      },
      "text/plain": [
       "Sampling time step:   0%|          | 0/16 [00:00<?, ?it/s]"
      ]
     },
     "metadata": {},
     "output_type": "display_data"
    },
    {
     "name": "stdout",
     "output_type": "stream",
     "text": [
      "67\n",
      "Dynamics: torch.Size([1, 17, 1, 256, 256])\n",
      "x_initial: torch.Size([1, 1, 256, 256])\n",
      "targets: torch.Size([1, 16, 1, 256, 256])\n"
     ]
    },
    {
     "data": {
      "application/vnd.jupyter.widget-view+json": {
       "model_id": "9baf76b523f14cb28987caa0e99209a1",
       "version_major": 2,
       "version_minor": 0
      },
      "text/plain": [
       "Sampling time step:   0%|          | 0/16 [00:00<?, ?it/s]"
      ]
     },
     "metadata": {},
     "output_type": "display_data"
    },
    {
     "name": "stdout",
     "output_type": "stream",
     "text": [
      "68\n",
      "Dynamics: torch.Size([1, 17, 1, 256, 256])\n",
      "x_initial: torch.Size([1, 1, 256, 256])\n",
      "targets: torch.Size([1, 16, 1, 256, 256])\n"
     ]
    },
    {
     "data": {
      "application/vnd.jupyter.widget-view+json": {
       "model_id": "6649295d461c4b48b58af65a7598962f",
       "version_major": 2,
       "version_minor": 0
      },
      "text/plain": [
       "Sampling time step:   0%|          | 0/16 [00:00<?, ?it/s]"
      ]
     },
     "metadata": {},
     "output_type": "display_data"
    },
    {
     "name": "stdout",
     "output_type": "stream",
     "text": [
      "69\n",
      "Dynamics: torch.Size([1, 17, 1, 256, 256])\n",
      "x_initial: torch.Size([1, 1, 256, 256])\n",
      "targets: torch.Size([1, 16, 1, 256, 256])\n"
     ]
    },
    {
     "data": {
      "application/vnd.jupyter.widget-view+json": {
       "model_id": "d027afdbbe8c4ae496eb460c52eb1fc1",
       "version_major": 2,
       "version_minor": 0
      },
      "text/plain": [
       "Sampling time step:   0%|          | 0/16 [00:00<?, ?it/s]"
      ]
     },
     "metadata": {},
     "output_type": "display_data"
    },
    {
     "name": "stdout",
     "output_type": "stream",
     "text": [
      "70\n",
      "Dynamics: torch.Size([1, 17, 1, 256, 256])\n",
      "x_initial: torch.Size([1, 1, 256, 256])\n",
      "targets: torch.Size([1, 16, 1, 256, 256])\n"
     ]
    },
    {
     "data": {
      "application/vnd.jupyter.widget-view+json": {
       "model_id": "97b436fcca3641d997f46a36bc921f21",
       "version_major": 2,
       "version_minor": 0
      },
      "text/plain": [
       "Sampling time step:   0%|          | 0/16 [00:00<?, ?it/s]"
      ]
     },
     "metadata": {},
     "output_type": "display_data"
    },
    {
     "name": "stdout",
     "output_type": "stream",
     "text": [
      "71\n",
      "Dynamics: torch.Size([1, 17, 1, 256, 256])\n",
      "x_initial: torch.Size([1, 1, 256, 256])\n",
      "targets: torch.Size([1, 16, 1, 256, 256])\n"
     ]
    },
    {
     "data": {
      "application/vnd.jupyter.widget-view+json": {
       "model_id": "706baa1ed48d4d709b30649aec6c9f96",
       "version_major": 2,
       "version_minor": 0
      },
      "text/plain": [
       "Sampling time step:   0%|          | 0/16 [00:00<?, ?it/s]"
      ]
     },
     "metadata": {},
     "output_type": "display_data"
    },
    {
     "name": "stdout",
     "output_type": "stream",
     "text": [
      "72\n",
      "Dynamics: torch.Size([1, 17, 1, 256, 256])\n",
      "x_initial: torch.Size([1, 1, 256, 256])\n",
      "targets: torch.Size([1, 16, 1, 256, 256])\n"
     ]
    },
    {
     "data": {
      "application/vnd.jupyter.widget-view+json": {
       "model_id": "a852d948bc9e486c90753e16c96509ac",
       "version_major": 2,
       "version_minor": 0
      },
      "text/plain": [
       "Sampling time step:   0%|          | 0/16 [00:00<?, ?it/s]"
      ]
     },
     "metadata": {},
     "output_type": "display_data"
    },
    {
     "name": "stdout",
     "output_type": "stream",
     "text": [
      "73\n",
      "Dynamics: torch.Size([1, 17, 1, 256, 256])\n",
      "x_initial: torch.Size([1, 1, 256, 256])\n",
      "targets: torch.Size([1, 16, 1, 256, 256])\n"
     ]
    },
    {
     "data": {
      "application/vnd.jupyter.widget-view+json": {
       "model_id": "e508d2ed33304c2dac3880e62bb23f48",
       "version_major": 2,
       "version_minor": 0
      },
      "text/plain": [
       "Sampling time step:   0%|          | 0/16 [00:00<?, ?it/s]"
      ]
     },
     "metadata": {},
     "output_type": "display_data"
    },
    {
     "name": "stdout",
     "output_type": "stream",
     "text": [
      "74\n",
      "Dynamics: torch.Size([1, 17, 1, 256, 256])\n",
      "x_initial: torch.Size([1, 1, 256, 256])\n",
      "targets: torch.Size([1, 16, 1, 256, 256])\n"
     ]
    },
    {
     "data": {
      "application/vnd.jupyter.widget-view+json": {
       "model_id": "937901ad0a7f4335aa5db4592e81b88b",
       "version_major": 2,
       "version_minor": 0
      },
      "text/plain": [
       "Sampling time step:   0%|          | 0/16 [00:00<?, ?it/s]"
      ]
     },
     "metadata": {},
     "output_type": "display_data"
    },
    {
     "name": "stdout",
     "output_type": "stream",
     "text": [
      "75\n",
      "Dynamics: torch.Size([1, 17, 1, 256, 256])\n",
      "x_initial: torch.Size([1, 1, 256, 256])\n",
      "targets: torch.Size([1, 16, 1, 256, 256])\n"
     ]
    },
    {
     "data": {
      "application/vnd.jupyter.widget-view+json": {
       "model_id": "c688e5a9bd384ebc8a9ac658672698eb",
       "version_major": 2,
       "version_minor": 0
      },
      "text/plain": [
       "Sampling time step:   0%|          | 0/16 [00:00<?, ?it/s]"
      ]
     },
     "metadata": {},
     "output_type": "display_data"
    },
    {
     "name": "stdout",
     "output_type": "stream",
     "text": [
      "76\n",
      "Dynamics: torch.Size([1, 17, 1, 256, 256])\n",
      "x_initial: torch.Size([1, 1, 256, 256])\n",
      "targets: torch.Size([1, 16, 1, 256, 256])\n"
     ]
    },
    {
     "data": {
      "application/vnd.jupyter.widget-view+json": {
       "model_id": "8d1963f9db304e1494142a5e28988414",
       "version_major": 2,
       "version_minor": 0
      },
      "text/plain": [
       "Sampling time step:   0%|          | 0/16 [00:00<?, ?it/s]"
      ]
     },
     "metadata": {},
     "output_type": "display_data"
    },
    {
     "name": "stdout",
     "output_type": "stream",
     "text": [
      "77\n",
      "Dynamics: torch.Size([1, 17, 1, 256, 256])\n",
      "x_initial: torch.Size([1, 1, 256, 256])\n",
      "targets: torch.Size([1, 16, 1, 256, 256])\n"
     ]
    },
    {
     "data": {
      "application/vnd.jupyter.widget-view+json": {
       "model_id": "1d0fa1bb158c47929c83ba0533ec3c53",
       "version_major": 2,
       "version_minor": 0
      },
      "text/plain": [
       "Sampling time step:   0%|          | 0/16 [00:00<?, ?it/s]"
      ]
     },
     "metadata": {},
     "output_type": "display_data"
    },
    {
     "name": "stdout",
     "output_type": "stream",
     "text": [
      "78\n",
      "Dynamics: torch.Size([1, 17, 1, 256, 256])\n",
      "x_initial: torch.Size([1, 1, 256, 256])\n",
      "targets: torch.Size([1, 16, 1, 256, 256])\n"
     ]
    },
    {
     "data": {
      "application/vnd.jupyter.widget-view+json": {
       "model_id": "24cdecb6c7494de3a8f0a2dec2486149",
       "version_major": 2,
       "version_minor": 0
      },
      "text/plain": [
       "Sampling time step:   0%|          | 0/16 [00:00<?, ?it/s]"
      ]
     },
     "metadata": {},
     "output_type": "display_data"
    },
    {
     "name": "stdout",
     "output_type": "stream",
     "text": [
      "79\n",
      "Dynamics: torch.Size([1, 17, 1, 256, 256])\n",
      "x_initial: torch.Size([1, 1, 256, 256])\n",
      "targets: torch.Size([1, 16, 1, 256, 256])\n"
     ]
    },
    {
     "data": {
      "application/vnd.jupyter.widget-view+json": {
       "model_id": "9997957d96454dd39d6614a88f9127b5",
       "version_major": 2,
       "version_minor": 0
      },
      "text/plain": [
       "Sampling time step:   0%|          | 0/16 [00:00<?, ?it/s]"
      ]
     },
     "metadata": {},
     "output_type": "display_data"
    },
    {
     "name": "stdout",
     "output_type": "stream",
     "text": [
      "80\n",
      "Dynamics: torch.Size([1, 17, 1, 256, 256])\n",
      "x_initial: torch.Size([1, 1, 256, 256])\n",
      "targets: torch.Size([1, 16, 1, 256, 256])\n"
     ]
    },
    {
     "data": {
      "application/vnd.jupyter.widget-view+json": {
       "model_id": "bc8a36ea358642bf84c1af3ea839862c",
       "version_major": 2,
       "version_minor": 0
      },
      "text/plain": [
       "Sampling time step:   0%|          | 0/16 [00:00<?, ?it/s]"
      ]
     },
     "metadata": {},
     "output_type": "display_data"
    },
    {
     "name": "stdout",
     "output_type": "stream",
     "text": [
      "81\n",
      "Dynamics: torch.Size([1, 17, 1, 256, 256])\n",
      "x_initial: torch.Size([1, 1, 256, 256])\n",
      "targets: torch.Size([1, 16, 1, 256, 256])\n"
     ]
    },
    {
     "data": {
      "application/vnd.jupyter.widget-view+json": {
       "model_id": "e1741a28fb2846739cf6e1425080d246",
       "version_major": 2,
       "version_minor": 0
      },
      "text/plain": [
       "Sampling time step:   0%|          | 0/16 [00:00<?, ?it/s]"
      ]
     },
     "metadata": {},
     "output_type": "display_data"
    },
    {
     "name": "stdout",
     "output_type": "stream",
     "text": [
      "82\n",
      "Dynamics: torch.Size([1, 17, 1, 256, 256])\n",
      "x_initial: torch.Size([1, 1, 256, 256])\n",
      "targets: torch.Size([1, 16, 1, 256, 256])\n"
     ]
    },
    {
     "data": {
      "application/vnd.jupyter.widget-view+json": {
       "model_id": "eeace0d31b794755bb3665d2e817e88b",
       "version_major": 2,
       "version_minor": 0
      },
      "text/plain": [
       "Sampling time step:   0%|          | 0/16 [00:00<?, ?it/s]"
      ]
     },
     "metadata": {},
     "output_type": "display_data"
    },
    {
     "name": "stdout",
     "output_type": "stream",
     "text": [
      "83\n",
      "Dynamics: torch.Size([1, 17, 1, 256, 256])\n",
      "x_initial: torch.Size([1, 1, 256, 256])\n",
      "targets: torch.Size([1, 16, 1, 256, 256])\n"
     ]
    },
    {
     "data": {
      "application/vnd.jupyter.widget-view+json": {
       "model_id": "558dfd9f976b4b42b24996403abb0e06",
       "version_major": 2,
       "version_minor": 0
      },
      "text/plain": [
       "Sampling time step:   0%|          | 0/16 [00:00<?, ?it/s]"
      ]
     },
     "metadata": {},
     "output_type": "display_data"
    },
    {
     "name": "stdout",
     "output_type": "stream",
     "text": [
      "84\n",
      "Dynamics: torch.Size([1, 17, 1, 256, 256])\n",
      "x_initial: torch.Size([1, 1, 256, 256])\n",
      "targets: torch.Size([1, 16, 1, 256, 256])\n"
     ]
    },
    {
     "data": {
      "application/vnd.jupyter.widget-view+json": {
       "model_id": "052e46bb18f54e16b111df0c3448304e",
       "version_major": 2,
       "version_minor": 0
      },
      "text/plain": [
       "Sampling time step:   0%|          | 0/16 [00:00<?, ?it/s]"
      ]
     },
     "metadata": {},
     "output_type": "display_data"
    },
    {
     "name": "stdout",
     "output_type": "stream",
     "text": [
      "85\n",
      "Dynamics: torch.Size([1, 17, 1, 256, 256])\n",
      "x_initial: torch.Size([1, 1, 256, 256])\n",
      "targets: torch.Size([1, 16, 1, 256, 256])\n"
     ]
    },
    {
     "data": {
      "application/vnd.jupyter.widget-view+json": {
       "model_id": "5a6059746def4949b59ddf5d1eca603d",
       "version_major": 2,
       "version_minor": 0
      },
      "text/plain": [
       "Sampling time step:   0%|          | 0/16 [00:00<?, ?it/s]"
      ]
     },
     "metadata": {},
     "output_type": "display_data"
    },
    {
     "name": "stdout",
     "output_type": "stream",
     "text": [
      "86\n",
      "Dynamics: torch.Size([1, 17, 1, 256, 256])\n",
      "x_initial: torch.Size([1, 1, 256, 256])\n",
      "targets: torch.Size([1, 16, 1, 256, 256])\n"
     ]
    },
    {
     "data": {
      "application/vnd.jupyter.widget-view+json": {
       "model_id": "0c9b3918e7dd4222a24231a4150306f2",
       "version_major": 2,
       "version_minor": 0
      },
      "text/plain": [
       "Sampling time step:   0%|          | 0/16 [00:00<?, ?it/s]"
      ]
     },
     "metadata": {},
     "output_type": "display_data"
    },
    {
     "name": "stdout",
     "output_type": "stream",
     "text": [
      "87\n",
      "Dynamics: torch.Size([1, 17, 1, 256, 256])\n",
      "x_initial: torch.Size([1, 1, 256, 256])\n",
      "targets: torch.Size([1, 16, 1, 256, 256])\n"
     ]
    },
    {
     "data": {
      "application/vnd.jupyter.widget-view+json": {
       "model_id": "8502cd218bb846ecbec9087d19a980ab",
       "version_major": 2,
       "version_minor": 0
      },
      "text/plain": [
       "Sampling time step:   0%|          | 0/16 [00:00<?, ?it/s]"
      ]
     },
     "metadata": {},
     "output_type": "display_data"
    },
    {
     "name": "stdout",
     "output_type": "stream",
     "text": [
      "88\n",
      "Dynamics: torch.Size([1, 17, 1, 256, 256])\n",
      "x_initial: torch.Size([1, 1, 256, 256])\n",
      "targets: torch.Size([1, 16, 1, 256, 256])\n"
     ]
    },
    {
     "data": {
      "application/vnd.jupyter.widget-view+json": {
       "model_id": "468dfd61ba09491a97d2317f122a3025",
       "version_major": 2,
       "version_minor": 0
      },
      "text/plain": [
       "Sampling time step:   0%|          | 0/16 [00:00<?, ?it/s]"
      ]
     },
     "metadata": {},
     "output_type": "display_data"
    },
    {
     "name": "stdout",
     "output_type": "stream",
     "text": [
      "89\n",
      "Dynamics: torch.Size([1, 17, 1, 256, 256])\n",
      "x_initial: torch.Size([1, 1, 256, 256])\n",
      "targets: torch.Size([1, 16, 1, 256, 256])\n"
     ]
    },
    {
     "data": {
      "application/vnd.jupyter.widget-view+json": {
       "model_id": "7bc15cc57f934707a541682fe9203c84",
       "version_major": 2,
       "version_minor": 0
      },
      "text/plain": [
       "Sampling time step:   0%|          | 0/16 [00:00<?, ?it/s]"
      ]
     },
     "metadata": {},
     "output_type": "display_data"
    },
    {
     "name": "stdout",
     "output_type": "stream",
     "text": [
      "90\n",
      "Dynamics: torch.Size([1, 17, 1, 256, 256])\n",
      "x_initial: torch.Size([1, 1, 256, 256])\n",
      "targets: torch.Size([1, 16, 1, 256, 256])\n"
     ]
    },
    {
     "data": {
      "application/vnd.jupyter.widget-view+json": {
       "model_id": "3da28d3fe687475794e5c28a2bf5de11",
       "version_major": 2,
       "version_minor": 0
      },
      "text/plain": [
       "Sampling time step:   0%|          | 0/16 [00:00<?, ?it/s]"
      ]
     },
     "metadata": {},
     "output_type": "display_data"
    },
    {
     "name": "stdout",
     "output_type": "stream",
     "text": [
      "91\n",
      "Dynamics: torch.Size([1, 17, 1, 256, 256])\n",
      "x_initial: torch.Size([1, 1, 256, 256])\n",
      "targets: torch.Size([1, 16, 1, 256, 256])\n"
     ]
    },
    {
     "data": {
      "application/vnd.jupyter.widget-view+json": {
       "model_id": "2089308e8843498b9616889a0766274a",
       "version_major": 2,
       "version_minor": 0
      },
      "text/plain": [
       "Sampling time step:   0%|          | 0/16 [00:00<?, ?it/s]"
      ]
     },
     "metadata": {},
     "output_type": "display_data"
    },
    {
     "name": "stdout",
     "output_type": "stream",
     "text": [
      "92\n",
      "Dynamics: torch.Size([1, 17, 1, 256, 256])\n",
      "x_initial: torch.Size([1, 1, 256, 256])\n",
      "targets: torch.Size([1, 16, 1, 256, 256])\n"
     ]
    },
    {
     "data": {
      "application/vnd.jupyter.widget-view+json": {
       "model_id": "61b741807b854cfab0b25d7c016239b3",
       "version_major": 2,
       "version_minor": 0
      },
      "text/plain": [
       "Sampling time step:   0%|          | 0/16 [00:00<?, ?it/s]"
      ]
     },
     "metadata": {},
     "output_type": "display_data"
    },
    {
     "name": "stdout",
     "output_type": "stream",
     "text": [
      "93\n",
      "Dynamics: torch.Size([1, 17, 1, 256, 256])\n",
      "x_initial: torch.Size([1, 1, 256, 256])\n",
      "targets: torch.Size([1, 16, 1, 256, 256])\n"
     ]
    },
    {
     "data": {
      "application/vnd.jupyter.widget-view+json": {
       "model_id": "6683b2fef80b4856b69f86231f979b66",
       "version_major": 2,
       "version_minor": 0
      },
      "text/plain": [
       "Sampling time step:   0%|          | 0/16 [00:00<?, ?it/s]"
      ]
     },
     "metadata": {},
     "output_type": "display_data"
    },
    {
     "name": "stdout",
     "output_type": "stream",
     "text": [
      "94\n",
      "Dynamics: torch.Size([1, 17, 1, 256, 256])\n",
      "x_initial: torch.Size([1, 1, 256, 256])\n",
      "targets: torch.Size([1, 16, 1, 256, 256])\n"
     ]
    },
    {
     "data": {
      "application/vnd.jupyter.widget-view+json": {
       "model_id": "46c6d0a00d1b4d98b4c2dc37db0c0624",
       "version_major": 2,
       "version_minor": 0
      },
      "text/plain": [
       "Sampling time step:   0%|          | 0/16 [00:00<?, ?it/s]"
      ]
     },
     "metadata": {},
     "output_type": "display_data"
    },
    {
     "name": "stdout",
     "output_type": "stream",
     "text": [
      "95\n",
      "Dynamics: torch.Size([1, 17, 1, 256, 256])\n",
      "x_initial: torch.Size([1, 1, 256, 256])\n",
      "targets: torch.Size([1, 16, 1, 256, 256])\n"
     ]
    },
    {
     "data": {
      "application/vnd.jupyter.widget-view+json": {
       "model_id": "3da75f626de6443a905d9ec5eaa6f597",
       "version_major": 2,
       "version_minor": 0
      },
      "text/plain": [
       "Sampling time step:   0%|          | 0/16 [00:00<?, ?it/s]"
      ]
     },
     "metadata": {},
     "output_type": "display_data"
    },
    {
     "name": "stdout",
     "output_type": "stream",
     "text": [
      "96\n",
      "Dynamics: torch.Size([1, 17, 1, 256, 256])\n",
      "x_initial: torch.Size([1, 1, 256, 256])\n",
      "targets: torch.Size([1, 16, 1, 256, 256])\n"
     ]
    },
    {
     "data": {
      "application/vnd.jupyter.widget-view+json": {
       "model_id": "a32a16b84ce445618f404c6d3bb84693",
       "version_major": 2,
       "version_minor": 0
      },
      "text/plain": [
       "Sampling time step:   0%|          | 0/16 [00:00<?, ?it/s]"
      ]
     },
     "metadata": {},
     "output_type": "display_data"
    },
    {
     "name": "stdout",
     "output_type": "stream",
     "text": [
      "97\n",
      "Dynamics: torch.Size([1, 17, 1, 256, 256])\n",
      "x_initial: torch.Size([1, 1, 256, 256])\n",
      "targets: torch.Size([1, 16, 1, 256, 256])\n"
     ]
    },
    {
     "data": {
      "application/vnd.jupyter.widget-view+json": {
       "model_id": "31cb929393dc477b9f067036d380d3c7",
       "version_major": 2,
       "version_minor": 0
      },
      "text/plain": [
       "Sampling time step:   0%|          | 0/16 [00:00<?, ?it/s]"
      ]
     },
     "metadata": {},
     "output_type": "display_data"
    },
    {
     "name": "stdout",
     "output_type": "stream",
     "text": [
      "98\n",
      "Dynamics: torch.Size([1, 17, 1, 256, 256])\n",
      "x_initial: torch.Size([1, 1, 256, 256])\n",
      "targets: torch.Size([1, 16, 1, 256, 256])\n"
     ]
    },
    {
     "data": {
      "application/vnd.jupyter.widget-view+json": {
       "model_id": "f997c98be8904ec7a50658e7444fcec1",
       "version_major": 2,
       "version_minor": 0
      },
      "text/plain": [
       "Sampling time step:   0%|          | 0/16 [00:00<?, ?it/s]"
      ]
     },
     "metadata": {},
     "output_type": "display_data"
    },
    {
     "name": "stdout",
     "output_type": "stream",
     "text": [
      "99\n",
      "Dynamics: torch.Size([1, 17, 1, 256, 256])\n",
      "x_initial: torch.Size([1, 1, 256, 256])\n",
      "targets: torch.Size([1, 16, 1, 256, 256])\n"
     ]
    },
    {
     "data": {
      "application/vnd.jupyter.widget-view+json": {
       "model_id": "fa7c17b46c3b4ab9bd62a5ccce8a98d4",
       "version_major": 2,
       "version_minor": 0
      },
      "text/plain": [
       "Sampling time step:   0%|          | 0/16 [00:00<?, ?it/s]"
      ]
     },
     "metadata": {},
     "output_type": "display_data"
    },
    {
     "name": "stdout",
     "output_type": "stream",
     "text": [
      "100\n",
      "Dynamics: torch.Size([1, 17, 1, 256, 256])\n",
      "x_initial: torch.Size([1, 1, 256, 256])\n",
      "targets: torch.Size([1, 16, 1, 256, 256])\n"
     ]
    },
    {
     "data": {
      "application/vnd.jupyter.widget-view+json": {
       "model_id": "7afa815c086a47019ebca34bacfeb645",
       "version_major": 2,
       "version_minor": 0
      },
      "text/plain": [
       "Sampling time step:   0%|          | 0/16 [00:00<?, ?it/s]"
      ]
     },
     "metadata": {},
     "output_type": "display_data"
    },
    {
     "name": "stdout",
     "output_type": "stream",
     "text": [
      "101\n",
      "Dynamics: torch.Size([1, 17, 1, 256, 256])\n",
      "x_initial: torch.Size([1, 1, 256, 256])\n",
      "targets: torch.Size([1, 16, 1, 256, 256])\n"
     ]
    },
    {
     "data": {
      "application/vnd.jupyter.widget-view+json": {
       "model_id": "24af29b5ab0d483fb4d3a7cea28749dd",
       "version_major": 2,
       "version_minor": 0
      },
      "text/plain": [
       "Sampling time step:   0%|          | 0/16 [00:00<?, ?it/s]"
      ]
     },
     "metadata": {},
     "output_type": "display_data"
    },
    {
     "name": "stdout",
     "output_type": "stream",
     "text": [
      "102\n",
      "Dynamics: torch.Size([1, 17, 1, 256, 256])\n",
      "x_initial: torch.Size([1, 1, 256, 256])\n",
      "targets: torch.Size([1, 16, 1, 256, 256])\n"
     ]
    },
    {
     "data": {
      "application/vnd.jupyter.widget-view+json": {
       "model_id": "2166ac4d401d494d88234935ddca2d18",
       "version_major": 2,
       "version_minor": 0
      },
      "text/plain": [
       "Sampling time step:   0%|          | 0/16 [00:00<?, ?it/s]"
      ]
     },
     "metadata": {},
     "output_type": "display_data"
    },
    {
     "name": "stdout",
     "output_type": "stream",
     "text": [
      "103\n",
      "Dynamics: torch.Size([1, 17, 1, 256, 256])\n",
      "x_initial: torch.Size([1, 1, 256, 256])\n",
      "targets: torch.Size([1, 16, 1, 256, 256])\n"
     ]
    },
    {
     "data": {
      "application/vnd.jupyter.widget-view+json": {
       "model_id": "b81b06bc468c4d189d98004b3efe1445",
       "version_major": 2,
       "version_minor": 0
      },
      "text/plain": [
       "Sampling time step:   0%|          | 0/16 [00:00<?, ?it/s]"
      ]
     },
     "metadata": {},
     "output_type": "display_data"
    },
    {
     "name": "stdout",
     "output_type": "stream",
     "text": [
      "104\n",
      "Dynamics: torch.Size([1, 17, 1, 256, 256])\n",
      "x_initial: torch.Size([1, 1, 256, 256])\n",
      "targets: torch.Size([1, 16, 1, 256, 256])\n"
     ]
    },
    {
     "data": {
      "application/vnd.jupyter.widget-view+json": {
       "model_id": "6ee2b65af09a468295247a1de184f13b",
       "version_major": 2,
       "version_minor": 0
      },
      "text/plain": [
       "Sampling time step:   0%|          | 0/16 [00:00<?, ?it/s]"
      ]
     },
     "metadata": {},
     "output_type": "display_data"
    },
    {
     "name": "stdout",
     "output_type": "stream",
     "text": [
      "105\n",
      "Dynamics: torch.Size([1, 17, 1, 256, 256])\n",
      "x_initial: torch.Size([1, 1, 256, 256])\n",
      "targets: torch.Size([1, 16, 1, 256, 256])\n"
     ]
    },
    {
     "data": {
      "application/vnd.jupyter.widget-view+json": {
       "model_id": "d6baac1694404ce997779db60823dd62",
       "version_major": 2,
       "version_minor": 0
      },
      "text/plain": [
       "Sampling time step:   0%|          | 0/16 [00:00<?, ?it/s]"
      ]
     },
     "metadata": {},
     "output_type": "display_data"
    },
    {
     "name": "stdout",
     "output_type": "stream",
     "text": [
      "106\n",
      "Dynamics: torch.Size([1, 17, 1, 256, 256])\n",
      "x_initial: torch.Size([1, 1, 256, 256])\n",
      "targets: torch.Size([1, 16, 1, 256, 256])\n"
     ]
    },
    {
     "data": {
      "application/vnd.jupyter.widget-view+json": {
       "model_id": "b8abcc33eca44fa48610c04a96e58f9e",
       "version_major": 2,
       "version_minor": 0
      },
      "text/plain": [
       "Sampling time step:   0%|          | 0/16 [00:00<?, ?it/s]"
      ]
     },
     "metadata": {},
     "output_type": "display_data"
    },
    {
     "name": "stdout",
     "output_type": "stream",
     "text": [
      "107\n",
      "Dynamics: torch.Size([1, 17, 1, 256, 256])\n",
      "x_initial: torch.Size([1, 1, 256, 256])\n",
      "targets: torch.Size([1, 16, 1, 256, 256])\n"
     ]
    },
    {
     "data": {
      "application/vnd.jupyter.widget-view+json": {
       "model_id": "eade8c32043d4d1c9a7d430801ac5f89",
       "version_major": 2,
       "version_minor": 0
      },
      "text/plain": [
       "Sampling time step:   0%|          | 0/16 [00:00<?, ?it/s]"
      ]
     },
     "metadata": {},
     "output_type": "display_data"
    },
    {
     "name": "stdout",
     "output_type": "stream",
     "text": [
      "108\n",
      "Dynamics: torch.Size([1, 17, 1, 256, 256])\n",
      "x_initial: torch.Size([1, 1, 256, 256])\n",
      "targets: torch.Size([1, 16, 1, 256, 256])\n"
     ]
    },
    {
     "data": {
      "application/vnd.jupyter.widget-view+json": {
       "model_id": "bf260a17239e4f2cb2e503e7c693cd50",
       "version_major": 2,
       "version_minor": 0
      },
      "text/plain": [
       "Sampling time step:   0%|          | 0/16 [00:00<?, ?it/s]"
      ]
     },
     "metadata": {},
     "output_type": "display_data"
    },
    {
     "name": "stdout",
     "output_type": "stream",
     "text": [
      "109\n",
      "Dynamics: torch.Size([1, 17, 1, 256, 256])\n",
      "x_initial: torch.Size([1, 1, 256, 256])\n",
      "targets: torch.Size([1, 16, 1, 256, 256])\n"
     ]
    },
    {
     "data": {
      "application/vnd.jupyter.widget-view+json": {
       "model_id": "83e0784b499949c4b1cb37fd88a395d9",
       "version_major": 2,
       "version_minor": 0
      },
      "text/plain": [
       "Sampling time step:   0%|          | 0/16 [00:00<?, ?it/s]"
      ]
     },
     "metadata": {},
     "output_type": "display_data"
    },
    {
     "name": "stdout",
     "output_type": "stream",
     "text": [
      "110\n",
      "Dynamics: torch.Size([1, 17, 1, 256, 256])\n",
      "x_initial: torch.Size([1, 1, 256, 256])\n",
      "targets: torch.Size([1, 16, 1, 256, 256])\n"
     ]
    },
    {
     "data": {
      "application/vnd.jupyter.widget-view+json": {
       "model_id": "36fe1acbda1644ed8223025c1016f88f",
       "version_major": 2,
       "version_minor": 0
      },
      "text/plain": [
       "Sampling time step:   0%|          | 0/16 [00:00<?, ?it/s]"
      ]
     },
     "metadata": {},
     "output_type": "display_data"
    },
    {
     "name": "stdout",
     "output_type": "stream",
     "text": [
      "111\n",
      "Dynamics: torch.Size([1, 17, 1, 256, 256])\n",
      "x_initial: torch.Size([1, 1, 256, 256])\n",
      "targets: torch.Size([1, 16, 1, 256, 256])\n"
     ]
    },
    {
     "data": {
      "application/vnd.jupyter.widget-view+json": {
       "model_id": "e5790b1e648a487688461435ac698a26",
       "version_major": 2,
       "version_minor": 0
      },
      "text/plain": [
       "Sampling time step:   0%|          | 0/16 [00:00<?, ?it/s]"
      ]
     },
     "metadata": {},
     "output_type": "display_data"
    },
    {
     "name": "stdout",
     "output_type": "stream",
     "text": [
      "112\n",
      "Dynamics: torch.Size([1, 17, 1, 256, 256])\n",
      "x_initial: torch.Size([1, 1, 256, 256])\n",
      "targets: torch.Size([1, 16, 1, 256, 256])\n"
     ]
    },
    {
     "data": {
      "application/vnd.jupyter.widget-view+json": {
       "model_id": "628898d2c4354d0189f80d018dfe1d6c",
       "version_major": 2,
       "version_minor": 0
      },
      "text/plain": [
       "Sampling time step:   0%|          | 0/16 [00:00<?, ?it/s]"
      ]
     },
     "metadata": {},
     "output_type": "display_data"
    },
    {
     "name": "stdout",
     "output_type": "stream",
     "text": [
      "113\n",
      "Dynamics: torch.Size([1, 17, 1, 256, 256])\n",
      "x_initial: torch.Size([1, 1, 256, 256])\n",
      "targets: torch.Size([1, 16, 1, 256, 256])\n"
     ]
    },
    {
     "data": {
      "application/vnd.jupyter.widget-view+json": {
       "model_id": "8492c645563b4426bd16f2e45374bb0f",
       "version_major": 2,
       "version_minor": 0
      },
      "text/plain": [
       "Sampling time step:   0%|          | 0/16 [00:00<?, ?it/s]"
      ]
     },
     "metadata": {},
     "output_type": "display_data"
    },
    {
     "name": "stdout",
     "output_type": "stream",
     "text": [
      "114\n",
      "Dynamics: torch.Size([1, 17, 1, 256, 256])\n",
      "x_initial: torch.Size([1, 1, 256, 256])\n",
      "targets: torch.Size([1, 16, 1, 256, 256])\n"
     ]
    },
    {
     "data": {
      "application/vnd.jupyter.widget-view+json": {
       "model_id": "4be66c5355e4463b972c9ee24d0a3d2b",
       "version_major": 2,
       "version_minor": 0
      },
      "text/plain": [
       "Sampling time step:   0%|          | 0/16 [00:00<?, ?it/s]"
      ]
     },
     "metadata": {},
     "output_type": "display_data"
    },
    {
     "name": "stdout",
     "output_type": "stream",
     "text": [
      "115\n",
      "Dynamics: torch.Size([1, 17, 1, 256, 256])\n",
      "x_initial: torch.Size([1, 1, 256, 256])\n",
      "targets: torch.Size([1, 16, 1, 256, 256])\n"
     ]
    },
    {
     "data": {
      "application/vnd.jupyter.widget-view+json": {
       "model_id": "ccc69c7d28ec4e318d004709c270c6e5",
       "version_major": 2,
       "version_minor": 0
      },
      "text/plain": [
       "Sampling time step:   0%|          | 0/16 [00:00<?, ?it/s]"
      ]
     },
     "metadata": {},
     "output_type": "display_data"
    },
    {
     "name": "stdout",
     "output_type": "stream",
     "text": [
      "116\n",
      "Dynamics: torch.Size([1, 17, 1, 256, 256])\n",
      "x_initial: torch.Size([1, 1, 256, 256])\n",
      "targets: torch.Size([1, 16, 1, 256, 256])\n"
     ]
    },
    {
     "data": {
      "application/vnd.jupyter.widget-view+json": {
       "model_id": "e53d777dfb604abf924240320f8fc843",
       "version_major": 2,
       "version_minor": 0
      },
      "text/plain": [
       "Sampling time step:   0%|          | 0/16 [00:00<?, ?it/s]"
      ]
     },
     "metadata": {},
     "output_type": "display_data"
    },
    {
     "name": "stdout",
     "output_type": "stream",
     "text": [
      "117\n",
      "Dynamics: torch.Size([1, 17, 1, 256, 256])\n",
      "x_initial: torch.Size([1, 1, 256, 256])\n",
      "targets: torch.Size([1, 16, 1, 256, 256])\n"
     ]
    },
    {
     "data": {
      "application/vnd.jupyter.widget-view+json": {
       "model_id": "2d2d784079fc41378d991aeae85d17b5",
       "version_major": 2,
       "version_minor": 0
      },
      "text/plain": [
       "Sampling time step:   0%|          | 0/16 [00:00<?, ?it/s]"
      ]
     },
     "metadata": {},
     "output_type": "display_data"
    },
    {
     "name": "stdout",
     "output_type": "stream",
     "text": [
      "118\n",
      "Dynamics: torch.Size([1, 17, 1, 256, 256])\n",
      "x_initial: torch.Size([1, 1, 256, 256])\n",
      "targets: torch.Size([1, 16, 1, 256, 256])\n"
     ]
    },
    {
     "data": {
      "application/vnd.jupyter.widget-view+json": {
       "model_id": "40db21c855c043df8724c72f74be9e20",
       "version_major": 2,
       "version_minor": 0
      },
      "text/plain": [
       "Sampling time step:   0%|          | 0/16 [00:00<?, ?it/s]"
      ]
     },
     "metadata": {},
     "output_type": "display_data"
    },
    {
     "name": "stdout",
     "output_type": "stream",
     "text": [
      "119\n",
      "Dynamics: torch.Size([1, 17, 1, 256, 256])\n",
      "x_initial: torch.Size([1, 1, 256, 256])\n",
      "targets: torch.Size([1, 16, 1, 256, 256])\n"
     ]
    },
    {
     "data": {
      "application/vnd.jupyter.widget-view+json": {
       "model_id": "51dffd3eaabd43d4bf4cc7799d1881ac",
       "version_major": 2,
       "version_minor": 0
      },
      "text/plain": [
       "Sampling time step:   0%|          | 0/16 [00:00<?, ?it/s]"
      ]
     },
     "metadata": {},
     "output_type": "display_data"
    },
    {
     "name": "stdout",
     "output_type": "stream",
     "text": [
      "120\n",
      "Dynamics: torch.Size([1, 17, 1, 256, 256])\n",
      "x_initial: torch.Size([1, 1, 256, 256])\n",
      "targets: torch.Size([1, 16, 1, 256, 256])\n"
     ]
    },
    {
     "data": {
      "application/vnd.jupyter.widget-view+json": {
       "model_id": "848cb32d1b2446be924eeb4fcdf4d544",
       "version_major": 2,
       "version_minor": 0
      },
      "text/plain": [
       "Sampling time step:   0%|          | 0/16 [00:00<?, ?it/s]"
      ]
     },
     "metadata": {},
     "output_type": "display_data"
    },
    {
     "name": "stdout",
     "output_type": "stream",
     "text": [
      "121\n",
      "Dynamics: torch.Size([1, 17, 1, 256, 256])\n",
      "x_initial: torch.Size([1, 1, 256, 256])\n",
      "targets: torch.Size([1, 16, 1, 256, 256])\n"
     ]
    },
    {
     "data": {
      "application/vnd.jupyter.widget-view+json": {
       "model_id": "d1a2ccf8117c43a8a23323e3a3c35453",
       "version_major": 2,
       "version_minor": 0
      },
      "text/plain": [
       "Sampling time step:   0%|          | 0/16 [00:00<?, ?it/s]"
      ]
     },
     "metadata": {},
     "output_type": "display_data"
    },
    {
     "name": "stdout",
     "output_type": "stream",
     "text": [
      "122\n",
      "Dynamics: torch.Size([1, 17, 1, 256, 256])\n",
      "x_initial: torch.Size([1, 1, 256, 256])\n",
      "targets: torch.Size([1, 16, 1, 256, 256])\n"
     ]
    },
    {
     "data": {
      "application/vnd.jupyter.widget-view+json": {
       "model_id": "24b7c6735f46443e9c50942efc9a075f",
       "version_major": 2,
       "version_minor": 0
      },
      "text/plain": [
       "Sampling time step:   0%|          | 0/16 [00:00<?, ?it/s]"
      ]
     },
     "metadata": {},
     "output_type": "display_data"
    },
    {
     "name": "stdout",
     "output_type": "stream",
     "text": [
      "123\n",
      "Dynamics: torch.Size([1, 17, 1, 256, 256])\n",
      "x_initial: torch.Size([1, 1, 256, 256])\n",
      "targets: torch.Size([1, 16, 1, 256, 256])\n"
     ]
    },
    {
     "data": {
      "application/vnd.jupyter.widget-view+json": {
       "model_id": "e859d090bfd641cd88a396419029d434",
       "version_major": 2,
       "version_minor": 0
      },
      "text/plain": [
       "Sampling time step:   0%|          | 0/16 [00:00<?, ?it/s]"
      ]
     },
     "metadata": {},
     "output_type": "display_data"
    },
    {
     "name": "stdout",
     "output_type": "stream",
     "text": [
      "124\n",
      "Dynamics: torch.Size([1, 17, 1, 256, 256])\n",
      "x_initial: torch.Size([1, 1, 256, 256])\n",
      "targets: torch.Size([1, 16, 1, 256, 256])\n"
     ]
    },
    {
     "data": {
      "application/vnd.jupyter.widget-view+json": {
       "model_id": "4df447c3a4e244bdbffa30fb5ea9d387",
       "version_major": 2,
       "version_minor": 0
      },
      "text/plain": [
       "Sampling time step:   0%|          | 0/16 [00:00<?, ?it/s]"
      ]
     },
     "metadata": {},
     "output_type": "display_data"
    },
    {
     "name": "stdout",
     "output_type": "stream",
     "text": [
      "125\n",
      "Dynamics: torch.Size([1, 17, 1, 256, 256])\n",
      "x_initial: torch.Size([1, 1, 256, 256])\n",
      "targets: torch.Size([1, 16, 1, 256, 256])\n"
     ]
    },
    {
     "data": {
      "application/vnd.jupyter.widget-view+json": {
       "model_id": "7f380901b9684c89a77bd787dd1dac14",
       "version_major": 2,
       "version_minor": 0
      },
      "text/plain": [
       "Sampling time step:   0%|          | 0/16 [00:00<?, ?it/s]"
      ]
     },
     "metadata": {},
     "output_type": "display_data"
    },
    {
     "name": "stdout",
     "output_type": "stream",
     "text": [
      "126\n",
      "Dynamics: torch.Size([1, 17, 1, 256, 256])\n",
      "x_initial: torch.Size([1, 1, 256, 256])\n",
      "targets: torch.Size([1, 16, 1, 256, 256])\n"
     ]
    },
    {
     "data": {
      "application/vnd.jupyter.widget-view+json": {
       "model_id": "15a225413b174341b69fc8a6e9a68160",
       "version_major": 2,
       "version_minor": 0
      },
      "text/plain": [
       "Sampling time step:   0%|          | 0/16 [00:00<?, ?it/s]"
      ]
     },
     "metadata": {},
     "output_type": "display_data"
    },
    {
     "name": "stdout",
     "output_type": "stream",
     "text": [
      "127\n",
      "Dynamics: torch.Size([1, 17, 1, 256, 256])\n",
      "x_initial: torch.Size([1, 1, 256, 256])\n",
      "targets: torch.Size([1, 16, 1, 256, 256])\n"
     ]
    },
    {
     "data": {
      "application/vnd.jupyter.widget-view+json": {
       "model_id": "7fa841f3bbc644558bc9ae9a290fbe65",
       "version_major": 2,
       "version_minor": 0
      },
      "text/plain": [
       "Sampling time step:   0%|          | 0/16 [00:00<?, ?it/s]"
      ]
     },
     "metadata": {},
     "output_type": "display_data"
    },
    {
     "name": "stdout",
     "output_type": "stream",
     "text": [
      "128\n",
      "Dynamics: torch.Size([1, 17, 1, 256, 256])\n",
      "x_initial: torch.Size([1, 1, 256, 256])\n",
      "targets: torch.Size([1, 16, 1, 256, 256])\n"
     ]
    },
    {
     "data": {
      "application/vnd.jupyter.widget-view+json": {
       "model_id": "c7daba4733da484d8ff3e2f2368d795e",
       "version_major": 2,
       "version_minor": 0
      },
      "text/plain": [
       "Sampling time step:   0%|          | 0/16 [00:00<?, ?it/s]"
      ]
     },
     "metadata": {},
     "output_type": "display_data"
    },
    {
     "name": "stdout",
     "output_type": "stream",
     "text": [
      "129\n",
      "Dynamics: torch.Size([1, 17, 1, 256, 256])\n",
      "x_initial: torch.Size([1, 1, 256, 256])\n",
      "targets: torch.Size([1, 16, 1, 256, 256])\n"
     ]
    },
    {
     "data": {
      "application/vnd.jupyter.widget-view+json": {
       "model_id": "1db3c9d4be1c4fc18d38346a2d6d37b5",
       "version_major": 2,
       "version_minor": 0
      },
      "text/plain": [
       "Sampling time step:   0%|          | 0/16 [00:00<?, ?it/s]"
      ]
     },
     "metadata": {},
     "output_type": "display_data"
    },
    {
     "name": "stdout",
     "output_type": "stream",
     "text": [
      "130\n",
      "Dynamics: torch.Size([1, 17, 1, 256, 256])\n",
      "x_initial: torch.Size([1, 1, 256, 256])\n",
      "targets: torch.Size([1, 16, 1, 256, 256])\n"
     ]
    },
    {
     "data": {
      "application/vnd.jupyter.widget-view+json": {
       "model_id": "02c76516b58b4d639e6d7c315c460c90",
       "version_major": 2,
       "version_minor": 0
      },
      "text/plain": [
       "Sampling time step:   0%|          | 0/16 [00:00<?, ?it/s]"
      ]
     },
     "metadata": {},
     "output_type": "display_data"
    },
    {
     "name": "stdout",
     "output_type": "stream",
     "text": [
      "131\n",
      "Dynamics: torch.Size([1, 17, 1, 256, 256])\n",
      "x_initial: torch.Size([1, 1, 256, 256])\n",
      "targets: torch.Size([1, 16, 1, 256, 256])\n"
     ]
    },
    {
     "data": {
      "application/vnd.jupyter.widget-view+json": {
       "model_id": "f4448c80ba48432bbd666014a50691c3",
       "version_major": 2,
       "version_minor": 0
      },
      "text/plain": [
       "Sampling time step:   0%|          | 0/16 [00:00<?, ?it/s]"
      ]
     },
     "metadata": {},
     "output_type": "display_data"
    },
    {
     "name": "stdout",
     "output_type": "stream",
     "text": [
      "132\n",
      "Dynamics: torch.Size([1, 17, 1, 256, 256])\n",
      "x_initial: torch.Size([1, 1, 256, 256])\n",
      "targets: torch.Size([1, 16, 1, 256, 256])\n"
     ]
    },
    {
     "data": {
      "application/vnd.jupyter.widget-view+json": {
       "model_id": "beca967a3bbe477ea1f3e4ac50fe3791",
       "version_major": 2,
       "version_minor": 0
      },
      "text/plain": [
       "Sampling time step:   0%|          | 0/16 [00:00<?, ?it/s]"
      ]
     },
     "metadata": {},
     "output_type": "display_data"
    },
    {
     "name": "stdout",
     "output_type": "stream",
     "text": [
      "133\n",
      "Dynamics: torch.Size([1, 17, 1, 256, 256])\n",
      "x_initial: torch.Size([1, 1, 256, 256])\n",
      "targets: torch.Size([1, 16, 1, 256, 256])\n"
     ]
    },
    {
     "data": {
      "application/vnd.jupyter.widget-view+json": {
       "model_id": "b56072c12a3d454ea35687c45627b594",
       "version_major": 2,
       "version_minor": 0
      },
      "text/plain": [
       "Sampling time step:   0%|          | 0/16 [00:00<?, ?it/s]"
      ]
     },
     "metadata": {},
     "output_type": "display_data"
    },
    {
     "name": "stdout",
     "output_type": "stream",
     "text": [
      "134\n",
      "Dynamics: torch.Size([1, 17, 1, 256, 256])\n",
      "x_initial: torch.Size([1, 1, 256, 256])\n",
      "targets: torch.Size([1, 16, 1, 256, 256])\n"
     ]
    },
    {
     "data": {
      "application/vnd.jupyter.widget-view+json": {
       "model_id": "e0ca8a611c3e483f8ca1880455c095d1",
       "version_major": 2,
       "version_minor": 0
      },
      "text/plain": [
       "Sampling time step:   0%|          | 0/16 [00:00<?, ?it/s]"
      ]
     },
     "metadata": {},
     "output_type": "display_data"
    },
    {
     "name": "stdout",
     "output_type": "stream",
     "text": [
      "135\n",
      "Dynamics: torch.Size([1, 17, 1, 256, 256])\n",
      "x_initial: torch.Size([1, 1, 256, 256])\n",
      "targets: torch.Size([1, 16, 1, 256, 256])\n"
     ]
    },
    {
     "data": {
      "application/vnd.jupyter.widget-view+json": {
       "model_id": "e54095de23fd44adb69b1f27ceffb21e",
       "version_major": 2,
       "version_minor": 0
      },
      "text/plain": [
       "Sampling time step:   0%|          | 0/16 [00:00<?, ?it/s]"
      ]
     },
     "metadata": {},
     "output_type": "display_data"
    },
    {
     "name": "stdout",
     "output_type": "stream",
     "text": [
      "136\n",
      "Dynamics: torch.Size([1, 17, 1, 256, 256])\n",
      "x_initial: torch.Size([1, 1, 256, 256])\n",
      "targets: torch.Size([1, 16, 1, 256, 256])\n"
     ]
    },
    {
     "data": {
      "application/vnd.jupyter.widget-view+json": {
       "model_id": "b29ad379468940feb127344ad614f226",
       "version_major": 2,
       "version_minor": 0
      },
      "text/plain": [
       "Sampling time step:   0%|          | 0/16 [00:00<?, ?it/s]"
      ]
     },
     "metadata": {},
     "output_type": "display_data"
    },
    {
     "name": "stdout",
     "output_type": "stream",
     "text": [
      "137\n",
      "Dynamics: torch.Size([1, 17, 1, 256, 256])\n",
      "x_initial: torch.Size([1, 1, 256, 256])\n",
      "targets: torch.Size([1, 16, 1, 256, 256])\n"
     ]
    },
    {
     "data": {
      "application/vnd.jupyter.widget-view+json": {
       "model_id": "60afb7fa736a4a1bae70bc1cc38a5b28",
       "version_major": 2,
       "version_minor": 0
      },
      "text/plain": [
       "Sampling time step:   0%|          | 0/16 [00:00<?, ?it/s]"
      ]
     },
     "metadata": {},
     "output_type": "display_data"
    },
    {
     "name": "stdout",
     "output_type": "stream",
     "text": [
      "138\n",
      "Dynamics: torch.Size([1, 17, 1, 256, 256])\n",
      "x_initial: torch.Size([1, 1, 256, 256])\n",
      "targets: torch.Size([1, 16, 1, 256, 256])\n"
     ]
    },
    {
     "data": {
      "application/vnd.jupyter.widget-view+json": {
       "model_id": "65cc45ef600d4df9a38fb0857b0e6a33",
       "version_major": 2,
       "version_minor": 0
      },
      "text/plain": [
       "Sampling time step:   0%|          | 0/16 [00:00<?, ?it/s]"
      ]
     },
     "metadata": {},
     "output_type": "display_data"
    },
    {
     "name": "stdout",
     "output_type": "stream",
     "text": [
      "139\n",
      "Dynamics: torch.Size([1, 17, 1, 256, 256])\n",
      "x_initial: torch.Size([1, 1, 256, 256])\n",
      "targets: torch.Size([1, 16, 1, 256, 256])\n"
     ]
    },
    {
     "data": {
      "application/vnd.jupyter.widget-view+json": {
       "model_id": "a80d4eec2e2e4c91881049136d0fcb8b",
       "version_major": 2,
       "version_minor": 0
      },
      "text/plain": [
       "Sampling time step:   0%|          | 0/16 [00:00<?, ?it/s]"
      ]
     },
     "metadata": {},
     "output_type": "display_data"
    },
    {
     "name": "stdout",
     "output_type": "stream",
     "text": [
      "140\n",
      "Dynamics: torch.Size([1, 17, 1, 256, 256])\n",
      "x_initial: torch.Size([1, 1, 256, 256])\n",
      "targets: torch.Size([1, 16, 1, 256, 256])\n"
     ]
    },
    {
     "data": {
      "application/vnd.jupyter.widget-view+json": {
       "model_id": "8b0e68b2a90e4509b0ef1bd09746ac52",
       "version_major": 2,
       "version_minor": 0
      },
      "text/plain": [
       "Sampling time step:   0%|          | 0/16 [00:00<?, ?it/s]"
      ]
     },
     "metadata": {},
     "output_type": "display_data"
    },
    {
     "name": "stdout",
     "output_type": "stream",
     "text": [
      "141\n",
      "Dynamics: torch.Size([1, 17, 1, 256, 256])\n",
      "x_initial: torch.Size([1, 1, 256, 256])\n",
      "targets: torch.Size([1, 16, 1, 256, 256])\n"
     ]
    },
    {
     "data": {
      "application/vnd.jupyter.widget-view+json": {
       "model_id": "e09b8decc9b64022848ce5aaad1703bd",
       "version_major": 2,
       "version_minor": 0
      },
      "text/plain": [
       "Sampling time step:   0%|          | 0/16 [00:00<?, ?it/s]"
      ]
     },
     "metadata": {},
     "output_type": "display_data"
    },
    {
     "name": "stdout",
     "output_type": "stream",
     "text": [
      "142\n",
      "Dynamics: torch.Size([1, 17, 1, 256, 256])\n",
      "x_initial: torch.Size([1, 1, 256, 256])\n",
      "targets: torch.Size([1, 16, 1, 256, 256])\n"
     ]
    },
    {
     "data": {
      "application/vnd.jupyter.widget-view+json": {
       "model_id": "a11c903ff50e45089a4c8b8d7475f7c2",
       "version_major": 2,
       "version_minor": 0
      },
      "text/plain": [
       "Sampling time step:   0%|          | 0/16 [00:00<?, ?it/s]"
      ]
     },
     "metadata": {},
     "output_type": "display_data"
    },
    {
     "name": "stdout",
     "output_type": "stream",
     "text": [
      "143\n",
      "Dynamics: torch.Size([1, 17, 1, 256, 256])\n",
      "x_initial: torch.Size([1, 1, 256, 256])\n",
      "targets: torch.Size([1, 16, 1, 256, 256])\n"
     ]
    },
    {
     "data": {
      "application/vnd.jupyter.widget-view+json": {
       "model_id": "52bfca8f901043d1973b586fff9f8321",
       "version_major": 2,
       "version_minor": 0
      },
      "text/plain": [
       "Sampling time step:   0%|          | 0/16 [00:00<?, ?it/s]"
      ]
     },
     "metadata": {},
     "output_type": "display_data"
    },
    {
     "name": "stdout",
     "output_type": "stream",
     "text": [
      "144\n",
      "Dynamics: torch.Size([1, 17, 1, 256, 256])\n",
      "x_initial: torch.Size([1, 1, 256, 256])\n",
      "targets: torch.Size([1, 16, 1, 256, 256])\n"
     ]
    },
    {
     "data": {
      "application/vnd.jupyter.widget-view+json": {
       "model_id": "b5e6ab00f3c6413d8f7f8cbe92b6d2e7",
       "version_major": 2,
       "version_minor": 0
      },
      "text/plain": [
       "Sampling time step:   0%|          | 0/16 [00:00<?, ?it/s]"
      ]
     },
     "metadata": {},
     "output_type": "display_data"
    },
    {
     "name": "stdout",
     "output_type": "stream",
     "text": [
      "145\n",
      "Dynamics: torch.Size([1, 17, 1, 256, 256])\n",
      "x_initial: torch.Size([1, 1, 256, 256])\n",
      "targets: torch.Size([1, 16, 1, 256, 256])\n"
     ]
    },
    {
     "data": {
      "application/vnd.jupyter.widget-view+json": {
       "model_id": "ed0e47d5801f435f80bd548b17bc48fd",
       "version_major": 2,
       "version_minor": 0
      },
      "text/plain": [
       "Sampling time step:   0%|          | 0/16 [00:00<?, ?it/s]"
      ]
     },
     "metadata": {},
     "output_type": "display_data"
    },
    {
     "name": "stdout",
     "output_type": "stream",
     "text": [
      "146\n",
      "Dynamics: torch.Size([1, 17, 1, 256, 256])\n",
      "x_initial: torch.Size([1, 1, 256, 256])\n",
      "targets: torch.Size([1, 16, 1, 256, 256])\n"
     ]
    },
    {
     "data": {
      "application/vnd.jupyter.widget-view+json": {
       "model_id": "70297e2fe11b49a2939963034de425b1",
       "version_major": 2,
       "version_minor": 0
      },
      "text/plain": [
       "Sampling time step:   0%|          | 0/16 [00:00<?, ?it/s]"
      ]
     },
     "metadata": {},
     "output_type": "display_data"
    },
    {
     "name": "stdout",
     "output_type": "stream",
     "text": [
      "147\n",
      "Dynamics: torch.Size([1, 17, 1, 256, 256])\n",
      "x_initial: torch.Size([1, 1, 256, 256])\n",
      "targets: torch.Size([1, 16, 1, 256, 256])\n"
     ]
    },
    {
     "data": {
      "application/vnd.jupyter.widget-view+json": {
       "model_id": "1227507e6c764575a27d4722991261f1",
       "version_major": 2,
       "version_minor": 0
      },
      "text/plain": [
       "Sampling time step:   0%|          | 0/16 [00:00<?, ?it/s]"
      ]
     },
     "metadata": {},
     "output_type": "display_data"
    },
    {
     "name": "stdout",
     "output_type": "stream",
     "text": [
      "148\n",
      "Dynamics: torch.Size([1, 17, 1, 256, 256])\n",
      "x_initial: torch.Size([1, 1, 256, 256])\n",
      "targets: torch.Size([1, 16, 1, 256, 256])\n"
     ]
    },
    {
     "data": {
      "application/vnd.jupyter.widget-view+json": {
       "model_id": "c3a5a3a040c4420c94bdea4b2c02b44c",
       "version_major": 2,
       "version_minor": 0
      },
      "text/plain": [
       "Sampling time step:   0%|          | 0/16 [00:00<?, ?it/s]"
      ]
     },
     "metadata": {},
     "output_type": "display_data"
    },
    {
     "name": "stdout",
     "output_type": "stream",
     "text": [
      "149\n",
      "Dynamics: torch.Size([1, 17, 1, 256, 256])\n",
      "x_initial: torch.Size([1, 1, 256, 256])\n",
      "targets: torch.Size([1, 16, 1, 256, 256])\n"
     ]
    },
    {
     "data": {
      "application/vnd.jupyter.widget-view+json": {
       "model_id": "0587342435f2432ca30ebcf57b3ee4f8",
       "version_major": 2,
       "version_minor": 0
      },
      "text/plain": [
       "Sampling time step:   0%|          | 0/16 [00:00<?, ?it/s]"
      ]
     },
     "metadata": {},
     "output_type": "display_data"
    },
    {
     "name": "stdout",
     "output_type": "stream",
     "text": [
      "150\n",
      "Dynamics: torch.Size([1, 17, 1, 256, 256])\n",
      "x_initial: torch.Size([1, 1, 256, 256])\n",
      "targets: torch.Size([1, 16, 1, 256, 256])\n"
     ]
    },
    {
     "data": {
      "application/vnd.jupyter.widget-view+json": {
       "model_id": "6c490d94edad41a19c8ecd4080be8f6e",
       "version_major": 2,
       "version_minor": 0
      },
      "text/plain": [
       "Sampling time step:   0%|          | 0/16 [00:00<?, ?it/s]"
      ]
     },
     "metadata": {},
     "output_type": "display_data"
    },
    {
     "name": "stdout",
     "output_type": "stream",
     "text": [
      "151\n",
      "Dynamics: torch.Size([1, 17, 1, 256, 256])\n",
      "x_initial: torch.Size([1, 1, 256, 256])\n",
      "targets: torch.Size([1, 16, 1, 256, 256])\n"
     ]
    },
    {
     "data": {
      "application/vnd.jupyter.widget-view+json": {
       "model_id": "8bef83eaa4de482585017b6024b76a5f",
       "version_major": 2,
       "version_minor": 0
      },
      "text/plain": [
       "Sampling time step:   0%|          | 0/16 [00:00<?, ?it/s]"
      ]
     },
     "metadata": {},
     "output_type": "display_data"
    },
    {
     "name": "stdout",
     "output_type": "stream",
     "text": [
      "152\n",
      "Dynamics: torch.Size([1, 17, 1, 256, 256])\n",
      "x_initial: torch.Size([1, 1, 256, 256])\n",
      "targets: torch.Size([1, 16, 1, 256, 256])\n"
     ]
    },
    {
     "data": {
      "application/vnd.jupyter.widget-view+json": {
       "model_id": "ae9323958078461580a5d511d9b9c6c9",
       "version_major": 2,
       "version_minor": 0
      },
      "text/plain": [
       "Sampling time step:   0%|          | 0/16 [00:00<?, ?it/s]"
      ]
     },
     "metadata": {},
     "output_type": "display_data"
    },
    {
     "name": "stdout",
     "output_type": "stream",
     "text": [
      "153\n",
      "Dynamics: torch.Size([1, 17, 1, 256, 256])\n",
      "x_initial: torch.Size([1, 1, 256, 256])\n",
      "targets: torch.Size([1, 16, 1, 256, 256])\n"
     ]
    },
    {
     "data": {
      "application/vnd.jupyter.widget-view+json": {
       "model_id": "55329fbbd7ff4c759abae8f3f43122cc",
       "version_major": 2,
       "version_minor": 0
      },
      "text/plain": [
       "Sampling time step:   0%|          | 0/16 [00:00<?, ?it/s]"
      ]
     },
     "metadata": {},
     "output_type": "display_data"
    },
    {
     "name": "stdout",
     "output_type": "stream",
     "text": [
      "154\n",
      "Dynamics: torch.Size([1, 17, 1, 256, 256])\n",
      "x_initial: torch.Size([1, 1, 256, 256])\n",
      "targets: torch.Size([1, 16, 1, 256, 256])\n"
     ]
    },
    {
     "data": {
      "application/vnd.jupyter.widget-view+json": {
       "model_id": "c47b4497b5b74685a9cc7d5370fad525",
       "version_major": 2,
       "version_minor": 0
      },
      "text/plain": [
       "Sampling time step:   0%|          | 0/16 [00:00<?, ?it/s]"
      ]
     },
     "metadata": {},
     "output_type": "display_data"
    },
    {
     "name": "stdout",
     "output_type": "stream",
     "text": [
      "155\n",
      "Dynamics: torch.Size([1, 17, 1, 256, 256])\n",
      "x_initial: torch.Size([1, 1, 256, 256])\n",
      "targets: torch.Size([1, 16, 1, 256, 256])\n"
     ]
    },
    {
     "data": {
      "application/vnd.jupyter.widget-view+json": {
       "model_id": "82d7f5bd29f948808dc915b6d0549f4b",
       "version_major": 2,
       "version_minor": 0
      },
      "text/plain": [
       "Sampling time step:   0%|          | 0/16 [00:00<?, ?it/s]"
      ]
     },
     "metadata": {},
     "output_type": "display_data"
    },
    {
     "name": "stdout",
     "output_type": "stream",
     "text": [
      "156\n",
      "Dynamics: torch.Size([1, 17, 1, 256, 256])\n",
      "x_initial: torch.Size([1, 1, 256, 256])\n",
      "targets: torch.Size([1, 16, 1, 256, 256])\n"
     ]
    },
    {
     "data": {
      "application/vnd.jupyter.widget-view+json": {
       "model_id": "29a3ea97b88e402bab2dc5ac47997de1",
       "version_major": 2,
       "version_minor": 0
      },
      "text/plain": [
       "Sampling time step:   0%|          | 0/16 [00:00<?, ?it/s]"
      ]
     },
     "metadata": {},
     "output_type": "display_data"
    },
    {
     "name": "stdout",
     "output_type": "stream",
     "text": [
      "157\n",
      "Dynamics: torch.Size([1, 17, 1, 256, 256])\n",
      "x_initial: torch.Size([1, 1, 256, 256])\n",
      "targets: torch.Size([1, 16, 1, 256, 256])\n"
     ]
    },
    {
     "data": {
      "application/vnd.jupyter.widget-view+json": {
       "model_id": "ea071deeccd247e98e153ea6f9443839",
       "version_major": 2,
       "version_minor": 0
      },
      "text/plain": [
       "Sampling time step:   0%|          | 0/16 [00:00<?, ?it/s]"
      ]
     },
     "metadata": {},
     "output_type": "display_data"
    },
    {
     "name": "stdout",
     "output_type": "stream",
     "text": [
      "158\n",
      "Dynamics: torch.Size([1, 17, 1, 256, 256])\n",
      "x_initial: torch.Size([1, 1, 256, 256])\n",
      "targets: torch.Size([1, 16, 1, 256, 256])\n"
     ]
    },
    {
     "data": {
      "application/vnd.jupyter.widget-view+json": {
       "model_id": "ed779b7116dc49b880c321a539a35e92",
       "version_major": 2,
       "version_minor": 0
      },
      "text/plain": [
       "Sampling time step:   0%|          | 0/16 [00:00<?, ?it/s]"
      ]
     },
     "metadata": {},
     "output_type": "display_data"
    },
    {
     "name": "stdout",
     "output_type": "stream",
     "text": [
      "159\n",
      "Dynamics: torch.Size([1, 17, 1, 256, 256])\n",
      "x_initial: torch.Size([1, 1, 256, 256])\n",
      "targets: torch.Size([1, 16, 1, 256, 256])\n"
     ]
    },
    {
     "data": {
      "application/vnd.jupyter.widget-view+json": {
       "model_id": "3fdf086f41a4466cbb1e943399bd191e",
       "version_major": 2,
       "version_minor": 0
      },
      "text/plain": [
       "Sampling time step:   0%|          | 0/16 [00:00<?, ?it/s]"
      ]
     },
     "metadata": {},
     "output_type": "display_data"
    },
    {
     "name": "stdout",
     "output_type": "stream",
     "text": [
      "160\n",
      "Dynamics: torch.Size([1, 17, 1, 256, 256])\n",
      "x_initial: torch.Size([1, 1, 256, 256])\n",
      "targets: torch.Size([1, 16, 1, 256, 256])\n"
     ]
    },
    {
     "data": {
      "application/vnd.jupyter.widget-view+json": {
       "model_id": "576fe0d40aa94475bcb3bc1d53d9ed24",
       "version_major": 2,
       "version_minor": 0
      },
      "text/plain": [
       "Sampling time step:   0%|          | 0/16 [00:00<?, ?it/s]"
      ]
     },
     "metadata": {},
     "output_type": "display_data"
    },
    {
     "name": "stdout",
     "output_type": "stream",
     "text": [
      "161\n",
      "Dynamics: torch.Size([1, 17, 1, 256, 256])\n",
      "x_initial: torch.Size([1, 1, 256, 256])\n",
      "targets: torch.Size([1, 16, 1, 256, 256])\n"
     ]
    },
    {
     "data": {
      "application/vnd.jupyter.widget-view+json": {
       "model_id": "de738eac19f9422092334a771b6e1438",
       "version_major": 2,
       "version_minor": 0
      },
      "text/plain": [
       "Sampling time step:   0%|          | 0/16 [00:00<?, ?it/s]"
      ]
     },
     "metadata": {},
     "output_type": "display_data"
    },
    {
     "name": "stdout",
     "output_type": "stream",
     "text": [
      "162\n",
      "Dynamics: torch.Size([1, 17, 1, 256, 256])\n",
      "x_initial: torch.Size([1, 1, 256, 256])\n",
      "targets: torch.Size([1, 16, 1, 256, 256])\n"
     ]
    },
    {
     "data": {
      "application/vnd.jupyter.widget-view+json": {
       "model_id": "44ef8014c66848218cde9d19967700e2",
       "version_major": 2,
       "version_minor": 0
      },
      "text/plain": [
       "Sampling time step:   0%|          | 0/16 [00:00<?, ?it/s]"
      ]
     },
     "metadata": {},
     "output_type": "display_data"
    },
    {
     "name": "stdout",
     "output_type": "stream",
     "text": [
      "163\n",
      "Dynamics: torch.Size([1, 17, 1, 256, 256])\n",
      "x_initial: torch.Size([1, 1, 256, 256])\n",
      "targets: torch.Size([1, 16, 1, 256, 256])\n"
     ]
    },
    {
     "data": {
      "application/vnd.jupyter.widget-view+json": {
       "model_id": "a707be6749424f92b3bd491973f3833d",
       "version_major": 2,
       "version_minor": 0
      },
      "text/plain": [
       "Sampling time step:   0%|          | 0/16 [00:00<?, ?it/s]"
      ]
     },
     "metadata": {},
     "output_type": "display_data"
    },
    {
     "name": "stdout",
     "output_type": "stream",
     "text": [
      "164\n",
      "Dynamics: torch.Size([1, 17, 1, 256, 256])\n",
      "x_initial: torch.Size([1, 1, 256, 256])\n",
      "targets: torch.Size([1, 16, 1, 256, 256])\n"
     ]
    },
    {
     "data": {
      "application/vnd.jupyter.widget-view+json": {
       "model_id": "38516ec398d445b98c2e894d4f54ac74",
       "version_major": 2,
       "version_minor": 0
      },
      "text/plain": [
       "Sampling time step:   0%|          | 0/16 [00:00<?, ?it/s]"
      ]
     },
     "metadata": {},
     "output_type": "display_data"
    },
    {
     "name": "stdout",
     "output_type": "stream",
     "text": [
      "165\n",
      "Dynamics: torch.Size([1, 17, 1, 256, 256])\n",
      "x_initial: torch.Size([1, 1, 256, 256])\n",
      "targets: torch.Size([1, 16, 1, 256, 256])\n"
     ]
    },
    {
     "data": {
      "application/vnd.jupyter.widget-view+json": {
       "model_id": "5a6bdb0a9ec84ba5b66be08093ae1b36",
       "version_major": 2,
       "version_minor": 0
      },
      "text/plain": [
       "Sampling time step:   0%|          | 0/16 [00:00<?, ?it/s]"
      ]
     },
     "metadata": {},
     "output_type": "display_data"
    },
    {
     "name": "stdout",
     "output_type": "stream",
     "text": [
      "166\n",
      "Dynamics: torch.Size([1, 17, 1, 256, 256])\n",
      "x_initial: torch.Size([1, 1, 256, 256])\n",
      "targets: torch.Size([1, 16, 1, 256, 256])\n"
     ]
    },
    {
     "data": {
      "application/vnd.jupyter.widget-view+json": {
       "model_id": "eaf63d291338492fb16b35ad2cd5d90d",
       "version_major": 2,
       "version_minor": 0
      },
      "text/plain": [
       "Sampling time step:   0%|          | 0/16 [00:00<?, ?it/s]"
      ]
     },
     "metadata": {},
     "output_type": "display_data"
    },
    {
     "name": "stdout",
     "output_type": "stream",
     "text": [
      "167\n",
      "Dynamics: torch.Size([1, 17, 1, 256, 256])\n",
      "x_initial: torch.Size([1, 1, 256, 256])\n",
      "targets: torch.Size([1, 16, 1, 256, 256])\n"
     ]
    },
    {
     "data": {
      "application/vnd.jupyter.widget-view+json": {
       "model_id": "b80e55f3d9504521a2fbd1f7ea5d2021",
       "version_major": 2,
       "version_minor": 0
      },
      "text/plain": [
       "Sampling time step:   0%|          | 0/16 [00:00<?, ?it/s]"
      ]
     },
     "metadata": {},
     "output_type": "display_data"
    },
    {
     "name": "stdout",
     "output_type": "stream",
     "text": [
      "168\n",
      "Dynamics: torch.Size([1, 17, 1, 256, 256])\n",
      "x_initial: torch.Size([1, 1, 256, 256])\n",
      "targets: torch.Size([1, 16, 1, 256, 256])\n"
     ]
    },
    {
     "data": {
      "application/vnd.jupyter.widget-view+json": {
       "model_id": "930dc97105a4404b9bb325706858be8a",
       "version_major": 2,
       "version_minor": 0
      },
      "text/plain": [
       "Sampling time step:   0%|          | 0/16 [00:00<?, ?it/s]"
      ]
     },
     "metadata": {},
     "output_type": "display_data"
    },
    {
     "name": "stdout",
     "output_type": "stream",
     "text": [
      "169\n",
      "Dynamics: torch.Size([1, 17, 1, 256, 256])\n",
      "x_initial: torch.Size([1, 1, 256, 256])\n",
      "targets: torch.Size([1, 16, 1, 256, 256])\n"
     ]
    },
    {
     "data": {
      "application/vnd.jupyter.widget-view+json": {
       "model_id": "b3d42c9ab6984519827b1a73e27f77e2",
       "version_major": 2,
       "version_minor": 0
      },
      "text/plain": [
       "Sampling time step:   0%|          | 0/16 [00:00<?, ?it/s]"
      ]
     },
     "metadata": {},
     "output_type": "display_data"
    },
    {
     "name": "stdout",
     "output_type": "stream",
     "text": [
      "170\n",
      "Dynamics: torch.Size([1, 17, 1, 256, 256])\n",
      "x_initial: torch.Size([1, 1, 256, 256])\n",
      "targets: torch.Size([1, 16, 1, 256, 256])\n"
     ]
    },
    {
     "data": {
      "application/vnd.jupyter.widget-view+json": {
       "model_id": "3da143356f244ff2ad55dbe560a901bc",
       "version_major": 2,
       "version_minor": 0
      },
      "text/plain": [
       "Sampling time step:   0%|          | 0/16 [00:00<?, ?it/s]"
      ]
     },
     "metadata": {},
     "output_type": "display_data"
    },
    {
     "name": "stdout",
     "output_type": "stream",
     "text": [
      "171\n",
      "Dynamics: torch.Size([1, 17, 1, 256, 256])\n",
      "x_initial: torch.Size([1, 1, 256, 256])\n",
      "targets: torch.Size([1, 16, 1, 256, 256])\n"
     ]
    },
    {
     "data": {
      "application/vnd.jupyter.widget-view+json": {
       "model_id": "f34dca83223c4550b5b72814082fc6f2",
       "version_major": 2,
       "version_minor": 0
      },
      "text/plain": [
       "Sampling time step:   0%|          | 0/16 [00:00<?, ?it/s]"
      ]
     },
     "metadata": {},
     "output_type": "display_data"
    },
    {
     "name": "stdout",
     "output_type": "stream",
     "text": [
      "172\n",
      "Dynamics: torch.Size([1, 17, 1, 256, 256])\n",
      "x_initial: torch.Size([1, 1, 256, 256])\n",
      "targets: torch.Size([1, 16, 1, 256, 256])\n"
     ]
    },
    {
     "data": {
      "application/vnd.jupyter.widget-view+json": {
       "model_id": "abfc17600a5343089f32c9630165152c",
       "version_major": 2,
       "version_minor": 0
      },
      "text/plain": [
       "Sampling time step:   0%|          | 0/16 [00:00<?, ?it/s]"
      ]
     },
     "metadata": {},
     "output_type": "display_data"
    },
    {
     "name": "stdout",
     "output_type": "stream",
     "text": [
      "173\n",
      "Dynamics: torch.Size([1, 17, 1, 256, 256])\n",
      "x_initial: torch.Size([1, 1, 256, 256])\n",
      "targets: torch.Size([1, 16, 1, 256, 256])\n"
     ]
    },
    {
     "data": {
      "application/vnd.jupyter.widget-view+json": {
       "model_id": "289747d5101f46c5bc076660b84cdf12",
       "version_major": 2,
       "version_minor": 0
      },
      "text/plain": [
       "Sampling time step:   0%|          | 0/16 [00:00<?, ?it/s]"
      ]
     },
     "metadata": {},
     "output_type": "display_data"
    },
    {
     "name": "stdout",
     "output_type": "stream",
     "text": [
      "174\n",
      "Dynamics: torch.Size([1, 17, 1, 256, 256])\n",
      "x_initial: torch.Size([1, 1, 256, 256])\n",
      "targets: torch.Size([1, 16, 1, 256, 256])\n"
     ]
    },
    {
     "data": {
      "application/vnd.jupyter.widget-view+json": {
       "model_id": "c2d4bf7e50534a42a481f1db0a5b6c87",
       "version_major": 2,
       "version_minor": 0
      },
      "text/plain": [
       "Sampling time step:   0%|          | 0/16 [00:00<?, ?it/s]"
      ]
     },
     "metadata": {},
     "output_type": "display_data"
    },
    {
     "name": "stdout",
     "output_type": "stream",
     "text": [
      "175\n",
      "Dynamics: torch.Size([1, 17, 1, 256, 256])\n",
      "x_initial: torch.Size([1, 1, 256, 256])\n",
      "targets: torch.Size([1, 16, 1, 256, 256])\n"
     ]
    },
    {
     "data": {
      "application/vnd.jupyter.widget-view+json": {
       "model_id": "228418308fdc4aada7515f37d390b0b6",
       "version_major": 2,
       "version_minor": 0
      },
      "text/plain": [
       "Sampling time step:   0%|          | 0/16 [00:00<?, ?it/s]"
      ]
     },
     "metadata": {},
     "output_type": "display_data"
    },
    {
     "name": "stdout",
     "output_type": "stream",
     "text": [
      "176\n",
      "Dynamics: torch.Size([1, 17, 1, 256, 256])\n",
      "x_initial: torch.Size([1, 1, 256, 256])\n",
      "targets: torch.Size([1, 16, 1, 256, 256])\n"
     ]
    },
    {
     "data": {
      "application/vnd.jupyter.widget-view+json": {
       "model_id": "ce5f36e6f64d4c9ea67c5855f3cf056d",
       "version_major": 2,
       "version_minor": 0
      },
      "text/plain": [
       "Sampling time step:   0%|          | 0/16 [00:00<?, ?it/s]"
      ]
     },
     "metadata": {},
     "output_type": "display_data"
    },
    {
     "name": "stdout",
     "output_type": "stream",
     "text": [
      "177\n",
      "Dynamics: torch.Size([1, 17, 1, 256, 256])\n",
      "x_initial: torch.Size([1, 1, 256, 256])\n",
      "targets: torch.Size([1, 16, 1, 256, 256])\n"
     ]
    },
    {
     "data": {
      "application/vnd.jupyter.widget-view+json": {
       "model_id": "ffd87112756043fab9a987a9093719f3",
       "version_major": 2,
       "version_minor": 0
      },
      "text/plain": [
       "Sampling time step:   0%|          | 0/16 [00:00<?, ?it/s]"
      ]
     },
     "metadata": {},
     "output_type": "display_data"
    },
    {
     "name": "stdout",
     "output_type": "stream",
     "text": [
      "178\n",
      "Dynamics: torch.Size([1, 17, 1, 256, 256])\n",
      "x_initial: torch.Size([1, 1, 256, 256])\n",
      "targets: torch.Size([1, 16, 1, 256, 256])\n"
     ]
    },
    {
     "data": {
      "application/vnd.jupyter.widget-view+json": {
       "model_id": "03ca927ae26a4d03ba443ae2e46078fb",
       "version_major": 2,
       "version_minor": 0
      },
      "text/plain": [
       "Sampling time step:   0%|          | 0/16 [00:00<?, ?it/s]"
      ]
     },
     "metadata": {},
     "output_type": "display_data"
    },
    {
     "name": "stdout",
     "output_type": "stream",
     "text": [
      "179\n",
      "Dynamics: torch.Size([1, 17, 1, 256, 256])\n",
      "x_initial: torch.Size([1, 1, 256, 256])\n",
      "targets: torch.Size([1, 16, 1, 256, 256])\n"
     ]
    },
    {
     "data": {
      "application/vnd.jupyter.widget-view+json": {
       "model_id": "988b568b0a3f400dbebc79dffd18ffb6",
       "version_major": 2,
       "version_minor": 0
      },
      "text/plain": [
       "Sampling time step:   0%|          | 0/16 [00:00<?, ?it/s]"
      ]
     },
     "metadata": {},
     "output_type": "display_data"
    },
    {
     "name": "stdout",
     "output_type": "stream",
     "text": [
      "180\n",
      "Dynamics: torch.Size([1, 17, 1, 256, 256])\n",
      "x_initial: torch.Size([1, 1, 256, 256])\n",
      "targets: torch.Size([1, 16, 1, 256, 256])\n"
     ]
    },
    {
     "data": {
      "application/vnd.jupyter.widget-view+json": {
       "model_id": "db4aa7622a7d4328b9afe506bbbc0956",
       "version_major": 2,
       "version_minor": 0
      },
      "text/plain": [
       "Sampling time step:   0%|          | 0/16 [00:00<?, ?it/s]"
      ]
     },
     "metadata": {},
     "output_type": "display_data"
    },
    {
     "name": "stdout",
     "output_type": "stream",
     "text": [
      "181\n",
      "Dynamics: torch.Size([1, 17, 1, 256, 256])\n",
      "x_initial: torch.Size([1, 1, 256, 256])\n",
      "targets: torch.Size([1, 16, 1, 256, 256])\n"
     ]
    },
    {
     "data": {
      "application/vnd.jupyter.widget-view+json": {
       "model_id": "65bb3181ffe347c58ba7cd8f906a9f1b",
       "version_major": 2,
       "version_minor": 0
      },
      "text/plain": [
       "Sampling time step:   0%|          | 0/16 [00:00<?, ?it/s]"
      ]
     },
     "metadata": {},
     "output_type": "display_data"
    },
    {
     "name": "stdout",
     "output_type": "stream",
     "text": [
      "182\n",
      "Dynamics: torch.Size([1, 17, 1, 256, 256])\n",
      "x_initial: torch.Size([1, 1, 256, 256])\n",
      "targets: torch.Size([1, 16, 1, 256, 256])\n"
     ]
    },
    {
     "data": {
      "application/vnd.jupyter.widget-view+json": {
       "model_id": "2c8c66be1b9b43ae92b69ab858059e4b",
       "version_major": 2,
       "version_minor": 0
      },
      "text/plain": [
       "Sampling time step:   0%|          | 0/16 [00:00<?, ?it/s]"
      ]
     },
     "metadata": {},
     "output_type": "display_data"
    },
    {
     "name": "stdout",
     "output_type": "stream",
     "text": [
      "183\n",
      "Dynamics: torch.Size([1, 17, 1, 256, 256])\n",
      "x_initial: torch.Size([1, 1, 256, 256])\n",
      "targets: torch.Size([1, 16, 1, 256, 256])\n"
     ]
    },
    {
     "data": {
      "application/vnd.jupyter.widget-view+json": {
       "model_id": "24a2a68d98f8464d80b7f8b7559fcb0d",
       "version_major": 2,
       "version_minor": 0
      },
      "text/plain": [
       "Sampling time step:   0%|          | 0/16 [00:00<?, ?it/s]"
      ]
     },
     "metadata": {},
     "output_type": "display_data"
    },
    {
     "name": "stdout",
     "output_type": "stream",
     "text": [
      "184\n",
      "Dynamics: torch.Size([1, 17, 1, 256, 256])\n",
      "x_initial: torch.Size([1, 1, 256, 256])\n",
      "targets: torch.Size([1, 16, 1, 256, 256])\n"
     ]
    },
    {
     "data": {
      "application/vnd.jupyter.widget-view+json": {
       "model_id": "23c8fade32d24244b141267fce692544",
       "version_major": 2,
       "version_minor": 0
      },
      "text/plain": [
       "Sampling time step:   0%|          | 0/16 [00:00<?, ?it/s]"
      ]
     },
     "metadata": {},
     "output_type": "display_data"
    },
    {
     "name": "stdout",
     "output_type": "stream",
     "text": [
      "185\n",
      "Dynamics: torch.Size([1, 17, 1, 256, 256])\n",
      "x_initial: torch.Size([1, 1, 256, 256])\n",
      "targets: torch.Size([1, 16, 1, 256, 256])\n"
     ]
    },
    {
     "data": {
      "application/vnd.jupyter.widget-view+json": {
       "model_id": "48c81882d1cc4499b8b76377432e94f4",
       "version_major": 2,
       "version_minor": 0
      },
      "text/plain": [
       "Sampling time step:   0%|          | 0/16 [00:00<?, ?it/s]"
      ]
     },
     "metadata": {},
     "output_type": "display_data"
    },
    {
     "name": "stdout",
     "output_type": "stream",
     "text": [
      "186\n",
      "Dynamics: torch.Size([1, 17, 1, 256, 256])\n",
      "x_initial: torch.Size([1, 1, 256, 256])\n",
      "targets: torch.Size([1, 16, 1, 256, 256])\n"
     ]
    },
    {
     "data": {
      "application/vnd.jupyter.widget-view+json": {
       "model_id": "0d76314c3206469fa2f75dec99408442",
       "version_major": 2,
       "version_minor": 0
      },
      "text/plain": [
       "Sampling time step:   0%|          | 0/16 [00:00<?, ?it/s]"
      ]
     },
     "metadata": {},
     "output_type": "display_data"
    },
    {
     "name": "stdout",
     "output_type": "stream",
     "text": [
      "187\n",
      "Dynamics: torch.Size([1, 17, 1, 256, 256])\n",
      "x_initial: torch.Size([1, 1, 256, 256])\n",
      "targets: torch.Size([1, 16, 1, 256, 256])\n"
     ]
    },
    {
     "data": {
      "application/vnd.jupyter.widget-view+json": {
       "model_id": "ecc6f901898948229fdf5de4fbdb4e1e",
       "version_major": 2,
       "version_minor": 0
      },
      "text/plain": [
       "Sampling time step:   0%|          | 0/16 [00:00<?, ?it/s]"
      ]
     },
     "metadata": {},
     "output_type": "display_data"
    },
    {
     "name": "stdout",
     "output_type": "stream",
     "text": [
      "188\n",
      "Dynamics: torch.Size([1, 17, 1, 256, 256])\n",
      "x_initial: torch.Size([1, 1, 256, 256])\n",
      "targets: torch.Size([1, 16, 1, 256, 256])\n"
     ]
    },
    {
     "data": {
      "application/vnd.jupyter.widget-view+json": {
       "model_id": "6a9ee3220fde4336a5fa4db85ba1cb96",
       "version_major": 2,
       "version_minor": 0
      },
      "text/plain": [
       "Sampling time step:   0%|          | 0/16 [00:00<?, ?it/s]"
      ]
     },
     "metadata": {},
     "output_type": "display_data"
    },
    {
     "name": "stdout",
     "output_type": "stream",
     "text": [
      "189\n",
      "Dynamics: torch.Size([1, 17, 1, 256, 256])\n",
      "x_initial: torch.Size([1, 1, 256, 256])\n",
      "targets: torch.Size([1, 16, 1, 256, 256])\n"
     ]
    },
    {
     "data": {
      "application/vnd.jupyter.widget-view+json": {
       "model_id": "42618e6409424187a6bdf65ddd68b91a",
       "version_major": 2,
       "version_minor": 0
      },
      "text/plain": [
       "Sampling time step:   0%|          | 0/16 [00:00<?, ?it/s]"
      ]
     },
     "metadata": {},
     "output_type": "display_data"
    },
    {
     "name": "stdout",
     "output_type": "stream",
     "text": [
      "190\n",
      "Dynamics: torch.Size([1, 17, 1, 256, 256])\n",
      "x_initial: torch.Size([1, 1, 256, 256])\n",
      "targets: torch.Size([1, 16, 1, 256, 256])\n"
     ]
    },
    {
     "data": {
      "application/vnd.jupyter.widget-view+json": {
       "model_id": "9cf460a9a58c4bc5b37f76f271a8bd1a",
       "version_major": 2,
       "version_minor": 0
      },
      "text/plain": [
       "Sampling time step:   0%|          | 0/16 [00:00<?, ?it/s]"
      ]
     },
     "metadata": {},
     "output_type": "display_data"
    },
    {
     "name": "stdout",
     "output_type": "stream",
     "text": [
      "191\n",
      "Dynamics: torch.Size([1, 17, 1, 256, 256])\n",
      "x_initial: torch.Size([1, 1, 256, 256])\n",
      "targets: torch.Size([1, 16, 1, 256, 256])\n"
     ]
    },
    {
     "data": {
      "application/vnd.jupyter.widget-view+json": {
       "model_id": "296368d244824335adb1c8d008c1069a",
       "version_major": 2,
       "version_minor": 0
      },
      "text/plain": [
       "Sampling time step:   0%|          | 0/16 [00:00<?, ?it/s]"
      ]
     },
     "metadata": {},
     "output_type": "display_data"
    },
    {
     "name": "stdout",
     "output_type": "stream",
     "text": [
      "192\n",
      "Dynamics: torch.Size([1, 17, 1, 256, 256])\n",
      "x_initial: torch.Size([1, 1, 256, 256])\n",
      "targets: torch.Size([1, 16, 1, 256, 256])\n"
     ]
    },
    {
     "data": {
      "application/vnd.jupyter.widget-view+json": {
       "model_id": "266051901ca947de8e4425adbfbdf286",
       "version_major": 2,
       "version_minor": 0
      },
      "text/plain": [
       "Sampling time step:   0%|          | 0/16 [00:00<?, ?it/s]"
      ]
     },
     "metadata": {},
     "output_type": "display_data"
    },
    {
     "name": "stdout",
     "output_type": "stream",
     "text": [
      "193\n",
      "Dynamics: torch.Size([1, 17, 1, 256, 256])\n",
      "x_initial: torch.Size([1, 1, 256, 256])\n",
      "targets: torch.Size([1, 16, 1, 256, 256])\n"
     ]
    },
    {
     "data": {
      "application/vnd.jupyter.widget-view+json": {
       "model_id": "24e92a1e3ba2492c891a8d752a7bad54",
       "version_major": 2,
       "version_minor": 0
      },
      "text/plain": [
       "Sampling time step:   0%|          | 0/16 [00:00<?, ?it/s]"
      ]
     },
     "metadata": {},
     "output_type": "display_data"
    },
    {
     "name": "stdout",
     "output_type": "stream",
     "text": [
      "194\n",
      "Dynamics: torch.Size([1, 17, 1, 256, 256])\n",
      "x_initial: torch.Size([1, 1, 256, 256])\n",
      "targets: torch.Size([1, 16, 1, 256, 256])\n"
     ]
    },
    {
     "data": {
      "application/vnd.jupyter.widget-view+json": {
       "model_id": "33184891e3184a43b8db28eec2983a8b",
       "version_major": 2,
       "version_minor": 0
      },
      "text/plain": [
       "Sampling time step:   0%|          | 0/16 [00:00<?, ?it/s]"
      ]
     },
     "metadata": {},
     "output_type": "display_data"
    },
    {
     "name": "stdout",
     "output_type": "stream",
     "text": [
      "195\n",
      "Dynamics: torch.Size([1, 17, 1, 256, 256])\n",
      "x_initial: torch.Size([1, 1, 256, 256])\n",
      "targets: torch.Size([1, 16, 1, 256, 256])\n"
     ]
    },
    {
     "data": {
      "application/vnd.jupyter.widget-view+json": {
       "model_id": "deefd01b635946c28bafef5f3ce3a62f",
       "version_major": 2,
       "version_minor": 0
      },
      "text/plain": [
       "Sampling time step:   0%|          | 0/16 [00:00<?, ?it/s]"
      ]
     },
     "metadata": {},
     "output_type": "display_data"
    },
    {
     "name": "stdout",
     "output_type": "stream",
     "text": [
      "196\n",
      "Dynamics: torch.Size([1, 17, 1, 256, 256])\n",
      "x_initial: torch.Size([1, 1, 256, 256])\n",
      "targets: torch.Size([1, 16, 1, 256, 256])\n"
     ]
    },
    {
     "data": {
      "application/vnd.jupyter.widget-view+json": {
       "model_id": "dcdc100f49a24bbdbf3216bcc2ca5f80",
       "version_major": 2,
       "version_minor": 0
      },
      "text/plain": [
       "Sampling time step:   0%|          | 0/16 [00:00<?, ?it/s]"
      ]
     },
     "metadata": {},
     "output_type": "display_data"
    },
    {
     "name": "stdout",
     "output_type": "stream",
     "text": [
      "197\n",
      "Dynamics: torch.Size([1, 17, 1, 256, 256])\n",
      "x_initial: torch.Size([1, 1, 256, 256])\n",
      "targets: torch.Size([1, 16, 1, 256, 256])\n"
     ]
    },
    {
     "data": {
      "application/vnd.jupyter.widget-view+json": {
       "model_id": "ff8fa4d9e1d040fc92fb74787f1613d4",
       "version_major": 2,
       "version_minor": 0
      },
      "text/plain": [
       "Sampling time step:   0%|          | 0/16 [00:00<?, ?it/s]"
      ]
     },
     "metadata": {},
     "output_type": "display_data"
    },
    {
     "name": "stdout",
     "output_type": "stream",
     "text": [
      "198\n",
      "Dynamics: torch.Size([1, 17, 1, 256, 256])\n",
      "x_initial: torch.Size([1, 1, 256, 256])\n",
      "targets: torch.Size([1, 16, 1, 256, 256])\n"
     ]
    },
    {
     "data": {
      "application/vnd.jupyter.widget-view+json": {
       "model_id": "dd55adcfe8e64defb5576a20ed4c5da3",
       "version_major": 2,
       "version_minor": 0
      },
      "text/plain": [
       "Sampling time step:   0%|          | 0/16 [00:00<?, ?it/s]"
      ]
     },
     "metadata": {},
     "output_type": "display_data"
    },
    {
     "name": "stdout",
     "output_type": "stream",
     "text": [
      "199\n",
      "Dynamics: torch.Size([1, 17, 1, 256, 256])\n",
      "x_initial: torch.Size([1, 1, 256, 256])\n",
      "targets: torch.Size([1, 16, 1, 256, 256])\n"
     ]
    },
    {
     "data": {
      "application/vnd.jupyter.widget-view+json": {
       "model_id": "dfa7625137204ec188a2f6bb9fce3fac",
       "version_major": 2,
       "version_minor": 0
      },
      "text/plain": [
       "Sampling time step:   0%|          | 0/16 [00:00<?, ?it/s]"
      ]
     },
     "metadata": {},
     "output_type": "display_data"
    },
    {
     "name": "stdout",
     "output_type": "stream",
     "text": [
      "200\n",
      "Dynamics: torch.Size([1, 17, 1, 256, 256])\n",
      "x_initial: torch.Size([1, 1, 256, 256])\n",
      "targets: torch.Size([1, 16, 1, 256, 256])\n"
     ]
    },
    {
     "data": {
      "application/vnd.jupyter.widget-view+json": {
       "model_id": "de6f12682c0e401a9be2811875a4d4fe",
       "version_major": 2,
       "version_minor": 0
      },
      "text/plain": [
       "Sampling time step:   0%|          | 0/16 [00:00<?, ?it/s]"
      ]
     },
     "metadata": {},
     "output_type": "display_data"
    },
    {
     "name": "stdout",
     "output_type": "stream",
     "text": [
      "201\n",
      "Dynamics: torch.Size([1, 17, 1, 256, 256])\n",
      "x_initial: torch.Size([1, 1, 256, 256])\n",
      "targets: torch.Size([1, 16, 1, 256, 256])\n"
     ]
    },
    {
     "data": {
      "application/vnd.jupyter.widget-view+json": {
       "model_id": "2d61cfa44f4c483591eb4c364560cc44",
       "version_major": 2,
       "version_minor": 0
      },
      "text/plain": [
       "Sampling time step:   0%|          | 0/16 [00:00<?, ?it/s]"
      ]
     },
     "metadata": {},
     "output_type": "display_data"
    },
    {
     "name": "stdout",
     "output_type": "stream",
     "text": [
      "202\n",
      "Dynamics: torch.Size([1, 17, 1, 256, 256])\n",
      "x_initial: torch.Size([1, 1, 256, 256])\n",
      "targets: torch.Size([1, 16, 1, 256, 256])\n"
     ]
    },
    {
     "data": {
      "application/vnd.jupyter.widget-view+json": {
       "model_id": "408d6c807c3540bba8b56636f3f7c2fd",
       "version_major": 2,
       "version_minor": 0
      },
      "text/plain": [
       "Sampling time step:   0%|          | 0/16 [00:00<?, ?it/s]"
      ]
     },
     "metadata": {},
     "output_type": "display_data"
    },
    {
     "name": "stdout",
     "output_type": "stream",
     "text": [
      "203\n",
      "Dynamics: torch.Size([1, 17, 1, 256, 256])\n",
      "x_initial: torch.Size([1, 1, 256, 256])\n",
      "targets: torch.Size([1, 16, 1, 256, 256])\n"
     ]
    },
    {
     "data": {
      "application/vnd.jupyter.widget-view+json": {
       "model_id": "77d6c747538c4e8a927f5b042642ef08",
       "version_major": 2,
       "version_minor": 0
      },
      "text/plain": [
       "Sampling time step:   0%|          | 0/16 [00:00<?, ?it/s]"
      ]
     },
     "metadata": {},
     "output_type": "display_data"
    },
    {
     "name": "stdout",
     "output_type": "stream",
     "text": [
      "204\n",
      "Dynamics: torch.Size([1, 17, 1, 256, 256])\n",
      "x_initial: torch.Size([1, 1, 256, 256])\n",
      "targets: torch.Size([1, 16, 1, 256, 256])\n"
     ]
    },
    {
     "data": {
      "application/vnd.jupyter.widget-view+json": {
       "model_id": "8b0b8ddda3d64d0887ab395902316036",
       "version_major": 2,
       "version_minor": 0
      },
      "text/plain": [
       "Sampling time step:   0%|          | 0/16 [00:00<?, ?it/s]"
      ]
     },
     "metadata": {},
     "output_type": "display_data"
    },
    {
     "name": "stdout",
     "output_type": "stream",
     "text": [
      "205\n",
      "Dynamics: torch.Size([1, 17, 1, 256, 256])\n",
      "x_initial: torch.Size([1, 1, 256, 256])\n",
      "targets: torch.Size([1, 16, 1, 256, 256])\n"
     ]
    },
    {
     "data": {
      "application/vnd.jupyter.widget-view+json": {
       "model_id": "c0bdb0e86ee042358563e674c99981d2",
       "version_major": 2,
       "version_minor": 0
      },
      "text/plain": [
       "Sampling time step:   0%|          | 0/16 [00:00<?, ?it/s]"
      ]
     },
     "metadata": {},
     "output_type": "display_data"
    },
    {
     "name": "stdout",
     "output_type": "stream",
     "text": [
      "206\n",
      "Dynamics: torch.Size([1, 17, 1, 256, 256])\n",
      "x_initial: torch.Size([1, 1, 256, 256])\n",
      "targets: torch.Size([1, 16, 1, 256, 256])\n"
     ]
    },
    {
     "data": {
      "application/vnd.jupyter.widget-view+json": {
       "model_id": "30b954994b8e41cfb2ea4c8f4c0d9e8e",
       "version_major": 2,
       "version_minor": 0
      },
      "text/plain": [
       "Sampling time step:   0%|          | 0/16 [00:00<?, ?it/s]"
      ]
     },
     "metadata": {},
     "output_type": "display_data"
    },
    {
     "name": "stdout",
     "output_type": "stream",
     "text": [
      "207\n",
      "Dynamics: torch.Size([1, 17, 1, 256, 256])\n",
      "x_initial: torch.Size([1, 1, 256, 256])\n",
      "targets: torch.Size([1, 16, 1, 256, 256])\n"
     ]
    },
    {
     "data": {
      "application/vnd.jupyter.widget-view+json": {
       "model_id": "12c7f39516ed4322b67e3e0013e95e3b",
       "version_major": 2,
       "version_minor": 0
      },
      "text/plain": [
       "Sampling time step:   0%|          | 0/16 [00:00<?, ?it/s]"
      ]
     },
     "metadata": {},
     "output_type": "display_data"
    },
    {
     "name": "stdout",
     "output_type": "stream",
     "text": [
      "208\n",
      "Dynamics: torch.Size([1, 17, 1, 256, 256])\n",
      "x_initial: torch.Size([1, 1, 256, 256])\n",
      "targets: torch.Size([1, 16, 1, 256, 256])\n"
     ]
    },
    {
     "data": {
      "application/vnd.jupyter.widget-view+json": {
       "model_id": "298d551b2b654fe7a06e4366ed560bb4",
       "version_major": 2,
       "version_minor": 0
      },
      "text/plain": [
       "Sampling time step:   0%|          | 0/16 [00:00<?, ?it/s]"
      ]
     },
     "metadata": {},
     "output_type": "display_data"
    },
    {
     "name": "stdout",
     "output_type": "stream",
     "text": [
      "209\n",
      "Dynamics: torch.Size([1, 17, 1, 256, 256])\n",
      "x_initial: torch.Size([1, 1, 256, 256])\n",
      "targets: torch.Size([1, 16, 1, 256, 256])\n"
     ]
    },
    {
     "data": {
      "application/vnd.jupyter.widget-view+json": {
       "model_id": "d89bba3540794049998ce8e01a806306",
       "version_major": 2,
       "version_minor": 0
      },
      "text/plain": [
       "Sampling time step:   0%|          | 0/16 [00:00<?, ?it/s]"
      ]
     },
     "metadata": {},
     "output_type": "display_data"
    },
    {
     "name": "stdout",
     "output_type": "stream",
     "text": [
      "210\n",
      "Dynamics: torch.Size([1, 17, 1, 256, 256])\n",
      "x_initial: torch.Size([1, 1, 256, 256])\n",
      "targets: torch.Size([1, 16, 1, 256, 256])\n"
     ]
    },
    {
     "data": {
      "application/vnd.jupyter.widget-view+json": {
       "model_id": "61630cbe54294ee0b8d4df0d98f96260",
       "version_major": 2,
       "version_minor": 0
      },
      "text/plain": [
       "Sampling time step:   0%|          | 0/16 [00:00<?, ?it/s]"
      ]
     },
     "metadata": {},
     "output_type": "display_data"
    },
    {
     "name": "stdout",
     "output_type": "stream",
     "text": [
      "211\n",
      "Dynamics: torch.Size([1, 17, 1, 256, 256])\n",
      "x_initial: torch.Size([1, 1, 256, 256])\n",
      "targets: torch.Size([1, 16, 1, 256, 256])\n"
     ]
    },
    {
     "data": {
      "application/vnd.jupyter.widget-view+json": {
       "model_id": "fb940c039e464bd8ab54ec0b5ed740f9",
       "version_major": 2,
       "version_minor": 0
      },
      "text/plain": [
       "Sampling time step:   0%|          | 0/16 [00:00<?, ?it/s]"
      ]
     },
     "metadata": {},
     "output_type": "display_data"
    },
    {
     "name": "stdout",
     "output_type": "stream",
     "text": [
      "212\n",
      "Dynamics: torch.Size([1, 17, 1, 256, 256])\n",
      "x_initial: torch.Size([1, 1, 256, 256])\n",
      "targets: torch.Size([1, 16, 1, 256, 256])\n"
     ]
    },
    {
     "data": {
      "application/vnd.jupyter.widget-view+json": {
       "model_id": "3bed23b26fe747b18dc389256dc0c852",
       "version_major": 2,
       "version_minor": 0
      },
      "text/plain": [
       "Sampling time step:   0%|          | 0/16 [00:00<?, ?it/s]"
      ]
     },
     "metadata": {},
     "output_type": "display_data"
    },
    {
     "name": "stdout",
     "output_type": "stream",
     "text": [
      "213\n",
      "Dynamics: torch.Size([1, 17, 1, 256, 256])\n",
      "x_initial: torch.Size([1, 1, 256, 256])\n",
      "targets: torch.Size([1, 16, 1, 256, 256])\n"
     ]
    },
    {
     "data": {
      "application/vnd.jupyter.widget-view+json": {
       "model_id": "666a043f2bda48938f37ba268281f4fa",
       "version_major": 2,
       "version_minor": 0
      },
      "text/plain": [
       "Sampling time step:   0%|          | 0/16 [00:00<?, ?it/s]"
      ]
     },
     "metadata": {},
     "output_type": "display_data"
    },
    {
     "name": "stdout",
     "output_type": "stream",
     "text": [
      "214\n",
      "Dynamics: torch.Size([1, 17, 1, 256, 256])\n",
      "x_initial: torch.Size([1, 1, 256, 256])\n",
      "targets: torch.Size([1, 16, 1, 256, 256])\n"
     ]
    },
    {
     "data": {
      "application/vnd.jupyter.widget-view+json": {
       "model_id": "8f6009a0487e4ccdaadaf292a2862573",
       "version_major": 2,
       "version_minor": 0
      },
      "text/plain": [
       "Sampling time step:   0%|          | 0/16 [00:00<?, ?it/s]"
      ]
     },
     "metadata": {},
     "output_type": "display_data"
    },
    {
     "name": "stdout",
     "output_type": "stream",
     "text": [
      "215\n",
      "Dynamics: torch.Size([1, 17, 1, 256, 256])\n",
      "x_initial: torch.Size([1, 1, 256, 256])\n",
      "targets: torch.Size([1, 16, 1, 256, 256])\n"
     ]
    },
    {
     "data": {
      "application/vnd.jupyter.widget-view+json": {
       "model_id": "a14ede197684472bb9005b05cbffe35f",
       "version_major": 2,
       "version_minor": 0
      },
      "text/plain": [
       "Sampling time step:   0%|          | 0/16 [00:00<?, ?it/s]"
      ]
     },
     "metadata": {},
     "output_type": "display_data"
    }
   ],
   "source": [
    "RFNE_error, R2s = evaluate(\n",
    "    model.model,\n",
    "    batch_size=32,\n",
    "    pred_step=16,\n",
    "    Reynolds_number=1000,\n",
    "    num_samples=1,\n",
    "    stride=1024,\n",
    ")"
   ]
  },
  {
   "cell_type": "code",
   "execution_count": 88,
   "id": "8a45514e-d928-47ff-9df6-79b6c4326362",
   "metadata": {
    "tags": []
   },
   "outputs": [
    {
     "name": "stdout",
     "output_type": "stream",
     "text": [
      "(16, 176)\n"
     ]
    }
   ],
   "source": [
    "np_RFNE_error = np.vstack(RFNE_error)\n",
    "np_RFNE_error = np_RFNE_error.reshape(11, 16, 16).transpose(1, 0, 2).reshape(16, -1)\n",
    "print(np_RFNE_error.shape)"
   ]
  },
  {
   "cell_type": "code",
   "execution_count": 89,
   "id": "3ad73199-831c-41b0-8370-0d8853afa820",
   "metadata": {
    "tags": []
   },
   "outputs": [
    {
     "name": "stdout",
     "output_type": "stream",
     "text": [
      "(16, 176)\n"
     ]
    }
   ],
   "source": [
    "np_R2s = np.vstack(R2s)\n",
    "np_R2s = np_R2s.reshape(11, 16, 16).transpose(1, 0, 2).reshape(16, -1)\n",
    "print(np_R2s.shape)"
   ]
  },
  {
   "cell_type": "code",
   "execution_count": 91,
   "id": "7e323a4d-0962-4755-bd73-a0bbcb8459bb",
   "metadata": {
    "tags": []
   },
   "outputs": [
    {
     "name": "stdout",
     "output_type": "stream",
     "text": [
      "Average RFNE=array([0.13488062, 0.27871546, 0.40462962, 0.49019563, 0.5647348 ,\n",
      "       0.63337743, 0.70332617, 0.7642807 , 0.821614  , 0.8709077 ,\n",
      "       0.90735435, 0.93428326, 0.96080035, 0.97868896, 0.9941708 ,\n",
      "       1.047635  ], dtype=float32)\n",
      "Average Pearson correlation coefficients=array([ 0.99209387,  0.9642168 ,  0.92269853,  0.88827724,  0.85572324,\n",
      "        0.82437783,  0.78993797,  0.76310369,  0.73490403,  0.69780034,\n",
      "        0.66091602,  0.62717859,  0.54998335,  0.46833645,  0.23610107,\n",
      "       -0.02022874])\n"
     ]
    }
   ],
   "source": [
    "avg_RFNE = np.mean(np.vstack(np_RFNE_error), axis=1)\n",
    "print(f'Average RFNE={repr(avg_RFNE)}')\n",
    "avg_R2 = np.mean(np.vstack(np_R2s), axis=1)\n",
    "print(f'Average Pearson correlation coefficients={repr(avg_R2)}')"
   ]
  },
  {
   "cell_type": "code",
   "execution_count": 98,
   "id": "cdc855ba-2a2f-4672-97f7-0adec373b293",
   "metadata": {
    "tags": []
   },
   "outputs": [
    {
     "data": {
      "image/png": "[encoded data removed]",
      "text/plain": [
       "<Figure size 640x480 with 1 Axes>"
      ]
     },
     "metadata": {},
     "output_type": "display_data"
    }
   ],
   "source": [
    "plt.plot(range(1, len(avg_RFNE)+1), avg_RFNE)\n",
    "plt.scatter(range(1, len(avg_RFNE)+1), avg_RFNE)\n",
    "plt.xlabel(\"Timesteps\")\n",
    "plt.ylabel(\"RFNE\")\n",
    "plt.title(\"DYffusion\")\n",
    "plt.savefig(\"/pscratch/sd/j/jwl50/dyffusion/090524_RFNE.png\")\n",
    "plt.show()"
   ]
  },
  {
   "cell_type": "code",
   "execution_count": 97,
   "id": "b629ce94-7bc2-4063-aba1-0898e2c86ff0",
   "metadata": {
    "tags": []
   },
   "outputs": [
    {
     "data": {
      "image/png": "[encoded data removed]",
      "text/plain": [
       "<Figure size 640x480 with 1 Axes>"
      ]
     },
     "metadata": {},
     "output_type": "display_data"
    }
   ],
   "source": [
    "plt.plot(range(1, len(avg_R2)+1), avg_R2)\n",
    "plt.scatter(range(1, len(avg_R2)+1), avg_R2)\n",
    "plt.xlabel(\"Timesteps\")\n",
    "plt.ylabel(\"R2\")\n",
    "plt.title(\"DYffusion\")\n",
    "plt.savefig(\"/pscratch/sd/j/jwl50/dyffusion/090524_R2.png\")\n",
    "plt.show()"
   ]
  },
  {
   "cell_type": "markdown",
   "id": "6be36d22-94a9-4c5a-b311-fda844800ad2",
   "metadata": {},
   "source": [
    "## Dev"
   ]
  },
  {
   "cell_type": "code",
   "execution_count": null,
   "id": "b81bf612-2467-4374-8a73-626af3afbbd7",
   "metadata": {},
   "outputs": [],
   "source": [
    "# Get test data\n",
    "test_set = NSTK_FC(\n",
    "   train=False,\n",
    "   step = 16,\n",
    "   Reynolds_number = 12000,\n",
    ")  # load your dataset"
   ]
  },
  {
   "cell_type": "code",
   "execution_count": 12,
   "id": "a042464a-26e6-45e0-8bea-db02165feb12",
   "metadata": {
    "tags": []
   },
   "outputs": [
    {
     "name": "stdout",
     "output_type": "stream",
     "text": [
      "torch.Size([1, 16, 1, 256, 256])\n",
      "{'loss': tensor(6.6766, device='cuda:0', grad_fn=<AddBackward0>), 'train/loss_forward': tensor(6.6772, device='cuda:0', grad_fn=<MeanBackward0>), 'train/loss_forward2': tensor(6.6760, device='cuda:0', grad_fn=<MeanBackward0>)}\n"
     ]
    }
   ],
   "source": [
    "batch = test_set.__getitem__(0)\n",
    "dynamics = batch[\"dynamics\"]\n",
    "print(dynamics.shape)\n",
    "x_first = dynamics[:, 0, ...].to(device=\"cuda\")\n",
    "x_last = dynamics[:, 1, ...].to(device=\"cuda\")\n",
    "# inputs, extra_kwargs = model.get_inputs_and_extra_kwargs(batch, split=\"val\", ensemble=False)\n",
    "# inputs = inputs.to(device=\"cuda\")\n",
    "# print(x_last.shape)\n",
    "# print(inputs.shape)\n",
    "# print(extra_kwargs)\n",
    "# loss = model.model.get_loss(inputs=inputs, targets=x_last, **extra_kwargs)\n",
    "loss = model.model.get_loss(inputs=x_first, targets=x_last)\n",
    "print(loss)"
   ]
  },
  {
   "cell_type": "code",
   "execution_count": null,
   "id": "fea38247-e152-4405-988f-5732ad98a424",
   "metadata": {},
   "outputs": [],
   "source": []
  }
 ],
 "metadata": {
  "kernelspec": {
   "display_name": "dyffusion",
   "language": "python",
   "name": "dyffusion"
  },
  "language_info": {
   "codemirror_mode": {
    "name": "ipython",
    "version": 3
   },
   "file_extension": ".py",
   "mimetype": "text/x-python",
   "name": "python",
   "nbconvert_exporter": "python",
   "pygments_lexer": "ipython3",
   "version": "3.9.16"
  }
 },
 "nbformat": 4,
 "nbformat_minor": 5
}
