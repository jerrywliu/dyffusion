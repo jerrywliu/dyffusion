{
 "cells": [
  {
   "cell_type": "code",
   "execution_count": 1,
   "id": "e232f9ba-c842-45fb-b9b4-e9a2c92a8e0e",
   "metadata": {
    "tags": []
   },
   "outputs": [],
   "source": [
    "# Imports\n",
    "from einops import rearrange, einsum\n",
    "import math\n",
    "import matplotlib.pyplot as plt\n",
    "import numpy as np\n",
    "import torch\n",
    "import torch.nn as nn\n",
    "from torch.nn import functional as F\n",
    "\n",
    "import sys, os\n",
    "\n",
    "# sys.path.append(\"/pscratch/sd/j/jwl50/icl_odes_dev/src/\")"
   ]
  },
  {
   "cell_type": "code",
   "execution_count": 22,
   "id": "10c22713-5001-4620-8d56-fc38caaf377b",
   "metadata": {
    "tags": []
   },
   "outputs": [],
   "source": [
    "import numpy as np\n",
    "import torch\n",
    "import h5py\n",
    "import os\n",
    "import torch.nn.functional as F\n",
    "            \n",
    "class NSTK(torch.utils.data.Dataset):\n",
    "    def __init__(self,\n",
    "                 factor,\n",
    "                 num_pred_steps=1,\n",
    "                 patch_size=256,\n",
    "                 stride = 128,\n",
    "                 train=True,\n",
    "                 scratch_dir='./'):\n",
    "        super(NSTK, self).__init__()\n",
    "        \n",
    "        self.paths = [os.path.join(scratch_dir,'1000_2048_2048_seed_2150.h5'),\n",
    "                      os.path.join(scratch_dir,'8000_2048_2048_seed_2150.h5'),\n",
    "                      os.path.join(scratch_dir,'16000_2048_2048_seed_2150.h5'),\n",
    "                      ]\n",
    "\n",
    "        self.RN = [1000,8000,32000]\n",
    "        \n",
    "        self.factor = factor\n",
    "        self.num_pred_steps = num_pred_steps\n",
    "        self.train = train\n",
    "        self.patch_size = patch_size\n",
    "        self.stride = stride\n",
    "        \n",
    "        with h5py.File(self.paths[0], 'r') as f:\n",
    "            self.data_shape = f['w'].shape\n",
    "\n",
    "        self.max_row = (self.data_shape[1] - self.patch_size) // self.stride + 1\n",
    "        self.max_col = (self.data_shape[2] - self.patch_size) // self.stride + 1    \n",
    "\n",
    "    \n",
    "    def open_hdf5(self):\n",
    "        self.datasets = [h5py.File(path, 'r')['w'] for path in self.paths]\n",
    "        print([dataset.shape for dataset in self.datasets])\n",
    "\n",
    "    def __getitem__(self, index):\n",
    "        if not hasattr(self, 'dataset'):\n",
    "            self.open_hdf5()\n",
    " \n",
    "        shift = np.random.randint(1, self.num_pred_steps, 1)[0]\n",
    "                        \n",
    "        # Select a time index \n",
    "        index = index // 75  \n",
    "        \n",
    "        if self.train:    \n",
    "            index = index * 2\n",
    "        else:\n",
    "            index = index * 2 + 1            \n",
    "            \n",
    "            \n",
    "        # Randomly select a patch from the image\n",
    "\n",
    "        patch_row = np.random.randint(0, self.max_row) * self.stride\n",
    "        patch_col = np.random.randint(0, self.max_col) * self.stride\n",
    "        \n",
    "        #Select one of the training files\n",
    "        random_dataset = np.random.randint(0, len(self.paths))\n",
    "        \n",
    "        Reynolds_number = self.RN[random_dataset]\n",
    "        dataset = self.datasets[random_dataset]\n",
    "        dataset_slice = dataset[:, patch_row:(patch_row + self.patch_size), patch_col:(patch_col + self.patch_size)]\n",
    "        # return dataset_slice, Reynolds_number/40_000.\n",
    "        return dataset\n",
    "            \n",
    "        # patch = torch.from_numpy(dataset[index, patch_row:(patch_row + self.patch_size), patch_col:(patch_col + self.patch_size)]).float().unsqueeze(0) \n",
    "        # future_patch = torch.from_numpy(dataset[index + shift, patch_row:(patch_row + self.patch_size), patch_col:(patch_col + self.patch_size)]).float().unsqueeze(0)            \n",
    "        # lowres_patch = patch[:, ::self.factor, ::self.factor]\n",
    "        # return lowres_patch, patch, future_patch,  F.one_hot(torch.tensor(shift),self.num_pred_steps), torch.tensor(Reynolds_number/40_000.)\n",
    "\n",
    "    def __len__(self):\n",
    "        return  45000 #30000 #self.length      "
   ]
  },
  {
   "cell_type": "code",
   "execution_count": 23,
   "id": "cc20f851-0b4a-45f3-a53d-6d3b056831e7",
   "metadata": {
    "tags": []
   },
   "outputs": [],
   "source": [
    "factor = 4\n",
    "num_pred_steps = 3\n",
    "scratch_dir = \"/global/cfs/cdirs/m4633/foundationmodel/nskt_tensor\""
   ]
  },
  {
   "cell_type": "code",
   "execution_count": 24,
   "id": "8a56cdd3-3a83-4b3c-9a83-a20bf68ed2cd",
   "metadata": {
    "tags": []
   },
   "outputs": [],
   "source": [
    "def load_train_objs(factor, num_pred_steps, scratch_dir):\n",
    "    train_set = NSTK(factor=factor, num_pred_steps=num_pred_steps,\n",
    "                     scratch_dir=scratch_dir)\n",
    "    val_set = NSTK(factor=factor, num_pred_steps=num_pred_steps, train=False,\n",
    "                   scratch_dir=scratch_dir)\n",
    "    return train_set, val_set"
   ]
  },
  {
   "cell_type": "code",
   "execution_count": 25,
   "id": "10ccc653-8c5e-461b-99f1-7c6e2ba07407",
   "metadata": {
    "tags": []
   },
   "outputs": [],
   "source": [
    "train_set, val_set = load_train_objs(factor, num_pred_steps, scratch_dir)"
   ]
  },
  {
   "cell_type": "code",
   "execution_count": 26,
   "id": "f757c181-5987-43bd-92ba-05c94ec6bc04",
   "metadata": {
    "tags": []
   },
   "outputs": [
    {
     "name": "stdout",
     "output_type": "stream",
     "text": [
      "[(1501, 2048, 2048), (1501, 2048, 2048), (1501, 2048, 2048)]\n"
     ]
    }
   ],
   "source": [
    "a = train_set.__getitem__(0)"
   ]
  },
  {
   "cell_type": "code",
   "execution_count": 29,
   "id": "6edd207c-40f8-4bba-bdb9-0f42a49494c6",
   "metadata": {
    "tags": []
   },
   "outputs": [
    {
     "data": {
      "text/plain": [
       "array([[-4.2934012, -4.302176 , -4.3105164, ..., -4.256658 , -4.271743 ,\n",
       "        -4.2835813],\n",
       "       [-4.2780557, -4.2881775, -4.298044 , ..., -4.2388167, -4.254458 ,\n",
       "        -4.26713  ],\n",
       "       [-4.262793 , -4.274328 , -4.285776 , ..., -4.220864 , -4.237121 ,\n",
       "        -4.250693 ],\n",
       "       ...,\n",
       "       [-4.3399734, -4.3451343, -4.3492737, ..., -4.309483 , -4.3232775,\n",
       "        -4.3330336],\n",
       "       [-4.3243566, -4.3306475, -4.33612  , ..., -4.291994 , -4.306154 ,\n",
       "        -4.316532 ],\n",
       "       [-4.3088336, -4.31633  , -4.3232045, ..., -4.2743845, -4.2889752,\n",
       "        -4.3000484]], dtype=float32)"
      ]
     },
     "execution_count": 29,
     "metadata": {},
     "output_type": "execute_result"
    }
   ],
   "source": [
    "a[2]"
   ]
  },
  {
   "cell_type": "code",
   "execution_count": 21,
   "id": "7e7cafba-4438-4043-899c-8c8b2220a0fa",
   "metadata": {
    "tags": []
   },
   "outputs": [
    {
     "data": {
      "text/plain": [
       "(1501, 256, 256)"
      ]
     },
     "execution_count": 21,
     "metadata": {},
     "output_type": "execute_result"
    }
   ],
   "source": [
    "a[0].shape"
   ]
  },
  {
   "cell_type": "code",
   "execution_count": 9,
   "id": "4838553d-b296-451a-98ec-b64e4a004d19",
   "metadata": {
    "tags": []
   },
   "outputs": [
    {
     "name": "stdout",
     "output_type": "stream",
     "text": [
      "(1501, 2048, 2048)\n"
     ]
    }
   ],
   "source": [
    "a = train_set.__getitem__(1)"
   ]
  },
  {
   "cell_type": "code",
   "execution_count": 16,
   "id": "f4ee88ca-3f61-4f2b-ac6a-49b2ed63b14e",
   "metadata": {
    "tags": []
   },
   "outputs": [
    {
     "data": {
      "text/plain": [
       "torch.Size([1, 64, 64])"
      ]
     },
     "execution_count": 16,
     "metadata": {},
     "output_type": "execute_result"
    }
   ],
   "source": [
    "a[0].shape"
   ]
  },
  {
   "cell_type": "code",
   "execution_count": 18,
   "id": "7624742a-7d63-42d2-9cc1-e74c94f27751",
   "metadata": {
    "tags": []
   },
   "outputs": [
    {
     "data": {
      "text/plain": [
       "torch.Size([1, 256, 256])"
      ]
     },
     "execution_count": 18,
     "metadata": {},
     "output_type": "execute_result"
    }
   ],
   "source": [
    "a[1].shape"
   ]
  },
  {
   "cell_type": "code",
   "execution_count": 20,
   "id": "e87a6d4a-5991-41ea-85a6-23fb052f5240",
   "metadata": {
    "tags": []
   },
   "outputs": [
    {
     "data": {
      "text/plain": [
       "torch.Size([1, 256, 256])"
      ]
     },
     "execution_count": 20,
     "metadata": {},
     "output_type": "execute_result"
    }
   ],
   "source": [
    "a[2].shape"
   ]
  },
  {
   "cell_type": "code",
   "execution_count": 21,
   "id": "3d9bb00e-4cbf-4974-8072-4e3c5a24dda8",
   "metadata": {
    "tags": []
   },
   "outputs": [
    {
     "data": {
      "text/plain": [
       "tensor([0, 0, 1])"
      ]
     },
     "execution_count": 21,
     "metadata": {},
     "output_type": "execute_result"
    }
   ],
   "source": [
    "a[3]"
   ]
  },
  {
   "cell_type": "code",
   "execution_count": 22,
   "id": "b928ee64-daa5-47de-ba6a-10ff92d18cb2",
   "metadata": {
    "tags": []
   },
   "outputs": [
    {
     "data": {
      "text/plain": [
       "tensor(0.2000)"
      ]
     },
     "execution_count": 22,
     "metadata": {},
     "output_type": "execute_result"
    }
   ],
   "source": [
    "a[4]"
   ]
  },
  {
   "cell_type": "code",
   "execution_count": 4,
   "id": "7b212798-a5fb-4427-9a21-124e9f0272d4",
   "metadata": {
    "tags": []
   },
   "outputs": [],
   "source": [
    "def load_train_objs(args):\n",
    "    train_set = NSTK(factor=args.factor, num_pred_steps=args.num_pred_steps,\n",
    "                     scratch_dir=args.scratch_dir)\n",
    "    val_set = NSTK(factor=args.factor, num_pred_steps=args.num_pred_steps,train=False,\n",
    "                   scratch_dir=args.scratch_dir)\n",
    "    \n",
    "    unet_model,lowres_head,future_head = UNet(image_size=256, in_channels=1, out_channels=1, \n",
    "                                            base_width=args.base_width,\n",
    "                                            num_pred_steps=args.num_pred_steps,\n",
    "                                            Reynolds_number=True)\n",
    "    \n",
    "    \n",
    "    model = GaussianDiffusionModel(base_model=unet_model.cuda(),\n",
    "                                   lowres_model = lowres_head.cuda(),\n",
    "                                   forecast_model = future_head.cuda(),\n",
    "                                   betas=(1e-4, 0.02),\n",
    "                                   n_T=args.time_steps, \n",
    "                                   prediction_type = args.prediction_type, \n",
    "                                   sampler = args.sampler)\n",
    "    \n",
    "    \n",
    "    optimizer = torch.optim.Adam(model.parameters(), lr=args.learning_rate)\n",
    "    return train_set,val_set, model, optimizer"
   ]
  },
  {
   "cell_type": "code",
   "execution_count": null,
   "id": "6bbc6b9b-9477-4847-8c9d-ce4a0b82753b",
   "metadata": {},
   "outputs": [],
   "source": []
  }
 ],
 "metadata": {
  "kernelspec": {
   "display_name": "icon",
   "language": "python",
   "name": "icon"
  },
  "language_info": {
   "codemirror_mode": {
    "name": "ipython",
    "version": 3
   },
   "file_extension": ".py",
   "mimetype": "text/x-python",
   "name": "python",
   "nbconvert_exporter": "python",
   "pygments_lexer": "ipython3",
   "version": "3.9.18"
  }
 },
 "nbformat": 4,
 "nbformat_minor": 5
}
